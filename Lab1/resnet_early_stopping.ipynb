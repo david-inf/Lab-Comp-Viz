{
 "cells": [
  {
   "cell_type": "code",
   "execution_count": 1,
   "id": "134f54cb-f88b-4330-be79-8bc2d39c80a0",
   "metadata": {},
   "outputs": [
    {
     "name": "stdout",
     "output_type": "stream",
     "text": [
      "Device: cuda\n"
     ]
    }
   ],
   "source": [
    "import time\n",
    "import numpy as np\n",
    "import matplotlib.pyplot as plt\n",
    "\n",
    "import torch\n",
    "import torch.nn as nn\n",
    "import torch.optim as optim\n",
    "import torchvision\n",
    "import torchvision.transforms as transforms\n",
    "from torchvision import models\n",
    "# from torchinfo import summary\n",
    "from torch.optim.lr_scheduler import ExponentialLR, MultiStepLR\n",
    "\n",
    "device = \"cuda\" if torch.cuda.is_available() else \"cpu\"\n",
    "print(f\"Device: {device}\")"
   ]
  },
  {
   "cell_type": "code",
   "execution_count": 24,
   "id": "420b489c-921f-4256-a6b9-6b6ed1d3d8ba",
   "metadata": {},
   "outputs": [],
   "source": [
    "from lab1_utils import train_loop_sched, count_trainable_parameters, save_to_json\n",
    "from lab1_utils import train, test\n",
    "from lab1_utils import train, test, get_lr\n",
    "from lab1_utils import multiple_diagnostic, test_class, simple_diagnostic"
   ]
  },
  {
   "cell_type": "code",
   "execution_count": 3,
   "id": "cdd4edd3-7f1a-49f2-99ea-aabf9effe56b",
   "metadata": {},
   "outputs": [],
   "source": [
    "classes = ('plane', 'car', 'bird', 'cat', 'deer', 'dog', 'frog', 'horse', 'ship', 'truck')\n",
    "\n",
    "# batch_size = 64\n",
    "batch_size = 128\n",
    "max_epochs = 30\n",
    "\n",
    "opt_dict = dict(lr=0.001, momentum=0.9, nesterov=True, weight_decay=5e-4)\n",
    "\n",
    "criterion = nn.CrossEntropyLoss()"
   ]
  },
  {
   "cell_type": "code",
   "execution_count": 4,
   "id": "652aa23e-dcfe-4004-9363-d94a624f5f44",
   "metadata": {},
   "outputs": [
    {
     "name": "stdout",
     "output_type": "stream",
     "text": [
      "Files already downloaded and verified\n",
      "Files already downloaded and verified\n"
     ]
    }
   ],
   "source": [
    "transform_train = transforms.Compose([\n",
    "    transforms.RandomCrop(32, padding=4),  # some augmentation\n",
    "    transforms.RandomHorizontalFlip(),\n",
    "    transforms.ToTensor(),\n",
    "    transforms.Normalize((0.4914, 0.4822, 0.4465), (0.2023, 0.1994, 0.2010)),\n",
    "    # transforms.Resize(224)\n",
    "])\n",
    "\n",
    "transform_test = transforms.Compose([\n",
    "    transforms.ToTensor(),\n",
    "    transforms.Normalize((0.4914, 0.4822, 0.4465), (0.2023, 0.1994, 0.2010)),\n",
    "    # transforms.Resize(224)\n",
    "])\n",
    "\n",
    "dataset = torchvision.datasets.CIFAR10(root='./data', train=True,\n",
    "                                        download=True, transform=transform_train)\n",
    "\n",
    "# create a split for train/validation. We can use early stop\n",
    "trainset, valset = torch.utils.data.random_split(dataset, [40000, 10000])\n",
    "\n",
    "trainloader = torch.utils.data.DataLoader(trainset, batch_size=batch_size, shuffle=True, num_workers=2,\n",
    "                                          drop_last=True, pin_memory=True)\n",
    "valloader = torch.utils.data.DataLoader(valset, batch_size=batch_size, shuffle=False, num_workers=2,\n",
    "                                        drop_last=False, pin_memory=True)\n",
    "\n",
    "testset = torchvision.datasets.CIFAR10(root='./data', train=False, download=True, transform=transform_test)\n",
    "testloader = torch.utils.data.DataLoader(testset, batch_size=batch_size, shuffle=False, num_workers=2,\n",
    "                                         drop_last=False, pin_memory=True)"
   ]
  },
  {
   "cell_type": "markdown",
   "id": "4e2f151c-7040-43dc-a697-5e3a4865fdd2",
   "metadata": {},
   "source": [
    "# `ResNet18` training"
   ]
  },
  {
   "cell_type": "code",
   "execution_count": 5,
   "id": "c63b2c87-c3cd-49a8-9aa5-40351d38ea2e",
   "metadata": {},
   "outputs": [],
   "source": [
    "loss_acc_dict = {}"
   ]
  },
  {
   "cell_type": "code",
   "execution_count": 42,
   "id": "d28496f6-23e3-4be8-8b00-45435606bdb1",
   "metadata": {},
   "outputs": [
    {
     "name": "stdout",
     "output_type": "stream",
     "text": [
      "Trainable parameters: 11181642\n"
     ]
    }
   ],
   "source": [
    "resnet18 = models.resnet18(weights=\"DEFAULT\")\n",
    "\n",
    "resnet18.fc = nn.Linear(resnet18.fc.in_features, 10)\n",
    "resnet18 = resnet18.to(device)\n",
    "\n",
    "optimizer = optim.SGD(resnet18.parameters(), **opt_dict)\n",
    "\n",
    "# print(summary(resnet18))\n",
    "print(f\"Trainable parameters: {count_trainable_parameters(resnet18)}\")"
   ]
  },
  {
   "cell_type": "code",
   "execution_count": 28,
   "id": "06c6f76d-411c-4c07-9769-6bec0cc6e761",
   "metadata": {},
   "outputs": [],
   "source": [
    "losses_train, accs_train = [], []\n",
    "losses_val, accs_val = [], []"
   ]
  },
  {
   "cell_type": "code",
   "execution_count": null,
   "id": "b6e17500-2f94-4b12-92cc-9c7b72425834",
   "metadata": {},
   "outputs": [],
   "source": [
    "best_acc = 0.  # validation set best accuracy\n",
    "model_state_dict = None  # model weights"
   ]
  },
  {
   "cell_type": "code",
   "execution_count": 29,
   "id": "57d75e7a-b0b9-49b2-8dfe-3a4fbe15750c",
   "metadata": {
    "scrolled": true
   },
   "outputs": [
    {
     "name": "stdout",
     "output_type": "stream",
     "text": [
      "Epoch: 1, Learning rate: 0.001000\n",
      "Training - Loss: 0.5627, Accuracy: 0.802, Runtime: 13.98\n",
      "Validation - Loss: 0.6238, Accuracy: 0.783\n",
      "Updated best accuracy at epoch 1\n",
      "Best validation accuracy: 0.783\n",
      "=======\n",
      "Epoch: 2, Learning rate: 0.001000\n",
      "Training - Loss: 0.5313, Accuracy: 0.811, Runtime: 14.06\n",
      "Validation - Loss: 0.6358, Accuracy: 0.784\n",
      "Updated best accuracy at epoch 2\n",
      "Best validation accuracy: 0.784\n",
      "=======\n",
      "Epoch: 3, Learning rate: 0.001000\n",
      "Training - Loss: 0.5110, Accuracy: 0.819, Runtime: 13.70\n",
      "Validation - Loss: 0.6075, Accuracy: 0.792\n",
      "Updated best accuracy at epoch 3\n",
      "Best validation accuracy: 0.792\n",
      "=======\n",
      "Epoch: 4, Learning rate: 0.001000\n",
      "Training - Loss: 0.4869, Accuracy: 0.828, Runtime: 14.02\n",
      "Validation - Loss: 0.6018, Accuracy: 0.799\n",
      "Updated best accuracy at epoch 4\n",
      "Best validation accuracy: 0.799\n",
      "=======\n",
      "Epoch: 5, Learning rate: 0.001000\n",
      "Training - Loss: 0.4651, Accuracy: 0.837, Runtime: 13.93\n",
      "Validation - Loss: 0.5915, Accuracy: 0.799\n",
      "Updated best accuracy at epoch 5\n",
      "Best validation accuracy: 0.799\n",
      "=======\n",
      "Done! - Runtime: 108.33 seconds\n"
     ]
    }
   ],
   "source": [
    "_start = time.time()\n",
    "_epoch_time = time.time()\n",
    "\n",
    "# epoch number only for logging\n",
    "for epoch in range(1, 5 + 1):\n",
    "    ## Training\n",
    "    loss_train, acc_train = train(resnet18, device, trainloader, criterion, optimizer)\n",
    "\n",
    "    print(f\"Epoch: {epoch}, Learning rate: {get_lr(optimizer):.6f}\")\n",
    "    print(f\"Training - Loss: {loss_train:.4f}, Accuracy: {acc_train:.3f}, Runtime: {(time.time() - _epoch_time):.2f}\")\n",
    "\n",
    "    losses_train.append(loss_train)\n",
    "    accs_train.append(acc_train)\n",
    "\n",
    "    # Learning rate scheduler\n",
    "    # if scheduler is not None:\n",
    "        # scheduler.step()\n",
    "    \n",
    "    ## Validation\n",
    "    loss_val, acc_val = test(resnet18, device, criterion, valloader)\n",
    "\n",
    "    losses_val.append(loss_val)\n",
    "    accs_val.append(acc_val)\n",
    "\n",
    "    print(f\"Validation - Loss: {loss_val:.4f}, Accuracy: {acc_val:.3f}\")\n",
    "\n",
    "    if acc_val > best_acc:\n",
    "        print(f\"Updated best accuracy at epoch {epoch}\")\n",
    "        best_acc = acc_val\n",
    "        model_state_dict = resnet18.state_dict()\n",
    "    print(f\"Best validation accuracy: {best_acc:.3f}\")\n",
    "\n",
    "    _epoch_time = time.time()\n",
    "    print(\"=======\")\n",
    "\n",
    "_end = time.time()\n",
    "print(f\"Done! - Runtime: {(_end-_start):.2f} seconds\")"
   ]
  },
  {
   "cell_type": "code",
   "execution_count": 37,
   "id": "84e2364a-be3b-465f-a30f-c34548e59f03",
   "metadata": {},
   "outputs": [],
   "source": [
    "resnet18_best = models.resnet18()\n",
    "resnet18_best.fc = nn.Linear(resnet18_best.fc.in_features, 10)\n",
    "\n",
    "resnet18_best.load_state_dict(model_state_dict)\n",
    "\n",
    "resnet18_best = resnet18_best.to(device)"
   ]
  },
  {
   "cell_type": "code",
   "execution_count": 43,
   "id": "ebb67a7d-8e5c-4c70-ab32-c2d7544ad5db",
   "metadata": {},
   "outputs": [
    {
     "name": "stdout",
     "output_type": "stream",
     "text": [
      "Test loss: 2.4387, test accuracy 0.086\n",
      "Test loss: 0.5716, test accuracy 0.808\n"
     ]
    }
   ],
   "source": [
    "loss_test, acc_test = test(resnet18, device, criterion, testloader)\n",
    "print(f\"Test loss: {loss_test:.4f}, test accuracy {acc_test:.3f}\")\n",
    "\n",
    "loss_test, acc_test = test(resnet18_best, device, criterion, testloader)\n",
    "print(f\"Test loss: {loss_test:.4f}, test accuracy {acc_test:.3f}\")"
   ]
  },
  {
   "cell_type": "code",
   "execution_count": 20,
   "id": "16b6c1ff-16de-4175-a704-9676e16fddbf",
   "metadata": {},
   "outputs": [
    {
     "name": "stdout",
     "output_type": "stream",
     "text": [
      "Final loss: 0.6163, Accuracy: 0.788\n",
      "-------\n",
      "Accuracy for class: plane is 85.2 %\n",
      "Accuracy for class: car   is 85.8 %\n",
      "Accuracy for class: bird  is 68.0 %\n",
      "Accuracy for class: cat   is 60.2 %\n",
      "Accuracy for class: deer  is 79.3 %\n",
      "Accuracy for class: dog   is 70.2 %\n",
      "Accuracy for class: frog  is 86.2 %\n",
      "Accuracy for class: horse is 80.8 %\n",
      "Accuracy for class: ship  is 87.1 %\n",
      "Accuracy for class: truck is 88.0 %\n"
     ]
    }
   ],
   "source": [
    "test_class(resnet18, device, criterion, testloader, classes)"
   ]
  },
  {
   "cell_type": "code",
   "execution_count": 17,
   "id": "cdca39b9-edb5-4c2c-869f-84ce924b917e",
   "metadata": {},
   "outputs": [],
   "source": [
    "def early_stopping_diagnostic(accs_train, accs_val, fig_title=\"\"):\n",
    "    # accs_train, accs_val of type list\n",
    "    max_epochs = len(accs_train)\n",
    "    epochs_seq = np.arange(1, max_epochs + 1)\n",
    "\n",
    "    # plot only training loss and accuracy\n",
    "    fig, ax = plt.subplots()\n",
    "    # fig.suptitle(\"Training performance\")\n",
    "    fig.suptitle(fig_title)\n",
    "\n",
    "    ax.plot(epochs_seq, accs_train, label=\"Train\")\n",
    "    ax.plot(epochs_seq, accs_val, label=\"Val\")\n",
    "    ax.grid(\"both\")\n",
    "    ax.set_xlabel(\"Epochs\")\n",
    "    ax.set_ylabel(\"Accuracy\")\n",
    "    ax.tick_params(axis=\"y\")\n",
    "    ax.set_xticks(np.arange(1, max_epochs+1, step=4))\n",
    "    ax.set_xticklabels(np.arange(1, max_epochs + 1, 4))\n",
    "    ax.legend()"
   ]
  },
  {
   "cell_type": "code",
   "execution_count": 45,
   "id": "16c686f3-a5a7-4b26-8bc6-87139d33628d",
   "metadata": {},
   "outputs": [
    {
     "data": {
      "image/png": "[encoded data removed]",
      "text/plain": [
       "<Figure size 640x480 with 1 Axes>"
      ]
     },
     "metadata": {},
     "output_type": "display_data"
    }
   ],
   "source": [
    "early_stopping_diagnostic(accs_train, accs_val)"
   ]
  },
  {
   "cell_type": "code",
   "execution_count": 46,
   "id": "4d45720c-81d2-4161-832b-0c7b35d32e21",
   "metadata": {},
   "outputs": [],
   "source": [
    "from lab1_utils import save_to_json\n",
    "\n",
    "seq_dict = {\"ResNet18\": [losses_train, accs_train, losses_val, accs_val]}\n",
    "save_to_json(seq_dict, \"resnet18_early_stopping.json\")"
   ]
  },
  {
   "cell_type": "markdown",
   "id": "a3b7c8ee-b528-4e2d-91af-4167d1c3a3ba",
   "metadata": {},
   "source": [
    "# Final results"
   ]
  },
  {
   "cell_type": "code",
   "execution_count": 15,
   "id": "f39530b7-ce55-477f-9a88-2ea2c457c91a",
   "metadata": {},
   "outputs": [],
   "source": [
    "import json\n",
    "\n",
    "with open('./plots/resnet18_early_stopping.json', 'r') as file:\n",
    "    loaded_results = json.load(file)"
   ]
  },
  {
   "cell_type": "code",
   "execution_count": 21,
   "id": "d32d583c-4e1d-4283-837b-f4ea0c649ee9",
   "metadata": {},
   "outputs": [
    {
     "name": "stdout",
     "output_type": "stream",
     "text": [
      "Best epoch: 41\n"
     ]
    }
   ],
   "source": [
    "print(f\"Best epoch: {np.argmax(loaded_results['ResNet18'][3])}\")"
   ]
  },
  {
   "cell_type": "code",
   "execution_count": 19,
   "id": "e7213f7a-585e-44ce-bc4b-46bc8f11847e",
   "metadata": {},
   "outputs": [
    {
     "data": {
      "image/png": "[encoded data removed]",
      "text/plain": [
       "<Figure size 640x480 with 1 Axes>"
      ]
     },
     "metadata": {},
     "output_type": "display_data"
    }
   ],
   "source": [
    "import numpy as np\n",
    "import matplotlib.pyplot as plt\n",
    "early_stopping_diagnostic(loaded_results['ResNet18'][1], loaded_results['ResNet18'][3])\n",
    "plt.savefig(\"./plots/resnet-early_stopping.pdf\")"
   ]
  }
 ],
 "metadata": {
  "kernelspec": {
   "display_name": "Python 3 (ipykernel)",
   "language": "python",
   "name": "python3"
  },
  "language_info": {
   "codemirror_mode": {
    "name": "ipython",
    "version": 3
   },
   "file_extension": ".py",
   "mimetype": "text/x-python",
   "name": "python",
   "nbconvert_exporter": "python",
   "pygments_lexer": "ipython3",
   "version": "3.9.20"
  }
 },
 "nbformat": 4,
 "nbformat_minor": 5
}
