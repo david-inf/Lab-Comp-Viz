{
 "cells": [
  {
   "cell_type": "markdown",
   "id": "f2e9a61c-30db-42b6-8bdc-750160f8a58b",
   "metadata": {},
   "source": [
    "# Utils"
   ]
  },
  {
   "cell_type": "code",
   "execution_count": 2,
   "id": "57a3648c-7c20-4cff-98df-bb522cf221c4",
   "metadata": {},
   "outputs": [
    {
     "name": "stdout",
     "output_type": "stream",
     "text": [
      "cuda\n"
     ]
    }
   ],
   "source": [
    "import random\n",
    "import time\n",
    "import numpy as np\n",
    "import matplotlib.pyplot as plt\n",
    "\n",
    "import torch\n",
    "import torch.nn as nn\n",
    "import torch.optim as optim\n",
    "import torchvision\n",
    "import torchvision.transforms as transforms\n",
    "from torchinfo import summary\n",
    "\n",
    "device = \"cuda\" if torch.cuda.is_available() else \"cpu\"\n",
    "print(device)"
   ]
  },
  {
   "cell_type": "code",
   "execution_count": 3,
   "id": "54f03b81-197b-4361-8294-28333df5a1c1",
   "metadata": {},
   "outputs": [],
   "source": [
    "classes = ('plane', 'car', 'bird', 'cat', 'deer', 'dog', 'frog', 'horse', 'ship', 'truck')\n",
    "from lab1_utils import train_loop, train, test, get_lr\n",
    "from lab1_utils import multiple_diagnostic, test_class"
   ]
  },
  {
   "cell_type": "markdown",
   "id": "d299f017-f98b-47ab-98f0-9e0b8c7d7f83",
   "metadata": {},
   "source": [
    "Define a basic network"
   ]
  },
  {
   "cell_type": "code",
   "execution_count": 24,
   "id": "f7e018a4-f477-4bca-bea8-d7a51a9c11d8",
   "metadata": {},
   "outputs": [],
   "source": [
    "class Net(nn.Module):\n",
    "    def __init__(self):\n",
    "        super().__init__()\n",
    "        self.conv1 = nn.Conv2d(3, 16, 3)\n",
    "        self.pool = nn.MaxPool2d(2)\n",
    "        self.conv2 = nn.Conv2d(16, 32, 3)\n",
    "        self.conv3 = nn.Conv2d(32, 64, 3)\n",
    "        self.fc1 = nn.Linear(64 * 11 * 11, 64)\n",
    "        self.fc2 = nn.Linear(64, 10)\n",
    "        self.relu = nn.ReLU()\n",
    "\n",
    "    def forward(self, x):\n",
    "        x = self.pool(self.relu(self.conv1(x)))\n",
    "        x = self.relu(self.conv2(x))\n",
    "        x = self.relu(self.conv3(x))\n",
    "        # print(x.shape)\n",
    "        x = torch.flatten(x, 1)\n",
    "        x = self.relu(self.fc1(x))\n",
    "        x = self.fc2(x)  # logits\n",
    "        return x"
   ]
  },
  {
   "cell_type": "code",
   "execution_count": 25,
   "id": "1894fb93-7efa-4f91-ab56-65055821cc68",
   "metadata": {
    "collapsed": true,
    "jupyter": {
     "outputs_hidden": true
    },
    "scrolled": true
   },
   "outputs": [
    {
     "name": "stdout",
     "output_type": "stream",
     "text": [
      "=================================================================\n",
      "Layer (type:depth-idx)                   Param #\n",
      "=================================================================\n",
      "Net                                      --\n",
      "├─Conv2d: 1-1                            448\n",
      "├─MaxPool2d: 1-2                         --\n",
      "├─Conv2d: 1-3                            4,640\n",
      "├─Conv2d: 1-4                            18,496\n",
      "├─Linear: 1-5                            495,680\n",
      "├─Linear: 1-6                            650\n",
      "├─ReLU: 1-7                              --\n",
      "=================================================================\n",
      "Total params: 519,914\n",
      "Trainable params: 519,914\n",
      "Non-trainable params: 0\n",
      "=================================================================\n"
     ]
    },
    {
     "data": {
      "text/plain": [
       "tensor([[ 0.0860, -0.0713, -0.0303, -0.0329, -0.0196, -0.0571,  0.0900, -0.0846,\n",
       "         -0.0919,  0.0886]], grad_fn=<AddmmBackward0>)"
      ]
     },
     "execution_count": 25,
     "metadata": {},
     "output_type": "execute_result"
    }
   ],
   "source": [
    "mod = Net()\n",
    "print(summary(mod))\n",
    "mod(torch.rand(1, 3, 32, 32))"
   ]
  },
  {
   "cell_type": "markdown",
   "id": "66c58653-649e-4b65-a5f8-e9cbcace3e07",
   "metadata": {},
   "source": [
    "# Exercise 0"
   ]
  },
  {
   "cell_type": "code",
   "execution_count": 26,
   "id": "a7e3a61a-ff55-4a25-b69b-e6eb286eb0a7",
   "metadata": {},
   "outputs": [
    {
     "name": "stdout",
     "output_type": "stream",
     "text": [
      "Files already downloaded and verified\n",
      "Files already downloaded and verified\n"
     ]
    }
   ],
   "source": [
    "# without normalization\n",
    "transform = transforms.Compose([transforms.ToTensor()])\n",
    "\n",
    "batch_size = 64\n",
    "\n",
    "trainset = torchvision.datasets.CIFAR10(root='./data', train=True, download=True, transform=transform)\n",
    "testset = torchvision.datasets.CIFAR10(root='./data', train=False, download=True, transform=transform)\n",
    "\n",
    "trainloader = torch.utils.data.DataLoader(trainset, batch_size=batch_size, shuffle=True, num_workers=2)\n",
    "testloader = torch.utils.data.DataLoader(testset, batch_size=batch_size, shuffle=False, num_workers=2)"
   ]
  },
  {
   "cell_type": "code",
   "execution_count": 27,
   "id": "354b1900-f412-4ab5-90ac-9384bdef415a",
   "metadata": {},
   "outputs": [
    {
     "name": "stdout",
     "output_type": "stream",
     "text": [
      "Samples 50000\n",
      "Mean tensor([0.4914, 0.4822, 0.4465])\n",
      "Std tensor([0.2023, 0.1994, 0.2010])\n"
     ]
    }
   ],
   "source": [
    "mean = torch.zeros(3)  # a mean for each channel, here 1\n",
    "std = torch.zeros(3)  # a std for each channel, here 1\n",
    "samples = 0\n",
    "\n",
    "# simple because we only have one channel, that is greyscale\n",
    "for X, y in trainloader:\n",
    "    # width and height over one dimension\n",
    "    X = torch.flatten(X, 2, 3)\n",
    "    # [batch_size, 3, 28*28]\n",
    "    # compute mean and std over each channel then sum and store\n",
    "    mean += X.mean(2).sum(0)\n",
    "    std += X.std(2).sum(0)\n",
    "    samples += X.size(0)\n",
    "\n",
    "print(f\"Samples {samples}\")\n",
    "mean /= samples\n",
    "print(f\"Mean {mean}\")\n",
    "std /= samples\n",
    "print(f\"Std {std}\")"
   ]
  },
  {
   "cell_type": "code",
   "execution_count": 28,
   "id": "cccd1d81-79f3-4055-869e-cbd3c27e9d85",
   "metadata": {},
   "outputs": [
    {
     "name": "stdout",
     "output_type": "stream",
     "text": [
      "Files already downloaded and verified\n",
      "Files already downloaded and verified\n"
     ]
    }
   ],
   "source": [
    "# normalize data correctly\n",
    "transform = transforms.Compose(\n",
    "    [transforms.ToTensor(), transforms.Normalize(mean, std)])\n",
    "\n",
    "trainset = torchvision.datasets.CIFAR10(root='./data', train=True, download=True, transform=transform)\n",
    "testset = torchvision.datasets.CIFAR10(root='./data', train=False, download=True, transform=transform)\n",
    "\n",
    "trainloader = torch.utils.data.DataLoader(trainset, batch_size=batch_size, shuffle=True, num_workers=2)\n",
    "testloader = torch.utils.data.DataLoader(testset, batch_size=batch_size, shuffle=False, num_workers=2)"
   ]
  },
  {
   "cell_type": "markdown",
   "id": "c8da6698-14c2-4779-9a8c-4bf5d3e745a4",
   "metadata": {},
   "source": [
    "# Exercise 1\n",
    "Learning rate scheduler"
   ]
  },
  {
   "cell_type": "code",
   "execution_count": 29,
   "id": "6d959842-a9b4-4eec-b322-e5789ad382b4",
   "metadata": {},
   "outputs": [],
   "source": [
    "from torch.optim.lr_scheduler import MultiStepLR\n",
    "from torch.optim.lr_scheduler import ExponentialLR\n",
    "from torch.optim.lr_scheduler import CosineAnnealingLR"
   ]
  },
  {
   "cell_type": "code",
   "execution_count": 30,
   "id": "fe7d24c8-0026-4951-b2ab-d4f457846c3e",
   "metadata": {},
   "outputs": [],
   "source": [
    "max_epochs = 20"
   ]
  },
  {
   "cell_type": "code",
   "execution_count": 31,
   "id": "83cb8cf5-921d-45d0-bfbe-755b37759c6e",
   "metadata": {},
   "outputs": [],
   "source": [
    "es1_loss_acc = {}  # {\"Solver1\": [loss, acc]}\n",
    "criterion = torch.nn.CrossEntropyLoss()  # input requires logits"
   ]
  },
  {
   "cell_type": "markdown",
   "id": "a522f530-284d-461f-b56b-503314e0cb58",
   "metadata": {},
   "source": [
    "## Basic training"
   ]
  },
  {
   "cell_type": "code",
   "execution_count": 32,
   "id": "3e862f94-7b98-4840-8b4c-d8f44108f336",
   "metadata": {
    "collapsed": true,
    "jupyter": {
     "outputs_hidden": true
    },
    "scrolled": true
   },
   "outputs": [
    {
     "name": "stdout",
     "output_type": "stream",
     "text": [
      "Epoch: 1, Learning rate: 0.001000\n",
      "Training - Loss: 1.9600, Accuracy: 0.29, Runtime: 7.08\n",
      "Test - Loss: 1.6626, Accuracy: 0.39\n",
      "Epoch: 2, Learning rate: 0.001000\n",
      "Training - Loss: 1.5321, Accuracy: 0.45, Runtime: 7.18\n",
      "Test - Loss: 1.4211, Accuracy: 0.49\n",
      "Epoch: 3, Learning rate: 0.001000\n",
      "Training - Loss: 1.3661, Accuracy: 0.51, Runtime: 7.29\n",
      "Test - Loss: 1.3124, Accuracy: 0.53\n",
      "Epoch: 4, Learning rate: 0.001000\n",
      "Training - Loss: 1.2689, Accuracy: 0.55, Runtime: 7.05\n",
      "Test - Loss: 1.2187, Accuracy: 0.57\n",
      "Epoch: 5, Learning rate: 0.001000\n",
      "Training - Loss: 1.1809, Accuracy: 0.58, Runtime: 7.08\n",
      "Test - Loss: 1.1732, Accuracy: 0.58\n",
      "Epoch: 6, Learning rate: 0.001000\n",
      "Training - Loss: 1.1091, Accuracy: 0.61, Runtime: 7.07\n",
      "Test - Loss: 1.0933, Accuracy: 0.61\n",
      "Epoch: 7, Learning rate: 0.001000\n",
      "Training - Loss: 1.0442, Accuracy: 0.63, Runtime: 7.20\n",
      "Test - Loss: 1.0758, Accuracy: 0.62\n",
      "Epoch: 8, Learning rate: 0.001000\n",
      "Training - Loss: 0.9781, Accuracy: 0.66, Runtime: 7.23\n",
      "Test - Loss: 1.0037, Accuracy: 0.65\n",
      "Epoch: 9, Learning rate: 0.001000\n",
      "Training - Loss: 0.9244, Accuracy: 0.68, Runtime: 7.06\n",
      "Test - Loss: 0.9773, Accuracy: 0.66\n",
      "Epoch: 10, Learning rate: 0.001000\n",
      "Training - Loss: 0.8698, Accuracy: 0.70, Runtime: 7.23\n",
      "Test - Loss: 0.9418, Accuracy: 0.67\n",
      "Epoch: 11, Learning rate: 0.001000\n",
      "Training - Loss: 0.8215, Accuracy: 0.72, Runtime: 8.20\n",
      "Test - Loss: 0.9361, Accuracy: 0.67\n",
      "Epoch: 12, Learning rate: 0.001000\n",
      "Training - Loss: 0.7698, Accuracy: 0.73, Runtime: 7.01\n",
      "Test - Loss: 0.9001, Accuracy: 0.69\n",
      "Epoch: 13, Learning rate: 0.001000\n",
      "Training - Loss: 0.7237, Accuracy: 0.75, Runtime: 7.14\n",
      "Test - Loss: 0.8890, Accuracy: 0.69\n",
      "Epoch: 14, Learning rate: 0.001000\n",
      "Training - Loss: 0.6823, Accuracy: 0.76, Runtime: 7.07\n",
      "Test - Loss: 0.8755, Accuracy: 0.70\n",
      "Epoch: 15, Learning rate: 0.001000\n",
      "Training - Loss: 0.6368, Accuracy: 0.78, Runtime: 7.08\n",
      "Test - Loss: 0.8921, Accuracy: 0.69\n",
      "Epoch: 16, Learning rate: 0.001000\n",
      "Training - Loss: 0.5975, Accuracy: 0.79, Runtime: 7.11\n",
      "Test - Loss: 0.8811, Accuracy: 0.70\n",
      "Epoch: 17, Learning rate: 0.001000\n",
      "Training - Loss: 0.5565, Accuracy: 0.81, Runtime: 7.11\n",
      "Test - Loss: 0.9013, Accuracy: 0.70\n",
      "Epoch: 18, Learning rate: 0.001000\n",
      "Training - Loss: 0.5157, Accuracy: 0.82, Runtime: 7.07\n",
      "Test - Loss: 0.9390, Accuracy: 0.69\n",
      "Epoch: 19, Learning rate: 0.001000\n",
      "Training - Loss: 0.4744, Accuracy: 0.83, Runtime: 7.07\n",
      "Test - Loss: 0.9321, Accuracy: 0.70\n",
      "Epoch: 20, Learning rate: 0.001000\n",
      "Training - Loss: 0.4296, Accuracy: 0.85, Runtime: 7.09\n",
      "Test - Loss: 1.0285, Accuracy: 0.68\n",
      "Done! - Runtime: 237.17 seconds\n",
      "Accuracy for class: plane is 73.6 %\n",
      "Accuracy for class: car   is 72.2 %\n",
      "Accuracy for class: bird  is 62.0 %\n",
      "Accuracy for class: cat   is 54.9 %\n",
      "Accuracy for class: deer  is 57.2 %\n",
      "Accuracy for class: dog   is 50.7 %\n",
      "Accuracy for class: frog  is 65.0 %\n",
      "Accuracy for class: horse is 70.1 %\n",
      "Accuracy for class: ship  is 90.1 %\n",
      "Accuracy for class: truck is 83.1 %\n"
     ]
    }
   ],
   "source": [
    "model1 = Net()\n",
    "model1.to(device)\n",
    "\n",
    "model1_dict = dict(model=model1, criterion=criterion, device=device, lr=0.001, momentum=0.9,\n",
    "                   max_epochs=max_epochs, do_test=True)\n",
    "\n",
    "stats = train_loop(trainloader, testloader, **model1_dict)\n",
    "\n",
    "es1_loss_acc[\"SGD\"] = [stats[0], stats[3]]\n",
    "\n",
    "test_class(model1, device, criterion, testloader, classes)"
   ]
  },
  {
   "cell_type": "code",
   "execution_count": 29,
   "id": "874d59de-6bc2-4f3d-bd04-7624a0b9234b",
   "metadata": {
    "collapsed": true,
    "jupyter": {
     "outputs_hidden": true,
     "source_hidden": true
    },
    "scrolled": true
   },
   "outputs": [
    {
     "data": {
      "image/png": "[encoded data removed]",
      "text/plain": [
       "<Figure size 640x480 with 2 Axes>"
      ]
     },
     "metadata": {},
     "output_type": "display_data"
    }
   ],
   "source": [
    "simple_diagnostic(max_epochs, stats[0], stats[1])\n",
    "plt.savefig(\"./plots/es1-sgd.pdf\")"
   ]
  },
  {
   "cell_type": "markdown",
   "id": "8ddfb17f-319f-4ee1-adaa-7d36af33b6d6",
   "metadata": {},
   "source": [
    "## Multi-step scheduler"
   ]
  },
  {
   "cell_type": "code",
   "execution_count": 36,
   "id": "1cbfa0eb-ad24-4f7c-9704-045fa39775c7",
   "metadata": {
    "collapsed": true,
    "jupyter": {
     "outputs_hidden": true
    },
    "scrolled": true
   },
   "outputs": [
    {
     "name": "stdout",
     "output_type": "stream",
     "text": [
      "Epoch: 1, Learning rate: 0.080000\n",
      "Training - Loss: 1.9265, Accuracy: 0.29, Runtime: 7.11\n",
      "Test - Loss: 1.8542, Accuracy: 0.32\n",
      "Epoch: 2, Learning rate: 0.080000\n",
      "Training - Loss: 1.7523, Accuracy: 0.37, Runtime: 7.09\n",
      "Test - Loss: 1.7182, Accuracy: 0.38\n",
      "Epoch: 3, Learning rate: 0.080000\n",
      "Training - Loss: 1.6891, Accuracy: 0.39, Runtime: 7.06\n",
      "Test - Loss: 1.6671, Accuracy: 0.39\n",
      "Epoch: 4, Learning rate: 0.008000\n",
      "Training - Loss: 1.4231, Accuracy: 0.48, Runtime: 7.11\n",
      "Test - Loss: 1.4363, Accuracy: 0.47\n",
      "Epoch: 5, Learning rate: 0.008000\n",
      "Training - Loss: 1.2989, Accuracy: 0.53, Runtime: 7.82\n",
      "Test - Loss: 1.3826, Accuracy: 0.51\n",
      "Epoch: 6, Learning rate: 0.008000\n",
      "Training - Loss: 1.2113, Accuracy: 0.56, Runtime: 7.08\n",
      "Test - Loss: 1.3493, Accuracy: 0.52\n",
      "Epoch: 7, Learning rate: 0.008000\n",
      "Training - Loss: 1.1274, Accuracy: 0.59, Runtime: 7.19\n",
      "Test - Loss: 1.3233, Accuracy: 0.54\n",
      "Epoch: 8, Learning rate: 0.008000\n",
      "Training - Loss: 1.0412, Accuracy: 0.62, Runtime: 7.12\n",
      "Test - Loss: 1.3188, Accuracy: 0.55\n",
      "Epoch: 9, Learning rate: 0.008000\n",
      "Training - Loss: 0.9579, Accuracy: 0.66, Runtime: 7.07\n",
      "Test - Loss: 1.3537, Accuracy: 0.54\n",
      "Epoch: 10, Learning rate: 0.008000\n",
      "Training - Loss: 0.8746, Accuracy: 0.69, Runtime: 7.07\n",
      "Test - Loss: 1.3730, Accuracy: 0.55\n",
      "Epoch: 11, Learning rate: 0.000800\n",
      "Training - Loss: 0.6879, Accuracy: 0.76, Runtime: 7.08\n",
      "Test - Loss: 1.4175, Accuracy: 0.56\n",
      "Epoch: 12, Learning rate: 0.000800\n",
      "Training - Loss: 0.6480, Accuracy: 0.78, Runtime: 7.08\n",
      "Test - Loss: 1.4494, Accuracy: 0.55\n",
      "Epoch: 13, Learning rate: 0.000800\n",
      "Training - Loss: 0.6240, Accuracy: 0.79, Runtime: 7.15\n",
      "Test - Loss: 1.4751, Accuracy: 0.55\n",
      "Epoch: 14, Learning rate: 0.000800\n",
      "Training - Loss: 0.6023, Accuracy: 0.79, Runtime: 7.05\n",
      "Test - Loss: 1.5004, Accuracy: 0.56\n",
      "Epoch: 15, Learning rate: 0.000800\n",
      "Training - Loss: 0.5813, Accuracy: 0.80, Runtime: 7.08\n",
      "Test - Loss: 1.5336, Accuracy: 0.55\n",
      "Epoch: 16, Learning rate: 0.000800\n",
      "Training - Loss: 0.5618, Accuracy: 0.81, Runtime: 7.07\n",
      "Test - Loss: 1.5533, Accuracy: 0.55\n",
      "Epoch: 17, Learning rate: 0.000800\n",
      "Training - Loss: 0.5435, Accuracy: 0.82, Runtime: 7.07\n",
      "Test - Loss: 1.5888, Accuracy: 0.55\n",
      "Epoch: 18, Learning rate: 0.000800\n",
      "Training - Loss: 0.5239, Accuracy: 0.83, Runtime: 7.16\n",
      "Test - Loss: 1.6191, Accuracy: 0.55\n",
      "Epoch: 19, Learning rate: 0.000800\n",
      "Training - Loss: 0.5057, Accuracy: 0.83, Runtime: 7.09\n",
      "Test - Loss: 1.6637, Accuracy: 0.55\n",
      "Epoch: 20, Learning rate: 0.000800\n",
      "Training - Loss: 0.4870, Accuracy: 0.84, Runtime: 7.20\n",
      "Test - Loss: 1.6883, Accuracy: 0.55\n",
      "Runtime: 236.98 seconds\n",
      "Accuracy for class: plane is 56.8 %\n",
      "Accuracy for class: car   is 67.0 %\n",
      "Accuracy for class: bird  is 38.5 %\n",
      "Accuracy for class: cat   is 37.4 %\n",
      "Accuracy for class: deer  is 47.0 %\n",
      "Accuracy for class: dog   is 44.5 %\n",
      "Accuracy for class: frog  is 70.2 %\n",
      "Accuracy for class: horse is 60.3 %\n",
      "Accuracy for class: ship  is 66.8 %\n",
      "Accuracy for class: truck is 59.8 %\n"
     ]
    }
   ],
   "source": [
    "model2 = Net()\n",
    "model2.to(device)\n",
    "\n",
    "optimizer = optim.SGD(model2.parameters(), lr=0.08, momentum=0.9)\n",
    "scheduler = MultiStepLR(optimizer, milestones=[3, 10], gamma=0.1)\n",
    "\n",
    "losses, accs = [], []\n",
    "_start = time.time()\n",
    "_epoch_time = time.time()\n",
    "for epoch in range(max_epochs):\n",
    "    ## train\n",
    "    loss_train, acc_train = train(model2, device, trainloader, criterion, optimizer)\n",
    "    print(f\"Epoch: {epoch+1}, Learning rate: {get_lr(optimizer):.6f}\")\n",
    "    print(f\"Training - Loss: {loss_train:.4f}, Accuracy: {acc_train:.2f}, Runtime: {(time.time() - _epoch_time):.2f}\")\n",
    "    losses.append(loss_train)\n",
    "    scheduler.step()\n",
    "    ## test\n",
    "    loss_test, acc_test = test(model2, device, criterion, testloader)\n",
    "    accs.append(acc_test)\n",
    "    print(f\"Test - Loss: {loss_test:.4f}, Accuracy: {acc_test:.2f}\")\n",
    "    _epoch_time = time.time()\n",
    "print(f\"Runtime: {(time.time() - _start):.2f} seconds\")\n",
    "\n",
    "es1_loss_acc[\"SGD-Step\"] = [losses, accs]\n",
    "\n",
    "test_class(model2, device, criterion, testloader, classes)"
   ]
  },
  {
   "cell_type": "code",
   "execution_count": 35,
   "id": "5711db84-a806-428f-9991-f359c3c1c9aa",
   "metadata": {
    "collapsed": true,
    "jupyter": {
     "outputs_hidden": true,
     "source_hidden": true
    },
    "scrolled": true
   },
   "outputs": [
    {
     "data": {
      "image/png": "[encoded data removed]",
      "text/plain": [
       "<Figure size 640x480 with 2 Axes>"
      ]
     },
     "metadata": {},
     "output_type": "display_data"
    }
   ],
   "source": [
    "simple_diagnostic(max_epochs, losses, accs)\n",
    "plt.savefig(\"./plots/es1-sgd-step.pdf\")"
   ]
  },
  {
   "cell_type": "markdown",
   "id": "9f628d62-25d6-44d1-bad7-1ad8b2d23f75",
   "metadata": {},
   "source": [
    "## Exponential scheduler"
   ]
  },
  {
   "cell_type": "code",
   "execution_count": 34,
   "id": "aae20196-471e-4e76-baf2-5e76ce2fe663",
   "metadata": {
    "collapsed": true,
    "jupyter": {
     "outputs_hidden": true
    },
    "scrolled": true
   },
   "outputs": [
    {
     "name": "stdout",
     "output_type": "stream",
     "text": [
      "Epoch: 1, Learning rate: 0.010000\n",
      "Training - Loss: 1.5810, Accuracy: 0.42, Runtime: 7.25\n",
      "Test - Loss: 1.3391, Accuracy: 0.53\n",
      "Epoch: 2, Learning rate: 0.009500\n",
      "Training - Loss: 1.1427, Accuracy: 0.59, Runtime: 7.07\n",
      "Test - Loss: 1.0439, Accuracy: 0.63\n",
      "Epoch: 3, Learning rate: 0.009025\n",
      "Training - Loss: 0.9294, Accuracy: 0.67, Runtime: 7.07\n",
      "Test - Loss: 0.9794, Accuracy: 0.66\n",
      "Epoch: 4, Learning rate: 0.008574\n",
      "Training - Loss: 0.7728, Accuracy: 0.73, Runtime: 7.04\n",
      "Test - Loss: 0.9111, Accuracy: 0.69\n",
      "Epoch: 5, Learning rate: 0.008145\n",
      "Training - Loss: 0.6446, Accuracy: 0.77, Runtime: 7.11\n",
      "Test - Loss: 0.8829, Accuracy: 0.70\n",
      "Epoch: 6, Learning rate: 0.007738\n",
      "Training - Loss: 0.5177, Accuracy: 0.82, Runtime: 7.04\n",
      "Test - Loss: 0.9366, Accuracy: 0.70\n",
      "Epoch: 7, Learning rate: 0.007351\n",
      "Training - Loss: 0.4103, Accuracy: 0.86, Runtime: 7.11\n",
      "Test - Loss: 0.9840, Accuracy: 0.71\n",
      "Epoch: 8, Learning rate: 0.006983\n",
      "Training - Loss: 0.3083, Accuracy: 0.89, Runtime: 7.10\n",
      "Test - Loss: 1.1069, Accuracy: 0.70\n",
      "Epoch: 9, Learning rate: 0.006634\n",
      "Training - Loss: 0.2308, Accuracy: 0.92, Runtime: 7.12\n",
      "Test - Loss: 1.3267, Accuracy: 0.69\n",
      "Epoch: 10, Learning rate: 0.006302\n",
      "Training - Loss: 0.1697, Accuracy: 0.94, Runtime: 7.12\n",
      "Test - Loss: 1.4276, Accuracy: 0.70\n",
      "Epoch: 11, Learning rate: 0.005987\n",
      "Training - Loss: 0.1239, Accuracy: 0.96, Runtime: 7.37\n",
      "Test - Loss: 1.6139, Accuracy: 0.68\n",
      "Epoch: 12, Learning rate: 0.005688\n",
      "Training - Loss: 0.0836, Accuracy: 0.97, Runtime: 7.25\n",
      "Test - Loss: 1.7073, Accuracy: 0.70\n",
      "Epoch: 13, Learning rate: 0.005404\n",
      "Training - Loss: 0.0657, Accuracy: 0.98, Runtime: 7.19\n",
      "Test - Loss: 1.9538, Accuracy: 0.69\n",
      "Epoch: 14, Learning rate: 0.005133\n",
      "Training - Loss: 0.0474, Accuracy: 0.98, Runtime: 7.03\n",
      "Test - Loss: 2.0785, Accuracy: 0.70\n",
      "Epoch: 15, Learning rate: 0.004877\n",
      "Training - Loss: 0.0308, Accuracy: 0.99, Runtime: 7.24\n",
      "Test - Loss: 2.1636, Accuracy: 0.70\n",
      "Epoch: 16, Learning rate: 0.004633\n",
      "Training - Loss: 0.0137, Accuracy: 1.00, Runtime: 7.06\n",
      "Test - Loss: 2.2984, Accuracy: 0.71\n",
      "Epoch: 17, Learning rate: 0.004401\n",
      "Training - Loss: 0.0039, Accuracy: 1.00, Runtime: 7.29\n",
      "Test - Loss: 2.3614, Accuracy: 0.72\n",
      "Epoch: 18, Learning rate: 0.004181\n",
      "Training - Loss: 0.0011, Accuracy: 1.00, Runtime: 7.26\n",
      "Test - Loss: 2.4739, Accuracy: 0.72\n",
      "Epoch: 19, Learning rate: 0.003972\n",
      "Training - Loss: 0.0006, Accuracy: 1.00, Runtime: 7.34\n",
      "Test - Loss: 2.5354, Accuracy: 0.72\n",
      "Epoch: 20, Learning rate: 0.003774\n",
      "Training - Loss: 0.0004, Accuracy: 1.00, Runtime: 7.15\n",
      "Test - Loss: 2.5789, Accuracy: 0.72\n",
      "Runtime: 237.26 seconds\n",
      "Accuracy for class: plane is 78.2 %\n",
      "Accuracy for class: car   is 84.3 %\n",
      "Accuracy for class: bird  is 59.8 %\n",
      "Accuracy for class: cat   is 54.4 %\n",
      "Accuracy for class: deer  is 63.0 %\n",
      "Accuracy for class: dog   is 58.5 %\n",
      "Accuracy for class: frog  is 78.7 %\n",
      "Accuracy for class: horse is 75.7 %\n",
      "Accuracy for class: ship  is 83.7 %\n",
      "Accuracy for class: truck is 80.9 %\n"
     ]
    }
   ],
   "source": [
    "model3 = Net()\n",
    "model3.to(device)\n",
    "\n",
    "optimizer = optim.SGD(model3.parameters(), lr=0.01, momentum=0.9)\n",
    "scheduler = ExponentialLR(optimizer, 0.95)  # a_k *= 0.95**k\n",
    "\n",
    "losses, accs = [], []\n",
    "_start = time.time()\n",
    "_epoch_time = time.time()\n",
    "for epoch in range(max_epochs):\n",
    "    ## train\n",
    "    loss_train, acc_train = train(model3, device, trainloader, criterion, optimizer)\n",
    "    print(f\"Epoch: {epoch+1}, Learning rate: {get_lr(optimizer):.6f}\")\n",
    "    print(f\"Training - Loss: {loss_train:.4f}, Accuracy: {acc_train:.2f}, Runtime: {(time.time() - _epoch_time):.2f}\")\n",
    "    losses.append(loss_train)\n",
    "    scheduler.step()\n",
    "    ## test\n",
    "    loss_test, acc_test = test(model3, device, criterion, testloader)\n",
    "    accs.append(acc_test)\n",
    "    print(f\"Test - Loss: {loss_test:.4f}, Accuracy: {acc_test:.2f}\")\n",
    "    _epoch_time = time.time()\n",
    "print(f\"Runtime: {(time.time() - _start):.2f} seconds\")\n",
    "\n",
    "es1_loss_acc[\"SGD-Exp\"] = [losses, accs]\n",
    "\n",
    "test_class(model3, device, criterion, testloader, classes)"
   ]
  },
  {
   "cell_type": "code",
   "execution_count": 51,
   "id": "6d1f402d-5738-417d-9423-705d6f32eb06",
   "metadata": {
    "collapsed": true,
    "jupyter": {
     "outputs_hidden": true,
     "source_hidden": true
    },
    "scrolled": true
   },
   "outputs": [
    {
     "data": {
      "image/png": "[encoded data removed]",
      "text/plain": [
       "<Figure size 640x480 with 2 Axes>"
      ]
     },
     "metadata": {},
     "output_type": "display_data"
    }
   ],
   "source": [
    "simple_diagnostic(max_epochs, losses, accs)\n",
    "plt.savefig(\"./plots/es1-sgd-exp.pdf\")"
   ]
  },
  {
   "cell_type": "markdown",
   "id": "80d43126-97f1-47bb-a904-84fe44e79456",
   "metadata": {},
   "source": [
    "## Adam"
   ]
  },
  {
   "cell_type": "code",
   "execution_count": 35,
   "id": "35226333-1432-41eb-8813-3cced23ef9bd",
   "metadata": {
    "collapsed": true,
    "jupyter": {
     "outputs_hidden": true
    },
    "scrolled": true
   },
   "outputs": [
    {
     "name": "stdout",
     "output_type": "stream",
     "text": [
      "Epoch: 1\n",
      "Training - Loss: 1.4093, Accuracy: 0.49, Runtime: 7.20\n",
      "Test - Loss: 1.1948, Accuracy: 0.58\n",
      "Epoch: 2\n",
      "Training - Loss: 1.0393, Accuracy: 0.63, Runtime: 7.17\n",
      "Test - Loss: 0.9873, Accuracy: 0.65\n",
      "Epoch: 3\n",
      "Training - Loss: 0.8780, Accuracy: 0.69, Runtime: 7.16\n",
      "Test - Loss: 0.9311, Accuracy: 0.67\n",
      "Epoch: 4\n",
      "Training - Loss: 0.7629, Accuracy: 0.73, Runtime: 7.27\n",
      "Test - Loss: 0.8912, Accuracy: 0.69\n",
      "Epoch: 5\n",
      "Training - Loss: 0.6616, Accuracy: 0.77, Runtime: 7.17\n",
      "Test - Loss: 0.9200, Accuracy: 0.68\n",
      "Epoch: 6\n",
      "Training - Loss: 0.5642, Accuracy: 0.80, Runtime: 7.17\n",
      "Test - Loss: 0.9204, Accuracy: 0.70\n",
      "Epoch: 7\n",
      "Training - Loss: 0.4816, Accuracy: 0.83, Runtime: 7.30\n",
      "Test - Loss: 1.0364, Accuracy: 0.68\n",
      "Epoch: 8\n",
      "Training - Loss: 0.3987, Accuracy: 0.86, Runtime: 7.46\n",
      "Test - Loss: 1.0704, Accuracy: 0.69\n",
      "Epoch: 9\n",
      "Training - Loss: 0.3264, Accuracy: 0.88, Runtime: 7.18\n",
      "Test - Loss: 1.1834, Accuracy: 0.69\n",
      "Epoch: 10\n",
      "Training - Loss: 0.2713, Accuracy: 0.90, Runtime: 7.49\n",
      "Test - Loss: 1.3355, Accuracy: 0.68\n",
      "Epoch: 11\n",
      "Training - Loss: 0.2216, Accuracy: 0.92, Runtime: 7.25\n",
      "Test - Loss: 1.4652, Accuracy: 0.68\n",
      "Epoch: 12\n",
      "Training - Loss: 0.1846, Accuracy: 0.93, Runtime: 7.19\n",
      "Test - Loss: 1.6794, Accuracy: 0.67\n",
      "Epoch: 13\n",
      "Training - Loss: 0.1609, Accuracy: 0.94, Runtime: 7.28\n",
      "Test - Loss: 1.8133, Accuracy: 0.67\n",
      "Epoch: 14\n",
      "Training - Loss: 0.1420, Accuracy: 0.95, Runtime: 7.31\n",
      "Test - Loss: 1.9611, Accuracy: 0.68\n",
      "Epoch: 15\n",
      "Training - Loss: 0.1157, Accuracy: 0.96, Runtime: 7.28\n",
      "Test - Loss: 2.0222, Accuracy: 0.67\n",
      "Epoch: 16\n",
      "Training - Loss: 0.1200, Accuracy: 0.96, Runtime: 7.26\n",
      "Test - Loss: 2.1924, Accuracy: 0.68\n",
      "Epoch: 17\n",
      "Training - Loss: 0.1161, Accuracy: 0.96, Runtime: 7.51\n",
      "Test - Loss: 2.2471, Accuracy: 0.67\n",
      "Epoch: 18\n",
      "Training - Loss: 0.0946, Accuracy: 0.97, Runtime: 7.22\n",
      "Test - Loss: 2.4350, Accuracy: 0.66\n",
      "Epoch: 19\n",
      "Training - Loss: 0.0934, Accuracy: 0.97, Runtime: 7.24\n",
      "Test - Loss: 2.4699, Accuracy: 0.66\n",
      "Epoch: 20\n",
      "Training - Loss: 0.0945, Accuracy: 0.97, Runtime: 7.20\n",
      "Test - Loss: 2.5182, Accuracy: 0.66\n",
      "Runtime: 240.32 seconds\n",
      "Accuracy for class: plane is 78.6 %\n",
      "Accuracy for class: car   is 74.8 %\n",
      "Accuracy for class: bird  is 54.7 %\n",
      "Accuracy for class: cat   is 51.3 %\n",
      "Accuracy for class: deer  is 58.7 %\n",
      "Accuracy for class: dog   is 52.8 %\n",
      "Accuracy for class: frog  is 70.2 %\n",
      "Accuracy for class: horse is 67.6 %\n",
      "Accuracy for class: ship  is 81.1 %\n",
      "Accuracy for class: truck is 68.9 %\n"
     ]
    }
   ],
   "source": [
    "model4 = Net()\n",
    "model4.to(device)\n",
    "\n",
    "optimizer = optim.Adam(model4.parameters(), lr=0.001)\n",
    "\n",
    "losses, accs = [], []\n",
    "_start = time.time()\n",
    "_epoch_time = time.time()\n",
    "for epoch in range(max_epochs):\n",
    "    ## train\n",
    "    loss_train, acc_train = train(model4, device, trainloader, criterion, optimizer)\n",
    "    print(f\"Epoch: {epoch+1}\")\n",
    "    print(f\"Training - Loss: {loss_train:.4f}, Accuracy: {acc_train:.2f}, Runtime: {(time.time() - _epoch_time):.2f}\")\n",
    "    losses.append(loss_train)\n",
    "    ## test\n",
    "    loss_test, acc_test = test(model4, device, criterion, testloader)\n",
    "    accs.append(acc_test)\n",
    "    print(f\"Test - Loss: {loss_test:.4f}, Accuracy: {acc_test:.2f}\")\n",
    "    _epoch_time = time.time()\n",
    "print(f\"Runtime: {(time.time() - _start):.2f} seconds\")\n",
    "\n",
    "es1_loss_acc[\"Adam\"] = [losses, accs]\n",
    "\n",
    "test_class(model4, device, criterion, testloader, classes)"
   ]
  },
  {
   "cell_type": "markdown",
   "id": "88b9bc18-cec8-4fba-87df-ded32d3ca734",
   "metadata": {},
   "source": [
    "## Cosine annealing"
   ]
  },
  {
   "cell_type": "code",
   "execution_count": 39,
   "id": "3aabbd25-13ac-47d0-81e6-f84dd3bac2fb",
   "metadata": {
    "collapsed": true,
    "jupyter": {
     "outputs_hidden": true
    },
    "scrolled": true
   },
   "outputs": [
    {
     "name": "stdout",
     "output_type": "stream",
     "text": [
      "Epoch: 1, Learning rate: 0.010000\n",
      "Training - Loss: 1.5685, Accuracy: 0.43, Runtime: 7.10\n",
      "Test - Loss: 1.3005, Accuracy: 0.54\n",
      "Epoch: 2, Learning rate: 0.009973\n",
      "Training - Loss: 1.1308, Accuracy: 0.60, Runtime: 7.35\n",
      "Test - Loss: 1.0801, Accuracy: 0.62\n",
      "Epoch: 3, Learning rate: 0.009891\n",
      "Training - Loss: 0.9334, Accuracy: 0.67, Runtime: 7.31\n",
      "Test - Loss: 0.9550, Accuracy: 0.67\n",
      "Epoch: 4, Learning rate: 0.009755\n",
      "Training - Loss: 0.7927, Accuracy: 0.72, Runtime: 7.17\n",
      "Test - Loss: 0.9126, Accuracy: 0.68\n",
      "Epoch: 5, Learning rate: 0.009568\n",
      "Training - Loss: 0.6691, Accuracy: 0.76, Runtime: 7.25\n",
      "Test - Loss: 0.9501, Accuracy: 0.68\n",
      "Epoch: 6, Learning rate: 0.009330\n",
      "Training - Loss: 0.5554, Accuracy: 0.81, Runtime: 7.06\n",
      "Test - Loss: 1.0485, Accuracy: 0.67\n",
      "Epoch: 7, Learning rate: 0.009045\n",
      "Training - Loss: 0.4501, Accuracy: 0.84, Runtime: 7.04\n",
      "Test - Loss: 1.1057, Accuracy: 0.68\n",
      "Epoch: 8, Learning rate: 0.008716\n",
      "Training - Loss: 0.3581, Accuracy: 0.87, Runtime: 7.05\n",
      "Test - Loss: 1.1392, Accuracy: 0.69\n",
      "Epoch: 9, Learning rate: 0.008346\n",
      "Training - Loss: 0.2702, Accuracy: 0.90, Runtime: 6.98\n",
      "Test - Loss: 1.3749, Accuracy: 0.68\n",
      "Epoch: 10, Learning rate: 0.007939\n",
      "Training - Loss: 0.2163, Accuracy: 0.92, Runtime: 7.11\n",
      "Test - Loss: 1.4830, Accuracy: 0.68\n",
      "Epoch: 11, Learning rate: 0.007500\n",
      "Training - Loss: 0.1587, Accuracy: 0.94, Runtime: 7.07\n",
      "Test - Loss: 1.6701, Accuracy: 0.67\n",
      "Epoch: 12, Learning rate: 0.007034\n",
      "Training - Loss: 0.1127, Accuracy: 0.96, Runtime: 7.00\n",
      "Test - Loss: 1.8765, Accuracy: 0.68\n",
      "Epoch: 13, Learning rate: 0.006545\n",
      "Training - Loss: 0.0849, Accuracy: 0.97, Runtime: 7.04\n",
      "Test - Loss: 2.0538, Accuracy: 0.69\n",
      "Epoch: 14, Learning rate: 0.006040\n",
      "Training - Loss: 0.0535, Accuracy: 0.98, Runtime: 6.99\n",
      "Test - Loss: 2.1803, Accuracy: 0.68\n",
      "Epoch: 15, Learning rate: 0.005523\n",
      "Training - Loss: 0.0281, Accuracy: 0.99, Runtime: 7.09\n",
      "Test - Loss: 2.4427, Accuracy: 0.69\n",
      "Epoch: 16, Learning rate: 0.005000\n",
      "Training - Loss: 0.0097, Accuracy: 1.00, Runtime: 7.09\n",
      "Test - Loss: 2.5828, Accuracy: 0.70\n",
      "Epoch: 17, Learning rate: 0.004477\n",
      "Training - Loss: 0.0025, Accuracy: 1.00, Runtime: 7.03\n",
      "Test - Loss: 2.6835, Accuracy: 0.70\n",
      "Epoch: 18, Learning rate: 0.003960\n",
      "Training - Loss: 0.0007, Accuracy: 1.00, Runtime: 6.99\n",
      "Test - Loss: 2.7457, Accuracy: 0.70\n",
      "Epoch: 19, Learning rate: 0.003455\n",
      "Training - Loss: 0.0005, Accuracy: 1.00, Runtime: 7.06\n",
      "Test - Loss: 2.7967, Accuracy: 0.70\n",
      "Epoch: 20, Learning rate: 0.002966\n",
      "Training - Loss: 0.0004, Accuracy: 1.00, Runtime: 7.07\n",
      "Test - Loss: 2.8348, Accuracy: 0.70\n",
      "Runtime: 235.62 seconds\n",
      "Accuracy for class: plane is 73.6 %\n",
      "Accuracy for class: car   is 82.2 %\n",
      "Accuracy for class: bird  is 58.0 %\n",
      "Accuracy for class: cat   is 52.1 %\n",
      "Accuracy for class: deer  is 63.1 %\n",
      "Accuracy for class: dog   is 60.2 %\n",
      "Accuracy for class: frog  is 76.3 %\n",
      "Accuracy for class: horse is 72.6 %\n",
      "Accuracy for class: ship  is 81.8 %\n",
      "Accuracy for class: truck is 79.7 %\n"
     ]
    }
   ],
   "source": [
    "model5 = Net()\n",
    "model5.to(device)\n",
    "\n",
    "optimizer = optim.SGD(model5.parameters(), lr=0.01, momentum=0.9)\n",
    "scheduler = CosineAnnealingLR(optimizer, T_max=30)\n",
    "\n",
    "losses, accs = [], []\n",
    "_start = time.time()\n",
    "_epoch_time = time.time()\n",
    "for epoch in range(max_epochs):\n",
    "    ## train\n",
    "    loss_train, acc_train = train(model5, device, trainloader, criterion, optimizer)\n",
    "    print(f\"Epoch: {epoch+1}, Learning rate: {get_lr(optimizer):.6f}\")\n",
    "    print(f\"Training - Loss: {loss_train:.4f}, Accuracy: {acc_train:.2f}, Runtime: {(time.time() - _epoch_time):.2f}\")\n",
    "    losses.append(loss_train)\n",
    "    scheduler.step()\n",
    "    ## test\n",
    "    loss_test, acc_test = test(model5, device, criterion, testloader)\n",
    "    accs.append(acc_test)\n",
    "    print(f\"Test - Loss: {loss_test:.4f}, Accuracy: {acc_test:.2f}\")\n",
    "    _epoch_time = time.time()\n",
    "print(f\"Runtime: {(time.time() - _start):.2f} seconds\")\n",
    "\n",
    "es1_loss_acc[\"SGD-Cos\"] = [losses, accs]\n",
    "\n",
    "test_class(model5, device, criterion, testloader, classes)"
   ]
  },
  {
   "cell_type": "markdown",
   "id": "c205dc17-da43-497f-93d5-c524bc306662",
   "metadata": {},
   "source": [
    "## Show optimizers performance"
   ]
  },
  {
   "cell_type": "code",
   "execution_count": 40,
   "id": "66bc6c23-7b16-4878-83fc-8698682b9749",
   "metadata": {},
   "outputs": [
    {
     "data": {
      "image/png": "[encoded data removed]",
      "text/plain": [
       "<Figure size 1200x400 with 2 Axes>"
      ]
     },
     "metadata": {},
     "output_type": "display_data"
    }
   ],
   "source": [
    "multiple_diagnostic(es1_loss_acc, max_epochs)\n",
    "plt.savefig(\"./plots/cifar10-opt-diagnostic.pdf\")"
   ]
  },
  {
   "cell_type": "markdown",
   "id": "87490889-1bf4-4b1e-b5a7-9874a0d0dd4b",
   "metadata": {},
   "source": [
    "# Excercise 2"
   ]
  },
  {
   "cell_type": "code",
   "execution_count": 10,
   "id": "6b310097-51da-4f79-97e1-1b4cbf7886b7",
   "metadata": {
    "jupyter": {
     "source_hidden": true
    }
   },
   "outputs": [],
   "source": [
    "transform = transforms.Compose([\n",
    "    # geometric transforms\n",
    "    # transforms.RandomRotation(degrees=20),  # rotates the image randomly within a range of -20 to 20 degrees\n",
    "    transforms.RandomAffine(degrees=15, translate=(0.1, 0.1), scale=(0.8, 1.2), shear=10),\n",
    "    transforms.RandomHorizontalFlip(p=0.5),  # flips the image horizontally with a 50% probability\n",
    "    transforms.RandomResizedCrop(size=(32, 32), scale=(0.8, 1.0)),  # randomly crops between 80% and 100% of the original image and resizes to 32x32\n",
    "    # color transforms\n",
    "    transforms.ColorJitter(brightness=0.2, contrast=0.2, saturation=0.2, hue=0.1),  # randomly changes the brightness, contrast, saturation, and hue of the image\n",
    "    transforms.RandomGrayscale(p=0.1),  # converts the image to grayscale with a 10% probability\n",
    "    # noise injection\n",
    "    transforms.GaussianBlur(kernel_size=5, sigma=(0.1, 0.8)),  # applies a Gaussian blur with a specified range for sigma\n",
    "    # normalization\n",
    "    #transforms.RandomErasing(p=0.5, scale=(0.02, 0.33), ratio=(0.3, 3.3)),  # randomly selects a rectangle region in an image and erases its pixels\n",
    "    transforms.ToTensor()])\n",
    "\n",
    "trainset = torchvision.datasets.CIFAR10(root='./data', train=True, transform=transform)"
   ]
  },
  {
   "cell_type": "code",
   "execution_count": 58,
   "id": "b74145cc-d8bc-43f5-8e2b-bba9fa366cfe",
   "metadata": {},
   "outputs": [],
   "source": [
    "es2_loss_acc = {}"
   ]
  },
  {
   "cell_type": "markdown",
   "id": "965e09ce-695f-467b-951d-119b44f9fcbf",
   "metadata": {
    "jp-MarkdownHeadingCollapsed": true
   },
   "source": [
    "### Random affine transforms"
   ]
  },
  {
   "cell_type": "code",
   "execution_count": 75,
   "id": "bc12726e-8468-46c9-ba1c-d1d8cb381af8",
   "metadata": {},
   "outputs": [],
   "source": [
    "transf1 = transforms.Compose([\n",
    "    transforms.RandomAffine(degrees=15, translate=(0.1, 0.1), scale=(0.8, 1.2), shear=10),\n",
    "    transforms.ToTensor()\n",
    "])\n",
    "\n",
    "trainset_1 = torchvision.datasets.CIFAR10(root='./data', train=True, transform=transf1)\n",
    "trainloader_1 = torch.utils.data.DataLoader(trainset_1, batch_size=batch_size, shuffle=True, num_workers=2)"
   ]
  },
  {
   "cell_type": "code",
   "execution_count": 76,
   "id": "73eeefc3-42d8-41e3-b9d2-c042be91c2b3",
   "metadata": {},
   "outputs": [
    {
     "name": "stdout",
     "output_type": "stream",
     "text": [
      "Samples 50000\n",
      "Mean tensor([0.4224, 0.4125, 0.3816])\n",
      "Std tensor([0.2488, 0.2443, 0.2379])\n"
     ]
    }
   ],
   "source": [
    "mean = torch.zeros(3)  # a mean for each channel, here 1\n",
    "std = torch.zeros(3)  # a std for each channel, here 1\n",
    "samples = 0\n",
    "\n",
    "# simple because we only have one channel, that is greyscale\n",
    "for X, y in trainloader_1:\n",
    "    # width and height over one dimension\n",
    "    X = torch.flatten(X, 2, 3)\n",
    "    # [batch_size, 3, 28*28]\n",
    "    # compute mean and std over each channel then sum and store\n",
    "    mean += X.mean(2).sum(0)\n",
    "    std += X.std(2).sum(0)\n",
    "    samples += X.size(0)\n",
    "\n",
    "print(f\"Samples {samples}\")\n",
    "mean /= samples\n",
    "print(f\"Mean {mean}\")\n",
    "std /= samples\n",
    "print(f\"Std {std}\")"
   ]
  },
  {
   "cell_type": "code",
   "execution_count": 77,
   "id": "686e74dc-f2bb-453d-a697-970e7adbe65b",
   "metadata": {},
   "outputs": [],
   "source": [
    "transf1 = transforms.Compose([\n",
    "    transforms.RandomAffine(degrees=15, translate=(0.1, 0.1), scale=(0.8, 1.2), shear=10),\n",
    "    transforms.ToTensor(),\n",
    "    transforms.Normalize(mean, std)\n",
    "])\n",
    "\n",
    "trainset_1 = torchvision.datasets.CIFAR10(root='./data', train=True, transform=transf1)\n",
    "trainloader_1 = torch.utils.data.DataLoader(trainset_1, batch_size=batch_size, shuffle=True, num_workers=2)"
   ]
  },
  {
   "cell_type": "code",
   "execution_count": 78,
   "id": "21c9274e-04d8-4902-ad4f-3295f0a81178",
   "metadata": {
    "scrolled": true
   },
   "outputs": [
    {
     "name": "stdout",
     "output_type": "stream",
     "text": [
      "Epoch: 1, Learning rate: 0.001000\n",
      "Training - Loss: 1.9939, Accuracy: 0.27, Runtime: 10.83\n",
      "Test - Loss: 1.6943, Accuracy: 0.38\n",
      "Epoch: 2, Learning rate: 0.001000\n",
      "Training - Loss: 1.6537, Accuracy: 0.40, Runtime: 10.86\n",
      "Test - Loss: 1.4995, Accuracy: 0.46\n",
      "Epoch: 3, Learning rate: 0.001000\n",
      "Training - Loss: 1.5281, Accuracy: 0.45, Runtime: 10.95\n",
      "Test - Loss: 1.4542, Accuracy: 0.47\n",
      "Epoch: 4, Learning rate: 0.001000\n",
      "Training - Loss: 1.4539, Accuracy: 0.48, Runtime: 10.98\n",
      "Test - Loss: 1.4217, Accuracy: 0.50\n",
      "Epoch: 5, Learning rate: 0.001000\n",
      "Training - Loss: 1.3880, Accuracy: 0.50, Runtime: 11.04\n",
      "Test - Loss: 1.3390, Accuracy: 0.53\n",
      "Epoch: 6, Learning rate: 0.001000\n",
      "Training - Loss: 1.3329, Accuracy: 0.52, Runtime: 10.99\n",
      "Test - Loss: 1.2050, Accuracy: 0.58\n",
      "Epoch: 7, Learning rate: 0.001000\n",
      "Training - Loss: 1.2733, Accuracy: 0.55, Runtime: 11.01\n",
      "Test - Loss: 1.2234, Accuracy: 0.57\n",
      "Epoch: 8, Learning rate: 0.001000\n",
      "Training - Loss: 1.2184, Accuracy: 0.57, Runtime: 11.07\n",
      "Test - Loss: 1.1810, Accuracy: 0.59\n",
      "Epoch: 9, Learning rate: 0.001000\n",
      "Training - Loss: 1.1731, Accuracy: 0.58, Runtime: 11.02\n",
      "Test - Loss: 1.1551, Accuracy: 0.60\n",
      "Epoch: 10, Learning rate: 0.001000\n",
      "Training - Loss: 1.1328, Accuracy: 0.60, Runtime: 12.00\n",
      "Test - Loss: 1.1072, Accuracy: 0.61\n",
      "Epoch: 11, Learning rate: 0.001000\n",
      "Training - Loss: 1.0974, Accuracy: 0.61, Runtime: 11.52\n",
      "Test - Loss: 1.0536, Accuracy: 0.64\n",
      "Epoch: 12, Learning rate: 0.001000\n",
      "Training - Loss: 1.0622, Accuracy: 0.62, Runtime: 11.48\n",
      "Test - Loss: 1.0369, Accuracy: 0.65\n",
      "Epoch: 13, Learning rate: 0.001000\n",
      "Training - Loss: 1.0365, Accuracy: 0.63, Runtime: 11.18\n",
      "Test - Loss: 1.0160, Accuracy: 0.65\n",
      "Epoch: 14, Learning rate: 0.001000\n",
      "Training - Loss: 1.0091, Accuracy: 0.64, Runtime: 11.22\n",
      "Test - Loss: 0.9937, Accuracy: 0.66\n",
      "Epoch: 15, Learning rate: 0.001000\n",
      "Training - Loss: 0.9862, Accuracy: 0.65, Runtime: 11.16\n",
      "Test - Loss: 0.9649, Accuracy: 0.67\n",
      "Epoch: 16, Learning rate: 0.001000\n",
      "Training - Loss: 0.9681, Accuracy: 0.66, Runtime: 11.19\n",
      "Test - Loss: 1.0148, Accuracy: 0.66\n",
      "Epoch: 17, Learning rate: 0.001000\n",
      "Training - Loss: 0.9418, Accuracy: 0.67, Runtime: 11.17\n",
      "Test - Loss: 0.8976, Accuracy: 0.69\n",
      "Epoch: 18, Learning rate: 0.001000\n",
      "Training - Loss: 0.9208, Accuracy: 0.68, Runtime: 11.14\n",
      "Test - Loss: 0.9399, Accuracy: 0.68\n",
      "Epoch: 19, Learning rate: 0.001000\n",
      "Training - Loss: 0.8991, Accuracy: 0.68, Runtime: 11.45\n",
      "Test - Loss: 0.9588, Accuracy: 0.68\n",
      "Epoch: 20, Learning rate: 0.001000\n",
      "Training - Loss: 0.8872, Accuracy: 0.69, Runtime: 11.40\n",
      "Test - Loss: 0.9167, Accuracy: 0.69\n",
      "Done! - Runtime: 323.06 seconds\n",
      "Accuracy for class: plane is 78.1 %\n",
      "Accuracy for class: car   is 85.0 %\n",
      "Accuracy for class: bird  is 45.1 %\n",
      "Accuracy for class: cat   is 40.3 %\n",
      "Accuracy for class: deer  is 50.6 %\n",
      "Accuracy for class: dog   is 77.0 %\n",
      "Accuracy for class: frog  is 73.5 %\n",
      "Accuracy for class: horse is 82.7 %\n",
      "Accuracy for class: ship  is 71.1 %\n",
      "Accuracy for class: truck is 86.1 %\n"
     ]
    }
   ],
   "source": [
    "model_transf = Net()\n",
    "model_transf.to(device)\n",
    "\n",
    "model_transf_dict = dict(model=model_transf, criterion=criterion, device=device, lr=0.001, momentum=0.9,\n",
    "                         max_epochs=max_epochs, do_test=True)\n",
    "\n",
    "stats = train_loop(trainloader_1, testloader, **model_transf_dict)\n",
    "\n",
    "es2_loss_acc[\"RandAff\"] = [stats[0], stats[3]]\n",
    "\n",
    "test_class(model_transf, device, criterion, testloader, classes)"
   ]
  },
  {
   "cell_type": "markdown",
   "id": "322d56ad-e8bb-4138-b48c-48bb193b02b3",
   "metadata": {
    "jp-MarkdownHeadingCollapsed": true
   },
   "source": [
    "### Random horizontal flip transforms"
   ]
  },
  {
   "cell_type": "code",
   "execution_count": 88,
   "id": "c3259a11-251f-43f3-ab5a-6f918fecbce8",
   "metadata": {},
   "outputs": [],
   "source": [
    "transf2 = transforms.Compose([\n",
    "    transforms.RandomHorizontalFlip(p=0.5),\n",
    "    transforms.ToTensor()\n",
    "])\n",
    "\n",
    "trainset_2 = torchvision.datasets.CIFAR10(root='./data', train=True, transform=transf2)\n",
    "trainloader_2 = torch.utils.data.DataLoader(trainset_2, batch_size=batch_size, shuffle=True, num_workers=2)"
   ]
  },
  {
   "cell_type": "code",
   "execution_count": 89,
   "id": "0f77b4c0-1102-4823-b43f-0b1eab4dbdb6",
   "metadata": {},
   "outputs": [
    {
     "name": "stdout",
     "output_type": "stream",
     "text": [
      "Samples 50000\n",
      "Mean tensor([0.4914, 0.4822, 0.4465])\n",
      "Std tensor([0.2023, 0.1994, 0.2010])\n"
     ]
    }
   ],
   "source": [
    "mean = torch.zeros(3)  # a mean for each channel, here 1\n",
    "std = torch.zeros(3)  # a std for each channel, here 1\n",
    "samples = 0\n",
    "\n",
    "# simple because we only have one channel, that is greyscale\n",
    "for X, y in trainloader_2:\n",
    "    # width and height over one dimension\n",
    "    X = torch.flatten(X, 2, 3)\n",
    "    # [batch_size, 3, 28*28]\n",
    "    # compute mean and std over each channel then sum and store\n",
    "    mean += X.mean(2).sum(0)\n",
    "    std += X.std(2).sum(0)\n",
    "    samples += X.size(0)\n",
    "\n",
    "print(f\"Samples {samples}\")\n",
    "mean /= samples\n",
    "print(f\"Mean {mean}\")\n",
    "std /= samples\n",
    "print(f\"Std {std}\")"
   ]
  },
  {
   "cell_type": "code",
   "execution_count": 90,
   "id": "2ba1314a-75e2-4ecf-8507-1a1719623c65",
   "metadata": {},
   "outputs": [],
   "source": [
    "transf2 = transforms.Compose([\n",
    "    transforms.RandomHorizontalFlip(p=0.5),\n",
    "    transforms.ToTensor(),\n",
    "    transforms.Normalize(mean, std)\n",
    "])\n",
    "\n",
    "trainset_2 = torchvision.datasets.CIFAR10(root='./data', train=True, transform=transf2)\n",
    "trainloader_2 = torch.utils.data.DataLoader(trainset_2, batch_size=batch_size, shuffle=True, num_workers=2)"
   ]
  },
  {
   "cell_type": "code",
   "execution_count": 91,
   "id": "4e37f416-b6a8-4980-a718-c739e1815762",
   "metadata": {
    "collapsed": true,
    "jupyter": {
     "outputs_hidden": true
    },
    "scrolled": true
   },
   "outputs": [
    {
     "name": "stdout",
     "output_type": "stream",
     "text": [
      "Epoch: 1, Learning rate: 0.001000\n",
      "Training - Loss: 1.8906, Accuracy: 0.32, Runtime: 10.84\n",
      "Test - Loss: 1.5889, Accuracy: 0.42\n",
      "Epoch: 2, Learning rate: 0.001000\n",
      "Training - Loss: 1.4783, Accuracy: 0.47, Runtime: 10.94\n",
      "Test - Loss: 1.3655, Accuracy: 0.52\n",
      "Epoch: 3, Learning rate: 0.001000\n",
      "Training - Loss: 1.3128, Accuracy: 0.53, Runtime: 10.90\n",
      "Test - Loss: 1.2375, Accuracy: 0.56\n",
      "Epoch: 4, Learning rate: 0.001000\n",
      "Training - Loss: 1.2007, Accuracy: 0.58, Runtime: 10.97\n",
      "Test - Loss: 1.1765, Accuracy: 0.58\n",
      "Epoch: 5, Learning rate: 0.001000\n",
      "Training - Loss: 1.1012, Accuracy: 0.61, Runtime: 11.05\n",
      "Test - Loss: 1.0786, Accuracy: 0.62\n",
      "Epoch: 6, Learning rate: 0.001000\n",
      "Training - Loss: 1.0231, Accuracy: 0.64, Runtime: 10.97\n",
      "Test - Loss: 1.0073, Accuracy: 0.65\n",
      "Epoch: 7, Learning rate: 0.001000\n",
      "Training - Loss: 0.9468, Accuracy: 0.67, Runtime: 10.99\n",
      "Test - Loss: 0.9685, Accuracy: 0.67\n",
      "Epoch: 8, Learning rate: 0.001000\n",
      "Training - Loss: 0.8873, Accuracy: 0.69, Runtime: 11.81\n",
      "Test - Loss: 0.9310, Accuracy: 0.68\n",
      "Epoch: 9, Learning rate: 0.001000\n",
      "Training - Loss: 0.8296, Accuracy: 0.71, Runtime: 11.56\n",
      "Test - Loss: 0.8952, Accuracy: 0.69\n",
      "Epoch: 10, Learning rate: 0.001000\n",
      "Training - Loss: 0.7754, Accuracy: 0.73, Runtime: 11.53\n",
      "Test - Loss: 0.8925, Accuracy: 0.69\n",
      "Epoch: 11, Learning rate: 0.001000\n",
      "Training - Loss: 0.7296, Accuracy: 0.75, Runtime: 11.36\n",
      "Test - Loss: 0.8791, Accuracy: 0.69\n",
      "Epoch: 12, Learning rate: 0.001000\n",
      "Training - Loss: 0.6798, Accuracy: 0.76, Runtime: 11.46\n",
      "Test - Loss: 0.8684, Accuracy: 0.70\n",
      "Epoch: 13, Learning rate: 0.001000\n",
      "Training - Loss: 0.6389, Accuracy: 0.78, Runtime: 11.41\n",
      "Test - Loss: 0.8506, Accuracy: 0.71\n",
      "Epoch: 14, Learning rate: 0.001000\n",
      "Training - Loss: 0.5951, Accuracy: 0.80, Runtime: 11.34\n",
      "Test - Loss: 0.8430, Accuracy: 0.71\n",
      "Epoch: 15, Learning rate: 0.001000\n",
      "Training - Loss: 0.5519, Accuracy: 0.81, Runtime: 11.17\n",
      "Test - Loss: 0.8643, Accuracy: 0.71\n",
      "Epoch: 16, Learning rate: 0.001000\n",
      "Training - Loss: 0.5100, Accuracy: 0.82, Runtime: 11.10\n",
      "Test - Loss: 0.8838, Accuracy: 0.70\n",
      "Epoch: 17, Learning rate: 0.001000\n",
      "Training - Loss: 0.4760, Accuracy: 0.84, Runtime: 11.35\n",
      "Test - Loss: 0.8597, Accuracy: 0.72\n",
      "Epoch: 18, Learning rate: 0.001000\n",
      "Training - Loss: 0.4375, Accuracy: 0.85, Runtime: 11.43\n",
      "Test - Loss: 0.8757, Accuracy: 0.72\n",
      "Epoch: 19, Learning rate: 0.001000\n",
      "Training - Loss: 0.3965, Accuracy: 0.86, Runtime: 11.37\n",
      "Test - Loss: 0.9239, Accuracy: 0.71\n",
      "Epoch: 20, Learning rate: 0.001000\n",
      "Training - Loss: 0.3566, Accuracy: 0.88, Runtime: 11.22\n",
      "Test - Loss: 0.9150, Accuracy: 0.72\n",
      "Done! - Runtime: 325.93 seconds\n",
      "Accuracy for class: plane is 75.5 %\n",
      "Accuracy for class: car   is 82.9 %\n",
      "Accuracy for class: bird  is 62.0 %\n",
      "Accuracy for class: cat   is 48.8 %\n",
      "Accuracy for class: deer  is 60.7 %\n",
      "Accuracy for class: dog   is 61.2 %\n",
      "Accuracy for class: frog  is 82.8 %\n",
      "Accuracy for class: horse is 77.6 %\n",
      "Accuracy for class: ship  is 84.7 %\n",
      "Accuracy for class: truck is 83.3 %\n"
     ]
    }
   ],
   "source": [
    "model_transf = Net()\n",
    "model_transf.to(device)\n",
    "\n",
    "model_transf_dict = dict(model=model_transf, criterion=criterion, device=device, lr=0.001, momentum=0.9,\n",
    "                         max_epochs=max_epochs, do_test=True)\n",
    "\n",
    "stats = train_loop(trainloader_2, testloader, **model_transf_dict)\n",
    "\n",
    "es2_loss_acc[\"HorizFlip\"] = [stats[0], stats[3]]\n",
    "\n",
    "test_class(model_transf, device, criterion, testloader, classes)"
   ]
  },
  {
   "cell_type": "markdown",
   "id": "2d03b733-4c6a-4e1e-bb48-fa66ead47917",
   "metadata": {
    "jp-MarkdownHeadingCollapsed": true
   },
   "source": [
    "### Gaussian blur transforms"
   ]
  },
  {
   "cell_type": "code",
   "execution_count": 92,
   "id": "2c1d5bb4-3f4c-40ea-b451-b8be47f22f51",
   "metadata": {},
   "outputs": [],
   "source": [
    "transf3 = transforms.Compose([\n",
    "    transforms.GaussianBlur(kernel_size=5, sigma=(0.1, 0.8)),\n",
    "    transforms.ToTensor()\n",
    "])\n",
    "\n",
    "trainset_3 = torchvision.datasets.CIFAR10(root='./data', train=True, transform=transf3)\n",
    "trainloader_3 = torch.utils.data.DataLoader(trainset_3, batch_size=batch_size, shuffle=True, num_workers=2)"
   ]
  },
  {
   "cell_type": "code",
   "execution_count": 93,
   "id": "dc0dfa8b-9295-4663-b0d3-e8f344a4cd1c",
   "metadata": {},
   "outputs": [
    {
     "name": "stdout",
     "output_type": "stream",
     "text": [
      "Samples 50000\n",
      "Mean tensor([0.4913, 0.4821, 0.4464])\n",
      "Std tensor([0.1951, 0.1923, 0.1940])\n"
     ]
    }
   ],
   "source": [
    "mean = torch.zeros(3)  # a mean for each channel, here 1\n",
    "std = torch.zeros(3)  # a std for each channel, here 1\n",
    "samples = 0\n",
    "\n",
    "# simple because we only have one channel, that is greyscale\n",
    "for X, y in trainloader_3:\n",
    "    # width and height over one dimension\n",
    "    X = torch.flatten(X, 2, 3)\n",
    "    # [batch_size, 3, 28*28]\n",
    "    # compute mean and std over each channel then sum and store\n",
    "    mean += X.mean(2).sum(0)\n",
    "    std += X.std(2).sum(0)\n",
    "    samples += X.size(0)\n",
    "\n",
    "print(f\"Samples {samples}\")\n",
    "mean /= samples\n",
    "print(f\"Mean {mean}\")\n",
    "std /= samples\n",
    "print(f\"Std {std}\")"
   ]
  },
  {
   "cell_type": "code",
   "execution_count": 94,
   "id": "3f94f9a2-d742-4a85-9fd3-bc54f9b8df61",
   "metadata": {},
   "outputs": [],
   "source": [
    "transf3 = transforms.Compose([\n",
    "    transforms.GaussianBlur(kernel_size=5, sigma=(0.1, 0.8)),\n",
    "    transforms.ToTensor(),\n",
    "    transforms.Normalize(mean, std)\n",
    "])\n",
    "\n",
    "trainset_3 = torchvision.datasets.CIFAR10(root='./data', train=True, transform=transf3)\n",
    "trainloader_3 = torch.utils.data.DataLoader(trainset_3, batch_size=batch_size, shuffle=True, num_workers=2)"
   ]
  },
  {
   "cell_type": "code",
   "execution_count": 95,
   "id": "86ddd322-aa8d-4d67-8cbe-7cb5ae30d5fb",
   "metadata": {
    "collapsed": true,
    "jupyter": {
     "outputs_hidden": true
    },
    "scrolled": true
   },
   "outputs": [
    {
     "name": "stdout",
     "output_type": "stream",
     "text": [
      "Epoch: 1, Learning rate: 0.001000\n",
      "Training - Loss: 1.9041, Accuracy: 0.32, Runtime: 15.01\n",
      "Test - Loss: 1.5750, Accuracy: 0.42\n",
      "Epoch: 2, Learning rate: 0.001000\n",
      "Training - Loss: 1.4983, Accuracy: 0.46, Runtime: 15.81\n",
      "Test - Loss: 1.4027, Accuracy: 0.50\n",
      "Epoch: 3, Learning rate: 0.001000\n",
      "Training - Loss: 1.3508, Accuracy: 0.52, Runtime: 15.88\n",
      "Test - Loss: 1.3036, Accuracy: 0.54\n",
      "Epoch: 4, Learning rate: 0.001000\n",
      "Training - Loss: 1.2480, Accuracy: 0.56, Runtime: 15.19\n",
      "Test - Loss: 1.2558, Accuracy: 0.55\n",
      "Epoch: 5, Learning rate: 0.001000\n",
      "Training - Loss: 1.1560, Accuracy: 0.59, Runtime: 18.33\n",
      "Test - Loss: 1.1899, Accuracy: 0.58\n",
      "Epoch: 6, Learning rate: 0.001000\n",
      "Training - Loss: 1.0743, Accuracy: 0.62, Runtime: 19.12\n",
      "Test - Loss: 1.0929, Accuracy: 0.61\n",
      "Epoch: 7, Learning rate: 0.001000\n",
      "Training - Loss: 0.9948, Accuracy: 0.65, Runtime: 17.63\n",
      "Test - Loss: 1.0584, Accuracy: 0.63\n",
      "Epoch: 8, Learning rate: 0.001000\n",
      "Training - Loss: 0.9184, Accuracy: 0.68, Runtime: 17.37\n",
      "Test - Loss: 1.0720, Accuracy: 0.62\n",
      "Epoch: 9, Learning rate: 0.001000\n",
      "Training - Loss: 0.8447, Accuracy: 0.70, Runtime: 17.43\n",
      "Test - Loss: 1.0065, Accuracy: 0.65\n",
      "Epoch: 10, Learning rate: 0.001000\n",
      "Training - Loss: 0.7763, Accuracy: 0.73, Runtime: 17.24\n",
      "Test - Loss: 1.0109, Accuracy: 0.66\n",
      "Epoch: 11, Learning rate: 0.001000\n",
      "Training - Loss: 0.7021, Accuracy: 0.75, Runtime: 17.34\n",
      "Test - Loss: 1.0051, Accuracy: 0.66\n",
      "Epoch: 12, Learning rate: 0.001000\n",
      "Training - Loss: 0.6329, Accuracy: 0.78, Runtime: 17.42\n",
      "Test - Loss: 1.0162, Accuracy: 0.67\n",
      "Epoch: 13, Learning rate: 0.001000\n",
      "Training - Loss: 0.5605, Accuracy: 0.80, Runtime: 17.44\n",
      "Test - Loss: 1.0521, Accuracy: 0.66\n",
      "Epoch: 14, Learning rate: 0.001000\n",
      "Training - Loss: 0.4862, Accuracy: 0.83, Runtime: 17.04\n",
      "Test - Loss: 1.1024, Accuracy: 0.67\n",
      "Epoch: 15, Learning rate: 0.001000\n",
      "Training - Loss: 0.4178, Accuracy: 0.85, Runtime: 17.12\n",
      "Test - Loss: 1.2118, Accuracy: 0.66\n",
      "Epoch: 16, Learning rate: 0.001000\n",
      "Training - Loss: 0.3433, Accuracy: 0.88, Runtime: 17.34\n",
      "Test - Loss: 1.2759, Accuracy: 0.66\n",
      "Epoch: 17, Learning rate: 0.001000\n",
      "Training - Loss: 0.2815, Accuracy: 0.90, Runtime: 17.47\n",
      "Test - Loss: 1.3202, Accuracy: 0.66\n",
      "Epoch: 18, Learning rate: 0.001000\n",
      "Training - Loss: 0.2253, Accuracy: 0.92, Runtime: 17.33\n",
      "Test - Loss: 1.4951, Accuracy: 0.65\n",
      "Epoch: 19, Learning rate: 0.001000\n",
      "Training - Loss: 0.1786, Accuracy: 0.94, Runtime: 17.28\n",
      "Test - Loss: 1.6261, Accuracy: 0.65\n",
      "Epoch: 20, Learning rate: 0.001000\n",
      "Training - Loss: 0.1437, Accuracy: 0.95, Runtime: 17.32\n",
      "Test - Loss: 1.7076, Accuracy: 0.65\n",
      "Done! - Runtime: 444.74 seconds\n",
      "Accuracy for class: plane is 71.4 %\n",
      "Accuracy for class: car   is 77.4 %\n",
      "Accuracy for class: bird  is 57.8 %\n",
      "Accuracy for class: cat   is 40.0 %\n",
      "Accuracy for class: deer  is 60.8 %\n",
      "Accuracy for class: dog   is 54.4 %\n",
      "Accuracy for class: frog  is 71.2 %\n",
      "Accuracy for class: horse is 74.9 %\n",
      "Accuracy for class: ship  is 75.7 %\n",
      "Accuracy for class: truck is 67.4 %\n"
     ]
    }
   ],
   "source": [
    "model_transf = Net()\n",
    "model_transf.to(device)\n",
    "\n",
    "model_transf_dict = dict(model=model_transf, criterion=criterion, device=device, lr=0.001, momentum=0.9,\n",
    "                         max_epochs=max_epochs, do_test=True)\n",
    "\n",
    "stats = train_loop(trainloader_3, testloader, **model_transf_dict)\n",
    "\n",
    "es2_loss_acc[\"Blur\"] = [stats[0], stats[3]]\n",
    "\n",
    "test_class(model_transf, device, criterion, testloader, classes)"
   ]
  },
  {
   "cell_type": "markdown",
   "id": "6f047b37-f06f-45cc-939b-583c1dbbd989",
   "metadata": {},
   "source": [
    "### Show tranforms performance"
   ]
  },
  {
   "cell_type": "code",
   "execution_count": 96,
   "id": "274ba78b-41d6-4ed0-b612-3fdc1de79923",
   "metadata": {},
   "outputs": [
    {
     "data": {
      "image/png": "[encoded data removed]",
      "text/plain": [
       "<Figure size 1200x400 with 2 Axes>"
      ]
     },
     "metadata": {},
     "output_type": "display_data"
    }
   ],
   "source": [
    "multiple_diagnostic(es2_loss_acc, max_epochs)\n",
    "plt.savefig(\"./plots/cifar10-transforms-diagnostic.pdf\")"
   ]
  },
  {
   "cell_type": "markdown",
   "id": "1dfbf43e-1f69-4e6e-9100-112fb4aff346",
   "metadata": {},
   "source": [
    "### Show transforms"
   ]
  },
  {
   "cell_type": "code",
   "execution_count": 66,
   "id": "bcf58a24-d4eb-4435-936b-e6bebd1c3329",
   "metadata": {},
   "outputs": [],
   "source": [
    "notransform = transforms.Compose([transforms.ToTensor()])\n",
    "non_augmented = torchvision.datasets.CIFAR10(root='./data', train=True, transform=notransform)"
   ]
  },
  {
   "cell_type": "code",
   "execution_count": 74,
   "id": "9ee0ef69-391b-4175-ae45-17d8d9a03de9",
   "metadata": {},
   "outputs": [],
   "source": [
    "# plot real and augmented images\n",
    "from torchvision.utils import make_grid\n",
    "\n",
    "to_show = 20  # take the first images\n",
    "imgs = torch.stack((*[non_augmented[i][0] for i in range(to_show)],\n",
    "                    *[trainset_1[i][0] for i in range(to_show)],\n",
    "                    *[trainset_2[i][0] for i in range(to_show)],\n",
    "                    *[trainset_3[i][0] for i in range(to_show)]))\n",
    "grid = make_grid(imgs, nrow=to_show)\n",
    "\n",
    "image = transforms.ToPILImage()(grid)\n",
    "image.show()\n",
    "image.save(\"./plots/transforms.png\")"
   ]
  },
  {
   "cell_type": "markdown",
   "id": "8b2cbc61-7224-46ce-8257-5394bc08969f",
   "metadata": {},
   "source": [
    "# Exercise 3"
   ]
  },
  {
   "cell_type": "markdown",
   "id": "464f4659-b6f7-4587-ad7f-780ec75acf8f",
   "metadata": {},
   "source": [
    "Fine-tuning of popular CNNs, use pre-trained as backbone"
   ]
  },
  {
   "cell_type": "markdown",
   "id": "e8b5b0bd-5dfa-458e-9e27-cc8d4d890c9d",
   "metadata": {
    "jp-MarkdownHeadingCollapsed": true
   },
   "source": [
    "### My Net"
   ]
  },
  {
   "cell_type": "code",
   "execution_count": null,
   "id": "615609d0-ae96-4be2-b0bf-bc4663fc57dc",
   "metadata": {
    "jupyter": {
     "source_hidden": true
    }
   },
   "outputs": [],
   "source": [
    "class Net(nn.Module):\n",
    "    def __init__(self):\n",
    "        super().__init__()\n",
    "        self.conv1 = nn.Conv2d(3, 6, 5)\n",
    "        self.pool = nn.MaxPool2d(2, 2)\n",
    "        self.conv2 = nn.Conv2d(6, 16, 5)\n",
    "        self.conv3 = nn.Conv2d(16, 32, 3)\n",
    "        self.fc1 = nn.Linear(16 * 5 * 5, 120)\n",
    "        self.fc2 = nn.Linear(120, 84)\n",
    "        self.fc3 = nn.Linear(84, 10)\n",
    "\n",
    "    def forward(self, x):\n",
    "        x = self.pool(F.relu(self.conv1(x)))\n",
    "        x = self.pool(F.relu(self.conv2(x)))\n",
    "        x = torch.flatten(x, 1)  # flatten all dimensions except batch\n",
    "        x = F.relu(self.fc1(x))\n",
    "        x = F.relu(self.fc2(x))\n",
    "        x = self.fc3(x)\n",
    "        return x"
   ]
  },
  {
   "cell_type": "code",
   "execution_count": 9,
   "id": "122fbd3a-8cda-4718-9dee-1a49bbc8652e",
   "metadata": {},
   "outputs": [],
   "source": [
    "notransform = transforms.Compose([transforms.ToTensor(), transforms.Normalize(mean, std)])\n",
    "non_augmented = torchvision.datasets.CIFAR10(root='./data', train=True, transform=notransform)"
   ]
  },
  {
   "cell_type": "code",
   "execution_count": 10,
   "id": "01be3947-f799-4a13-afc5-070877501a59",
   "metadata": {
    "jupyter": {
     "source_hidden": true
    }
   },
   "outputs": [],
   "source": [
    "# con troppe trasformazioni va lento perché le applica online\n",
    "transform = transforms.Compose([\n",
    "    # geometric transforms\n",
    "    # transforms.RandomRotation(degrees=20),  # rotates the image randomly within a range of -20 to 20 degrees\n",
    "    # transforms.RandomAffine(degrees=15, translate=(0.1, 0.1), scale=(0.8, 1.2), shear=10),\n",
    "    transforms.RandomHorizontalFlip(p=0.5),  # flips the image horizontally with a 50% probability\n",
    "    # transforms.RandomResizedCrop(size=(32, 32), scale=(0.8, 1.0)),  # randomly crops between 80% and 100% of the original image and resizes to 32x32\n",
    "    # color transforms\n",
    "    transforms.ColorJitter(brightness=0.2, contrast=0.2, saturation=0.2, hue=0.1),  # randomly changes the brightness, contrast, saturation, and hue of the image\n",
    "    # transforms.RandomGrayscale(p=0.1),  # converts the image to grayscale with a 10% probability\n",
    "    # noise injection\n",
    "    # transforms.GaussianBlur(kernel_size=5, sigma=(0.1, 0.8)),  # applies a Gaussian blur with a specified range for sigma\n",
    "    # normalization\n",
    "    #transforms.RandomErasing(p=0.5, scale=(0.02, 0.33), ratio=(0.3, 3.3)),  # randomly selects a rectangle region in an image and erases its pixels\n",
    "    transforms.ToTensor(),\n",
    "    # transforms.Resize(224),  # for alexnet\n",
    "    transforms.Normalize(mean, std)])\n",
    "\n",
    "trainset = torchvision.datasets.CIFAR10(root='./data', train=True, transform=transform)"
   ]
  },
  {
   "cell_type": "code",
   "execution_count": 29,
   "id": "cb09b9ae-63c5-487c-8b83-59ea79031154",
   "metadata": {},
   "outputs": [
    {
     "name": "stdout",
     "output_type": "stream",
     "text": [
      "Files already downloaded and verified\n"
     ]
    }
   ],
   "source": [
    "transform = transforms.Compose(\n",
    "    [transforms.ToTensor(),\n",
    "     #transforms.Resize(224),  # for alexnet\n",
    "     transforms.Normalize(mean, std)])\n",
    "\n",
    "testset = torchvision.datasets.CIFAR10(root='./data', train=False, download=True, transform=transform)\n",
    "\n",
    "testloader = torch.utils.data.DataLoader(testset, batch_size=batch_size, shuffle=False, num_workers=2)"
   ]
  },
  {
   "cell_type": "code",
   "execution_count": 11,
   "id": "274fe2f8-4258-4619-bb4b-afb4f03d7aa2",
   "metadata": {},
   "outputs": [],
   "source": [
    "trainloader = torch.utils.data.DataLoader(trainset, batch_size=batch_size, shuffle=True, num_workers=2)\n",
    "testloader = torch.utils.data.DataLoader(testset, batch_size=batch_size, shuffle=False, num_workers=2)"
   ]
  },
  {
   "cell_type": "code",
   "execution_count": 20,
   "id": "620e70a6-26f7-48fa-825e-ae0348def43c",
   "metadata": {
    "collapsed": true,
    "jupyter": {
     "outputs_hidden": true,
     "source_hidden": true
    },
    "scrolled": true
   },
   "outputs": [
    {
     "name": "stdout",
     "output_type": "stream",
     "text": [
      "Epoch: 0, Loss: 2.2560, Accuracy: 0.15, Runtime: 13.69\n",
      "Epoch: 1, Loss: 1.9195, Accuracy: 0.31, Runtime: 13.73\n",
      "Epoch: 2, Loss: 1.6988, Accuracy: 0.39, Runtime: 13.91\n",
      "Epoch: 3, Loss: 1.5789, Accuracy: 0.44, Runtime: 13.71\n",
      "Epoch: 4, Loss: 1.5040, Accuracy: 0.46, Runtime: 13.76\n",
      "Epoch: 5, Loss: 1.4401, Accuracy: 0.49, Runtime: 13.66\n",
      "Epoch: 6, Loss: 1.3854, Accuracy: 0.51, Runtime: 13.72\n",
      "Epoch: 7, Loss: 1.3348, Accuracy: 0.53, Runtime: 13.64\n",
      "Epoch: 8, Loss: 1.2886, Accuracy: 0.55, Runtime: 13.61\n",
      "Epoch: 9, Loss: 1.2479, Accuracy: 0.56, Runtime: 13.58\n",
      "Epoch: 10, Loss: 1.2126, Accuracy: 0.58, Runtime: 13.71\n",
      "Epoch: 11, Loss: 1.1827, Accuracy: 0.59, Runtime: 13.62\n",
      "Epoch: 12, Loss: 1.1538, Accuracy: 0.60, Runtime: 13.63\n",
      "Epoch: 13, Loss: 1.1251, Accuracy: 0.61, Runtime: 13.63\n",
      "Epoch: 14, Loss: 1.1103, Accuracy: 0.61, Runtime: 13.63\n",
      "Epoch: 15, Loss: 1.0878, Accuracy: 0.62, Runtime: 13.57\n",
      "Epoch: 16, Loss: 1.0643, Accuracy: 0.63, Runtime: 13.61\n",
      "Epoch: 17, Loss: 1.0469, Accuracy: 0.64, Runtime: 13.62\n",
      "Epoch: 18, Loss: 1.0297, Accuracy: 0.64, Runtime: 13.64\n",
      "Epoch: 19, Loss: 1.0160, Accuracy: 0.65, Runtime: 13.67\n",
      "Runtime: 273.35 seconds\n",
      "Accuracy for class: plane is 27.0 %\n",
      "Accuracy for class: car   is 0.0 %\n",
      "Accuracy for class: bird  is 96.3 %\n",
      "Accuracy for class: cat   is 1.4 %\n",
      "Accuracy for class: deer  is 21.2 %\n",
      "Accuracy for class: dog   is 4.1 %\n",
      "Accuracy for class: frog  is 2.1 %\n",
      "Accuracy for class: horse is 1.0 %\n",
      "Accuracy for class: ship  is 57.4 %\n",
      "Accuracy for class: truck is 0.0 %\n"
     ]
    }
   ],
   "source": [
    "model = Net()\n",
    "model.to(device)\n",
    "\n",
    "criterion = nn.CrossEntropyLoss()\n",
    "optimizer = optim.SGD(model.parameters(), lr=0.001, momentum=0.9)\n",
    "\n",
    "losses, accs = [], []\n",
    "_start = time.time()\n",
    "_epoch_time = time.time()\n",
    "for epoch in range(20):\n",
    "    loss_k, acc_k = train(model, device, criterion, optimizer, trainloader)\n",
    "    losses.append(loss_k)\n",
    "    accs.append(acc_k)\n",
    "    print(f\"Epoch: {epoch}, Loss: {loss_k:.4f}, Accuracy: {acc_k:.2f}, Runtime: {(time.time() - _epoch_time):.2f}\")\n",
    "    _epoch_time = time.time()\n",
    "print(f\"Runtime: {(time.time() - _start):.2f} seconds\")\n",
    "# torch.save(model.state_dict(), 'net_augmented1.pth')\n",
    "\n",
    "# es1_loss_acc[\"SGD\"] = [losses, accs]\n",
    "\n",
    "test_class(model, device, criterion, testloader)"
   ]
  },
  {
   "cell_type": "markdown",
   "id": "855c47e5-53c0-4a39-83b8-c972594ee37e",
   "metadata": {},
   "source": [
    "### Train AlexNet"
   ]
  },
  {
   "cell_type": "code",
   "execution_count": 103,
   "id": "a0df9286-9f78-45a4-815e-6d7a65471f51",
   "metadata": {},
   "outputs": [],
   "source": [
    "import torchvision.models as models\n",
    "\n",
    "def count_trainable_parameters(model):\n",
    "    return sum(p.numel() for p in model.parameters() if p.requires_grad)"
   ]
  },
  {
   "cell_type": "code",
   "execution_count": 107,
   "id": "f3ee8584-2600-4b0f-bf06-83f65cfea140",
   "metadata": {},
   "outputs": [
    {
     "name": "stdout",
     "output_type": "stream",
     "text": [
      "Files already downloaded and verified\n",
      "Files already downloaded and verified\n"
     ]
    }
   ],
   "source": [
    "transform2 = transforms.Compose([\n",
    "    transforms.ToTensor(),\n",
    "    transforms.Resize(224),\n",
    "    transforms.Normalize(mean, std)])\n",
    "\n",
    "trainset = torchvision.datasets.CIFAR10(root='./data', train=True, download=True, transform=transform2)\n",
    "testset = torchvision.datasets.CIFAR10(root='./data', train=False, download=True, transform=transform2)\n",
    "\n",
    "trainloader = torch.utils.data.DataLoader(trainset, batch_size=batch_size, shuffle=True, num_workers=2)\n",
    "testloader = torch.utils.data.DataLoader(testset, batch_size=batch_size, shuffle=False, num_workers=2)"
   ]
  },
  {
   "cell_type": "code",
   "execution_count": 104,
   "id": "1ca126f7-cb49-4176-ad41-7766aec437b6",
   "metadata": {
    "collapsed": true,
    "jupyter": {
     "outputs_hidden": true
    },
    "scrolled": true
   },
   "outputs": [
    {
     "name": "stdout",
     "output_type": "stream",
     "text": [
      "=================================================================\n",
      "Layer (type:depth-idx)                   Param #\n",
      "=================================================================\n",
      "AlexNet                                  --\n",
      "├─Sequential: 1-1                        --\n",
      "│    └─Conv2d: 2-1                       23,296\n",
      "│    └─ReLU: 2-2                         --\n",
      "│    └─MaxPool2d: 2-3                    --\n",
      "│    └─Conv2d: 2-4                       307,392\n",
      "│    └─ReLU: 2-5                         --\n",
      "│    └─MaxPool2d: 2-6                    --\n",
      "│    └─Conv2d: 2-7                       663,936\n",
      "│    └─ReLU: 2-8                         --\n",
      "│    └─Conv2d: 2-9                       884,992\n",
      "│    └─ReLU: 2-10                        --\n",
      "│    └─Conv2d: 2-11                      590,080\n",
      "│    └─ReLU: 2-12                        --\n",
      "│    └─MaxPool2d: 2-13                   --\n",
      "├─AdaptiveAvgPool2d: 1-2                 --\n",
      "├─Sequential: 1-3                        --\n",
      "│    └─Dropout: 2-14                     --\n",
      "│    └─Linear: 2-15                      37,752,832\n",
      "│    └─ReLU: 2-16                        --\n",
      "│    └─Dropout: 2-17                     --\n",
      "│    └─Linear: 2-18                      16,781,312\n",
      "│    └─ReLU: 2-19                        --\n",
      "│    └─Linear: 2-20                      40,970\n",
      "=================================================================\n",
      "Total params: 57,044,810\n",
      "Trainable params: 57,044,810\n",
      "Non-trainable params: 0\n",
      "=================================================================\n"
     ]
    }
   ],
   "source": [
    "alexnet = models.alexnet(weights=\"DEFAULT\")\n",
    "alexnet.classifier[6] = nn.Linear(alexnet.classifier[6].in_features, 10)\n",
    "alexnet.to(device)\n",
    "\n",
    "# print(f\"Trainable parameters: {count_trainable_parameters(alexnet)}\")\n",
    "print(summary(alexnet))"
   ]
  },
  {
   "cell_type": "code",
   "execution_count": 105,
   "id": "dc76a7a6-af4f-434b-81ae-fbc5fe4234f3",
   "metadata": {
    "collapsed": true,
    "jupyter": {
     "outputs_hidden": true
    }
   },
   "outputs": [
    {
     "name": "stdout",
     "output_type": "stream",
     "text": [
      "=================================================================\n",
      "Layer (type:depth-idx)                   Param #\n",
      "=================================================================\n",
      "AlexNet                                  --\n",
      "├─Sequential: 1-1                        --\n",
      "│    └─Conv2d: 2-1                       (23,296)\n",
      "│    └─ReLU: 2-2                         --\n",
      "│    └─MaxPool2d: 2-3                    --\n",
      "│    └─Conv2d: 2-4                       (307,392)\n",
      "│    └─ReLU: 2-5                         --\n",
      "│    └─MaxPool2d: 2-6                    --\n",
      "│    └─Conv2d: 2-7                       (663,936)\n",
      "│    └─ReLU: 2-8                         --\n",
      "│    └─Conv2d: 2-9                       (884,992)\n",
      "│    └─ReLU: 2-10                        --\n",
      "│    └─Conv2d: 2-11                      (590,080)\n",
      "│    └─ReLU: 2-12                        --\n",
      "│    └─MaxPool2d: 2-13                   --\n",
      "├─AdaptiveAvgPool2d: 1-2                 --\n",
      "├─Sequential: 1-3                        --\n",
      "│    └─Dropout: 2-14                     --\n",
      "│    └─Linear: 2-15                      (37,752,832)\n",
      "│    └─ReLU: 2-16                        --\n",
      "│    └─Dropout: 2-17                     --\n",
      "│    └─Linear: 2-18                      (16,781,312)\n",
      "│    └─ReLU: 2-19                        --\n",
      "│    └─Linear: 2-20                      40,970\n",
      "=================================================================\n",
      "Total params: 57,044,810\n",
      "Trainable params: 40,970\n",
      "Non-trainable params: 57,003,840\n",
      "=================================================================\n"
     ]
    }
   ],
   "source": [
    "# freeze all layers\n",
    "for param in alexnet.parameters():\n",
    "    param.requires_grad = False\n",
    "\n",
    "# let final layer be trainable, that goes into classification head\n",
    "alexnet.classifier[6].weight.requires_grad = True\n",
    "alexnet.classifier[6].bias.requires_grad = True\n",
    "# count_trainable_parameters(alexnet)  # 4096 * 10 + 1 (bias)\n",
    "print(summary(alexnet))"
   ]
  },
  {
   "cell_type": "code",
   "execution_count": 30,
   "id": "26c135a9-a37d-49b9-b50e-623a1a1dffab",
   "metadata": {},
   "outputs": [
    {
     "data": {
      "text/plain": [
       "tensor([[ 0.1415, -1.8886,  1.2051,  0.5140,  0.9456,  0.8066,  0.8011, -0.4020,\n",
       "         -0.7322, -1.3658]], device='cuda:0', grad_fn=<AddmmBackward0>)"
      ]
     },
     "execution_count": 30,
     "metadata": {},
     "output_type": "execute_result"
    }
   ],
   "source": [
    "alexnet(torch.randn(1, 3, 224, 224).to(device))"
   ]
  },
  {
   "cell_type": "code",
   "execution_count": 108,
   "id": "43d27287-2880-4268-8311-c1df26702880",
   "metadata": {
    "collapsed": true,
    "jupyter": {
     "outputs_hidden": true
    },
    "scrolled": true
   },
   "outputs": [
    {
     "name": "stdout",
     "output_type": "stream",
     "text": [
      "Epoch: 1, Learning rate: 0.001000\n",
      "Training - Loss: 0.7752, Accuracy: 0.73, Runtime: 38.21\n",
      "Test - Loss: 0.5897, Accuracy: 0.79\n",
      "Epoch: 2, Learning rate: 0.001000\n",
      "Training - Loss: 0.6470, Accuracy: 0.77, Runtime: 38.73\n",
      "Test - Loss: 0.5646, Accuracy: 0.80\n",
      "Epoch: 3, Learning rate: 0.001000\n",
      "Training - Loss: 0.6111, Accuracy: 0.78, Runtime: 41.52\n",
      "Test - Loss: 0.5345, Accuracy: 0.81\n",
      "Epoch: 4, Learning rate: 0.001000\n",
      "Training - Loss: 0.5928, Accuracy: 0.79, Runtime: 42.98\n",
      "Test - Loss: 0.5066, Accuracy: 0.82\n",
      "Epoch: 5, Learning rate: 0.001000\n",
      "Training - Loss: 0.5839, Accuracy: 0.79, Runtime: 40.44\n",
      "Test - Loss: 0.5132, Accuracy: 0.82\n",
      "Epoch: 6, Learning rate: 0.001000\n",
      "Training - Loss: 0.5716, Accuracy: 0.80, Runtime: 40.28\n",
      "Test - Loss: 0.5092, Accuracy: 0.82\n",
      "Done! - Runtime: 314.61 seconds\n",
      "=========\n",
      "Accuracy for class: plane is 84.3 %\n",
      "Accuracy for class: car   is 84.1 %\n",
      "Accuracy for class: bird  is 68.9 %\n",
      "Accuracy for class: cat   is 64.0 %\n",
      "Accuracy for class: deer  is 79.4 %\n",
      "Accuracy for class: dog   is 83.6 %\n",
      "Accuracy for class: frog  is 87.9 %\n",
      "Accuracy for class: horse is 84.3 %\n",
      "Accuracy for class: ship  is 87.2 %\n",
      "Accuracy for class: truck is 93.7 %\n"
     ]
    }
   ],
   "source": [
    "criterion = nn.CrossEntropyLoss()\n",
    "\n",
    "alexnet_dict = dict(model=alexnet, criterion=criterion, device=device, lr=0.001, momentum=0.9,\n",
    "                    max_epochs=6, do_test=True)\n",
    "\n",
    "stats = train_loop(trainloader, testloader, **alexnet_dict)\n",
    "\n",
    "print(\"=========\")\n",
    "test_class(alexnet, device, criterion, testloader, classes)"
   ]
  },
  {
   "cell_type": "markdown",
   "id": "00a750ab-47f0-43b6-ad27-3ae423d983d1",
   "metadata": {
    "jp-MarkdownHeadingCollapsed": true
   },
   "source": [
    "### Train VGG16"
   ]
  },
  {
   "cell_type": "code",
   "execution_count": 22,
   "id": "ea301240-d793-4170-bcca-95334dd19bf2",
   "metadata": {
    "collapsed": true,
    "jupyter": {
     "outputs_hidden": true
    },
    "scrolled": true
   },
   "outputs": [
    {
     "name": "stdout",
     "output_type": "stream",
     "text": [
      "=================================================================\n",
      "Layer (type:depth-idx)                   Param #\n",
      "=================================================================\n",
      "VGG                                      --\n",
      "├─Sequential: 1-1                        --\n",
      "│    └─Conv2d: 2-1                       1,792\n",
      "│    └─ReLU: 2-2                         --\n",
      "│    └─Conv2d: 2-3                       36,928\n",
      "│    └─ReLU: 2-4                         --\n",
      "│    └─MaxPool2d: 2-5                    --\n",
      "│    └─Conv2d: 2-6                       73,856\n",
      "│    └─ReLU: 2-7                         --\n",
      "│    └─Conv2d: 2-8                       147,584\n",
      "│    └─ReLU: 2-9                         --\n",
      "│    └─MaxPool2d: 2-10                   --\n",
      "│    └─Conv2d: 2-11                      295,168\n",
      "│    └─ReLU: 2-12                        --\n",
      "│    └─Conv2d: 2-13                      590,080\n",
      "│    └─ReLU: 2-14                        --\n",
      "│    └─Conv2d: 2-15                      590,080\n",
      "│    └─ReLU: 2-16                        --\n",
      "│    └─MaxPool2d: 2-17                   --\n",
      "│    └─Conv2d: 2-18                      1,180,160\n",
      "│    └─ReLU: 2-19                        --\n",
      "│    └─Conv2d: 2-20                      2,359,808\n",
      "│    └─ReLU: 2-21                        --\n",
      "│    └─Conv2d: 2-22                      2,359,808\n",
      "│    └─ReLU: 2-23                        --\n",
      "│    └─MaxPool2d: 2-24                   --\n",
      "│    └─Conv2d: 2-25                      2,359,808\n",
      "│    └─ReLU: 2-26                        --\n",
      "│    └─Conv2d: 2-27                      2,359,808\n",
      "│    └─ReLU: 2-28                        --\n",
      "│    └─Conv2d: 2-29                      2,359,808\n",
      "│    └─ReLU: 2-30                        --\n",
      "│    └─MaxPool2d: 2-31                   --\n",
      "├─AdaptiveAvgPool2d: 1-2                 --\n",
      "├─Sequential: 1-3                        --\n",
      "│    └─Linear: 2-32                      102,764,544\n",
      "│    └─ReLU: 2-33                        --\n",
      "│    └─Dropout: 2-34                     --\n",
      "│    └─Linear: 2-35                      16,781,312\n",
      "│    └─ReLU: 2-36                        --\n",
      "│    └─Dropout: 2-37                     --\n",
      "│    └─Linear: 2-38                      40,970\n",
      "=================================================================\n",
      "Total params: 134,301,514\n",
      "Trainable params: 134,301,514\n",
      "Non-trainable params: 0\n",
      "=================================================================\n"
     ]
    }
   ],
   "source": [
    "vgg16 = models.vgg16(weights=\"DEFAULT\")\n",
    "vgg16.classifier[6] = nn.Linear(vgg16.classifier[6].in_features, 10)\n",
    "vgg16.to(device)\n",
    "# print(vgg16)\n",
    "\n",
    "print(summary(vgg16))"
   ]
  },
  {
   "cell_type": "markdown",
   "id": "412f5f26-b7be-46a9-a9ef-d71251aabeed",
   "metadata": {},
   "source": [
    "### Train ResNet18"
   ]
  },
  {
   "cell_type": "code",
   "execution_count": 11,
   "id": "3dfb692f-2c01-4a9f-942e-3e11fe3ca33d",
   "metadata": {
    "collapsed": true,
    "jupyter": {
     "outputs_hidden": true
    },
    "scrolled": true
   },
   "outputs": [
    {
     "name": "stdout",
     "output_type": "stream",
     "text": [
      "=================================================================\n",
      "Layer (type:depth-idx)                   Param #\n",
      "=================================================================\n",
      "ResNet                                   --\n",
      "├─Conv2d: 1-1                            9,408\n",
      "├─BatchNorm2d: 1-2                       128\n",
      "├─ReLU: 1-3                              --\n",
      "├─MaxPool2d: 1-4                         --\n",
      "├─Sequential: 1-5                        --\n",
      "│    └─BasicBlock: 2-1                   --\n",
      "│    │    └─Conv2d: 3-1                  36,864\n",
      "│    │    └─BatchNorm2d: 3-2             128\n",
      "│    │    └─ReLU: 3-3                    --\n",
      "│    │    └─Conv2d: 3-4                  36,864\n",
      "│    │    └─BatchNorm2d: 3-5             128\n",
      "│    └─BasicBlock: 2-2                   --\n",
      "│    │    └─Conv2d: 3-6                  36,864\n",
      "│    │    └─BatchNorm2d: 3-7             128\n",
      "│    │    └─ReLU: 3-8                    --\n",
      "│    │    └─Conv2d: 3-9                  36,864\n",
      "│    │    └─BatchNorm2d: 3-10            128\n",
      "├─Sequential: 1-6                        --\n",
      "│    └─BasicBlock: 2-3                   --\n",
      "│    │    └─Conv2d: 3-11                 73,728\n",
      "│    │    └─BatchNorm2d: 3-12            256\n",
      "│    │    └─ReLU: 3-13                   --\n",
      "│    │    └─Conv2d: 3-14                 147,456\n",
      "│    │    └─BatchNorm2d: 3-15            256\n",
      "│    │    └─Sequential: 3-16             8,448\n",
      "│    └─BasicBlock: 2-4                   --\n",
      "│    │    └─Conv2d: 3-17                 147,456\n",
      "│    │    └─BatchNorm2d: 3-18            256\n",
      "│    │    └─ReLU: 3-19                   --\n",
      "│    │    └─Conv2d: 3-20                 147,456\n",
      "│    │    └─BatchNorm2d: 3-21            256\n",
      "├─Sequential: 1-7                        --\n",
      "│    └─BasicBlock: 2-5                   --\n",
      "│    │    └─Conv2d: 3-22                 294,912\n",
      "│    │    └─BatchNorm2d: 3-23            512\n",
      "│    │    └─ReLU: 3-24                   --\n",
      "│    │    └─Conv2d: 3-25                 589,824\n",
      "│    │    └─BatchNorm2d: 3-26            512\n",
      "│    │    └─Sequential: 3-27             33,280\n",
      "│    └─BasicBlock: 2-6                   --\n",
      "│    │    └─Conv2d: 3-28                 589,824\n",
      "│    │    └─BatchNorm2d: 3-29            512\n",
      "│    │    └─ReLU: 3-30                   --\n",
      "│    │    └─Conv2d: 3-31                 589,824\n",
      "│    │    └─BatchNorm2d: 3-32            512\n",
      "├─Sequential: 1-8                        --\n",
      "│    └─BasicBlock: 2-7                   --\n",
      "│    │    └─Conv2d: 3-33                 1,179,648\n",
      "│    │    └─BatchNorm2d: 3-34            1,024\n",
      "│    │    └─ReLU: 3-35                   --\n",
      "│    │    └─Conv2d: 3-36                 2,359,296\n",
      "│    │    └─BatchNorm2d: 3-37            1,024\n",
      "│    │    └─Sequential: 3-38             132,096\n",
      "│    └─BasicBlock: 2-8                   --\n",
      "│    │    └─Conv2d: 3-39                 2,359,296\n",
      "│    │    └─BatchNorm2d: 3-40            1,024\n",
      "│    │    └─ReLU: 3-41                   --\n",
      "│    │    └─Conv2d: 3-42                 2,359,296\n",
      "│    │    └─BatchNorm2d: 3-43            1,024\n",
      "├─AdaptiveAvgPool2d: 1-9                 --\n",
      "├─Linear: 1-10                           5,130\n",
      "=================================================================\n",
      "Total params: 11,181,642\n",
      "Trainable params: 11,181,642\n",
      "Non-trainable params: 0\n",
      "=================================================================\n"
     ]
    }
   ],
   "source": [
    "from torchvision import models\n",
    "\n",
    "resnet18 = models.resnet18(weights=\"DEFAULT\")\n",
    "resnet18.fc = nn.Linear(resnet18.fc.in_features, 10)\n",
    "resnet18.to(device)\n",
    "# print(resnet18)\n",
    "\n",
    "print(summary(resnet18))"
   ]
  },
  {
   "cell_type": "code",
   "execution_count": 12,
   "id": "566065e8-752c-4c84-9a88-8a7ea17c5b1a",
   "metadata": {
    "collapsed": true,
    "jupyter": {
     "outputs_hidden": true
    },
    "scrolled": true
   },
   "outputs": [
    {
     "name": "stdout",
     "output_type": "stream",
     "text": [
      "=================================================================\n",
      "Layer (type:depth-idx)                   Param #\n",
      "=================================================================\n",
      "ResNet                                   --\n",
      "├─Conv2d: 1-1                            (9,408)\n",
      "├─BatchNorm2d: 1-2                       (128)\n",
      "├─ReLU: 1-3                              --\n",
      "├─MaxPool2d: 1-4                         --\n",
      "├─Sequential: 1-5                        --\n",
      "│    └─BasicBlock: 2-1                   --\n",
      "│    │    └─Conv2d: 3-1                  (36,864)\n",
      "│    │    └─BatchNorm2d: 3-2             (128)\n",
      "│    │    └─ReLU: 3-3                    --\n",
      "│    │    └─Conv2d: 3-4                  (36,864)\n",
      "│    │    └─BatchNorm2d: 3-5             (128)\n",
      "│    └─BasicBlock: 2-2                   --\n",
      "│    │    └─Conv2d: 3-6                  (36,864)\n",
      "│    │    └─BatchNorm2d: 3-7             (128)\n",
      "│    │    └─ReLU: 3-8                    --\n",
      "│    │    └─Conv2d: 3-9                  (36,864)\n",
      "│    │    └─BatchNorm2d: 3-10            (128)\n",
      "├─Sequential: 1-6                        --\n",
      "│    └─BasicBlock: 2-3                   --\n",
      "│    │    └─Conv2d: 3-11                 (73,728)\n",
      "│    │    └─BatchNorm2d: 3-12            (256)\n",
      "│    │    └─ReLU: 3-13                   --\n",
      "│    │    └─Conv2d: 3-14                 (147,456)\n",
      "│    │    └─BatchNorm2d: 3-15            (256)\n",
      "│    │    └─Sequential: 3-16             (8,448)\n",
      "│    └─BasicBlock: 2-4                   --\n",
      "│    │    └─Conv2d: 3-17                 (147,456)\n",
      "│    │    └─BatchNorm2d: 3-18            (256)\n",
      "│    │    └─ReLU: 3-19                   --\n",
      "│    │    └─Conv2d: 3-20                 (147,456)\n",
      "│    │    └─BatchNorm2d: 3-21            (256)\n",
      "├─Sequential: 1-7                        --\n",
      "│    └─BasicBlock: 2-5                   --\n",
      "│    │    └─Conv2d: 3-22                 (294,912)\n",
      "│    │    └─BatchNorm2d: 3-23            (512)\n",
      "│    │    └─ReLU: 3-24                   --\n",
      "│    │    └─Conv2d: 3-25                 (589,824)\n",
      "│    │    └─BatchNorm2d: 3-26            (512)\n",
      "│    │    └─Sequential: 3-27             (33,280)\n",
      "│    └─BasicBlock: 2-6                   --\n",
      "│    │    └─Conv2d: 3-28                 (589,824)\n",
      "│    │    └─BatchNorm2d: 3-29            (512)\n",
      "│    │    └─ReLU: 3-30                   --\n",
      "│    │    └─Conv2d: 3-31                 (589,824)\n",
      "│    │    └─BatchNorm2d: 3-32            (512)\n",
      "├─Sequential: 1-8                        --\n",
      "│    └─BasicBlock: 2-7                   --\n",
      "│    │    └─Conv2d: 3-33                 (1,179,648)\n",
      "│    │    └─BatchNorm2d: 3-34            (1,024)\n",
      "│    │    └─ReLU: 3-35                   --\n",
      "│    │    └─Conv2d: 3-36                 (2,359,296)\n",
      "│    │    └─BatchNorm2d: 3-37            (1,024)\n",
      "│    │    └─Sequential: 3-38             (132,096)\n",
      "│    └─BasicBlock: 2-8                   --\n",
      "│    │    └─Conv2d: 3-39                 (2,359,296)\n",
      "│    │    └─BatchNorm2d: 3-40            (1,024)\n",
      "│    │    └─ReLU: 3-41                   --\n",
      "│    │    └─Conv2d: 3-42                 (2,359,296)\n",
      "│    │    └─BatchNorm2d: 3-43            (1,024)\n",
      "├─AdaptiveAvgPool2d: 1-9                 --\n",
      "├─Linear: 1-10                           5,130\n",
      "=================================================================\n",
      "Total params: 11,181,642\n",
      "Trainable params: 5,130\n",
      "Non-trainable params: 11,176,512\n",
      "=================================================================\n"
     ]
    }
   ],
   "source": [
    "# freeze all layers\n",
    "for param in resnet18.parameters():\n",
    "    param.requires_grad = False\n",
    "\n",
    "# let final layer be trainable, that goes into classification head\n",
    "resnet18.fc.weight.requires_grad = True\n",
    "resnet18.fc.bias.requires_grad = True\n",
    "#count_trainable_parameters(resnet18)\n",
    "print(summary(resnet18))"
   ]
  },
  {
   "cell_type": "code",
   "execution_count": 112,
   "id": "8f89c79b-f004-4700-b3b5-f30a0bc9f755",
   "metadata": {
    "collapsed": true,
    "jupyter": {
     "outputs_hidden": true
    },
    "scrolled": true
   },
   "outputs": [
    {
     "name": "stdout",
     "output_type": "stream",
     "text": [
      "Epoch: 1, Learning rate: 0.001000\n",
      "Training - Loss: 0.6070, Accuracy: 0.80, Runtime: 74.44\n",
      "Test - Loss: 0.5969, Accuracy: 0.80\n",
      "Epoch: 2, Learning rate: 0.001000\n",
      "Training - Loss: 0.5941, Accuracy: 0.80, Runtime: 76.44\n",
      "Test - Loss: 0.5871, Accuracy: 0.80\n",
      "Epoch: 3, Learning rate: 0.001000\n",
      "Training - Loss: 0.5871, Accuracy: 0.80, Runtime: 76.83\n",
      "Test - Loss: 0.5826, Accuracy: 0.80\n",
      "Epoch: 4, Learning rate: 0.001000\n",
      "Training - Loss: 0.5786, Accuracy: 0.80, Runtime: 76.40\n",
      "Test - Loss: 0.5834, Accuracy: 0.80\n"
     ]
    },
    {
     "ename": "KeyboardInterrupt",
     "evalue": "",
     "output_type": "error",
     "traceback": [
      "\u001b[1;31m---------------------------------------------------------------------------\u001b[0m",
      "\u001b[1;31mKeyboardInterrupt\u001b[0m                         Traceback (most recent call last)",
      "Cell \u001b[1;32mIn[112], line 6\u001b[0m\n\u001b[0;32m      1\u001b[0m criterion \u001b[38;5;241m=\u001b[39m nn\u001b[38;5;241m.\u001b[39mCrossEntropyLoss()\n\u001b[0;32m      3\u001b[0m resnet18_dict \u001b[38;5;241m=\u001b[39m \u001b[38;5;28mdict\u001b[39m(model\u001b[38;5;241m=\u001b[39mresnet18, criterion\u001b[38;5;241m=\u001b[39mcriterion, device\u001b[38;5;241m=\u001b[39mdevice, lr\u001b[38;5;241m=\u001b[39m\u001b[38;5;241m0.001\u001b[39m, momentum\u001b[38;5;241m=\u001b[39m\u001b[38;5;241m0.9\u001b[39m,\n\u001b[0;32m      4\u001b[0m                      max_epochs\u001b[38;5;241m=\u001b[39m\u001b[38;5;241m6\u001b[39m, do_test\u001b[38;5;241m=\u001b[39m\u001b[38;5;28;01mTrue\u001b[39;00m)\n\u001b[1;32m----> 6\u001b[0m stats \u001b[38;5;241m=\u001b[39m train_loop(trainloader, testloader, \u001b[38;5;241m*\u001b[39m\u001b[38;5;241m*\u001b[39mresnet18_dict)\n\u001b[0;32m      8\u001b[0m \u001b[38;5;28mprint\u001b[39m(\u001b[38;5;124m\"\u001b[39m\u001b[38;5;124m=========\u001b[39m\u001b[38;5;124m\"\u001b[39m)\n\u001b[0;32m      9\u001b[0m test_class(resnet18, device, criterion, testloader, classes)\n",
      "File \u001b[1;32m~\\Documents\\Python Projects\\Comp-Viz\\Lab1\\lab1_utils.py:96\u001b[0m, in \u001b[0;36mtrain_loop\u001b[1;34m(train_loader, test_loader, model, criterion, device, lr, momentum, max_epochs, do_test)\u001b[0m\n\u001b[0;32m     93\u001b[0m _epoch_time \u001b[38;5;241m=\u001b[39m time\u001b[38;5;241m.\u001b[39mtime()\n\u001b[0;32m     95\u001b[0m \u001b[38;5;28;01mfor\u001b[39;00m epoch \u001b[38;5;129;01min\u001b[39;00m \u001b[38;5;28mrange\u001b[39m(\u001b[38;5;241m1\u001b[39m, max_epochs \u001b[38;5;241m+\u001b[39m \u001b[38;5;241m1\u001b[39m):\n\u001b[1;32m---> 96\u001b[0m     loss_train, acc_train \u001b[38;5;241m=\u001b[39m \u001b[43mtrain\u001b[49m\u001b[43m(\u001b[49m\u001b[43mmodel\u001b[49m\u001b[43m,\u001b[49m\u001b[43m \u001b[49m\u001b[43mdevice\u001b[49m\u001b[43m,\u001b[49m\u001b[43m \u001b[49m\u001b[43mtrain_loader\u001b[49m\u001b[43m,\u001b[49m\u001b[43m \u001b[49m\u001b[43mcriterion\u001b[49m\u001b[43m,\u001b[49m\u001b[43m \u001b[49m\u001b[43moptimizer\u001b[49m\u001b[43m)\u001b[49m\n\u001b[0;32m     97\u001b[0m     \u001b[38;5;28mprint\u001b[39m(\u001b[38;5;124mf\u001b[39m\u001b[38;5;124m\"\u001b[39m\u001b[38;5;124mEpoch: \u001b[39m\u001b[38;5;132;01m{\u001b[39;00mepoch\u001b[38;5;132;01m}\u001b[39;00m\u001b[38;5;124m, Learning rate: \u001b[39m\u001b[38;5;132;01m{\u001b[39;00mget_lr(optimizer)\u001b[38;5;132;01m:\u001b[39;00m\u001b[38;5;124m.6f\u001b[39m\u001b[38;5;132;01m}\u001b[39;00m\u001b[38;5;124m\"\u001b[39m)\n\u001b[0;32m     98\u001b[0m     \u001b[38;5;28mprint\u001b[39m(\u001b[38;5;124mf\u001b[39m\u001b[38;5;124m\"\u001b[39m\u001b[38;5;124mTraining - Loss: \u001b[39m\u001b[38;5;132;01m{\u001b[39;00mloss_train\u001b[38;5;132;01m:\u001b[39;00m\u001b[38;5;124m.4f\u001b[39m\u001b[38;5;132;01m}\u001b[39;00m\u001b[38;5;124m, Accuracy: \u001b[39m\u001b[38;5;132;01m{\u001b[39;00macc_train\u001b[38;5;132;01m:\u001b[39;00m\u001b[38;5;124m.2f\u001b[39m\u001b[38;5;132;01m}\u001b[39;00m\u001b[38;5;124m, Runtime: \u001b[39m\u001b[38;5;132;01m{\u001b[39;00m(time\u001b[38;5;241m.\u001b[39mtime()\u001b[38;5;250m \u001b[39m\u001b[38;5;241m-\u001b[39m\u001b[38;5;250m \u001b[39m_epoch_time)\u001b[38;5;132;01m:\u001b[39;00m\u001b[38;5;124m.2f\u001b[39m\u001b[38;5;132;01m}\u001b[39;00m\u001b[38;5;124m\"\u001b[39m)\n",
      "File \u001b[1;32m~\\Documents\\Python Projects\\Comp-Viz\\Lab1\\lab1_utils.py:25\u001b[0m, in \u001b[0;36mtrain\u001b[1;34m(model, device, train_loader, criterion, optimizer)\u001b[0m\n\u001b[0;32m     22\u001b[0m losses, accs \u001b[38;5;241m=\u001b[39m [], []\n\u001b[0;32m     23\u001b[0m correct \u001b[38;5;241m=\u001b[39m \u001b[38;5;241m0.\u001b[39m\n\u001b[1;32m---> 25\u001b[0m \u001b[38;5;28;01mfor\u001b[39;00m batch_idx, (data, target) \u001b[38;5;129;01min\u001b[39;00m \u001b[38;5;28menumerate\u001b[39m(train_loader):\n\u001b[0;32m     26\u001b[0m     \u001b[38;5;66;03m# get the inputs; data is a list of [inputs, labels]\u001b[39;00m\n\u001b[0;32m     27\u001b[0m     data, target \u001b[38;5;241m=\u001b[39m data\u001b[38;5;241m.\u001b[39mto(device), target\u001b[38;5;241m.\u001b[39mto(device)\n\u001b[0;32m     29\u001b[0m     \u001b[38;5;66;03m## zero the parameter gradients\u001b[39;00m\n",
      "\u001b[1;31mKeyboardInterrupt\u001b[0m: "
     ]
    }
   ],
   "source": [
    "criterion = nn.CrossEntropyLoss()\n",
    "\n",
    "resnet18_dict = dict(model=resnet18, criterion=criterion, device=device, lr=0.001, momentum=0.9,\n",
    "                     max_epochs=6, do_test=True)\n",
    "\n",
    "stats = train_loop(trainloader, testloader, **resnet18_dict)\n",
    "\n",
    "print(\"=========\")\n",
    "test_class(resnet18, device, criterion, testloader, classes)"
   ]
  },
  {
   "cell_type": "code",
   "execution_count": 113,
   "id": "2c6e1055-5ccc-4b5a-8300-f3a0096189a4",
   "metadata": {},
   "outputs": [
    {
     "name": "stdout",
     "output_type": "stream",
     "text": [
      "Accuracy for class: plane is 79.4 %\n",
      "Accuracy for class: car   is 91.2 %\n",
      "Accuracy for class: bird  is 74.4 %\n",
      "Accuracy for class: cat   is 70.1 %\n",
      "Accuracy for class: deer  is 75.6 %\n",
      "Accuracy for class: dog   is 75.9 %\n",
      "Accuracy for class: frog  is 85.7 %\n",
      "Accuracy for class: horse is 83.3 %\n",
      "Accuracy for class: ship  is 87.5 %\n",
      "Accuracy for class: truck is 83.2 %\n"
     ]
    }
   ],
   "source": [
    "test_class(resnet18, device, criterion, testloader, classes)"
   ]
  },
  {
   "cell_type": "code",
   "execution_count": 14,
   "id": "18f38789-a350-4be4-b92e-e3d3052302fb",
   "metadata": {
    "scrolled": true
   },
   "outputs": [
    {
     "name": "stdout",
     "output_type": "stream",
     "text": [
      "Epoch: 1, Learning rate: 0.010000\n",
      "Training - Loss: 1.9464, Accuracy: 0.39, Runtime: 11.16\n",
      "Test - Loss: 2.0002, Accuracy: 0.38\n",
      "Epoch: 2, Learning rate: 0.010000\n",
      "Training - Loss: 1.9667, Accuracy: 0.39, Runtime: 11.25\n",
      "Test - Loss: 1.9476, Accuracy: 0.41\n",
      "Epoch: 3, Learning rate: 0.010000\n",
      "Training - Loss: 1.9510, Accuracy: 0.40, Runtime: 11.12\n",
      "Test - Loss: 2.0313, Accuracy: 0.40\n",
      "Epoch: 4, Learning rate: 0.010000\n",
      "Training - Loss: 1.9518, Accuracy: 0.39, Runtime: 10.99\n",
      "Test - Loss: 1.9870, Accuracy: 0.39\n",
      "Epoch: 5, Learning rate: 0.010000\n",
      "Training - Loss: 1.9582, Accuracy: 0.39, Runtime: 11.16\n",
      "Test - Loss: 2.0102, Accuracy: 0.39\n",
      "Epoch: 6, Learning rate: 0.010000\n",
      "Training - Loss: 1.9671, Accuracy: 0.40, Runtime: 11.29\n"
     ]
    },
    {
     "ename": "KeyboardInterrupt",
     "evalue": "",
     "output_type": "error",
     "traceback": [
      "\u001b[1;31m---------------------------------------------------------------------------\u001b[0m",
      "\u001b[1;31mKeyboardInterrupt\u001b[0m                         Traceback (most recent call last)",
      "Cell \u001b[1;32mIn[14], line 6\u001b[0m\n\u001b[0;32m      1\u001b[0m criterion \u001b[38;5;241m=\u001b[39m nn\u001b[38;5;241m.\u001b[39mCrossEntropyLoss()\n\u001b[0;32m      3\u001b[0m resnet18_dict \u001b[38;5;241m=\u001b[39m \u001b[38;5;28mdict\u001b[39m(model\u001b[38;5;241m=\u001b[39mresnet18, criterion\u001b[38;5;241m=\u001b[39mcriterion, device\u001b[38;5;241m=\u001b[39mdevice, lr\u001b[38;5;241m=\u001b[39m\u001b[38;5;241m0.01\u001b[39m, momentum\u001b[38;5;241m=\u001b[39m\u001b[38;5;241m0.9\u001b[39m,\n\u001b[0;32m      4\u001b[0m                      max_epochs\u001b[38;5;241m=\u001b[39m\u001b[38;5;241m10\u001b[39m, do_test\u001b[38;5;241m=\u001b[39m\u001b[38;5;28;01mTrue\u001b[39;00m)\n\u001b[1;32m----> 6\u001b[0m stats \u001b[38;5;241m=\u001b[39m train_loop(trainloader, testloader, \u001b[38;5;241m*\u001b[39m\u001b[38;5;241m*\u001b[39mresnet18_dict)\n\u001b[0;32m      8\u001b[0m \u001b[38;5;28mprint\u001b[39m(\u001b[38;5;124m\"\u001b[39m\u001b[38;5;124m=========\u001b[39m\u001b[38;5;124m\"\u001b[39m)\n\u001b[0;32m      9\u001b[0m test_class(resnet18, device, criterion, testloader, classes)\n",
      "File \u001b[1;32m~\\Documents\\Python Projects\\Comp-Viz\\Lab1\\lab1_utils.py:103\u001b[0m, in \u001b[0;36mtrain_loop\u001b[1;34m(train_loader, test_loader, model, criterion, device, lr, momentum, max_epochs, do_test)\u001b[0m\n\u001b[0;32m    100\u001b[0m accs_train\u001b[38;5;241m.\u001b[39mappend(acc_train)\n\u001b[0;32m    102\u001b[0m \u001b[38;5;28;01mif\u001b[39;00m do_test:\n\u001b[1;32m--> 103\u001b[0m     loss_test, acc_test \u001b[38;5;241m=\u001b[39m \u001b[43mtest\u001b[49m\u001b[43m(\u001b[49m\u001b[43mmodel\u001b[49m\u001b[43m,\u001b[49m\u001b[43m \u001b[49m\u001b[43mdevice\u001b[49m\u001b[43m,\u001b[49m\u001b[43m \u001b[49m\u001b[43mcriterion\u001b[49m\u001b[43m,\u001b[49m\u001b[43m \u001b[49m\u001b[43mtest_loader\u001b[49m\u001b[43m)\u001b[49m\n\u001b[0;32m    104\u001b[0m     losses_test\u001b[38;5;241m.\u001b[39mappend(loss_test)\n\u001b[0;32m    105\u001b[0m     accs_test\u001b[38;5;241m.\u001b[39mappend(acc_test)\n",
      "File \u001b[1;32m~\\Documents\\Python Projects\\Comp-Viz\\Lab1\\lab1_utils.py:59\u001b[0m, in \u001b[0;36mtest\u001b[1;34m(model, device, criterion, test_loader)\u001b[0m\n\u001b[0;32m     56\u001b[0m correct \u001b[38;5;241m=\u001b[39m \u001b[38;5;241m0.\u001b[39m\n\u001b[0;32m     58\u001b[0m \u001b[38;5;28;01mwith\u001b[39;00m torch\u001b[38;5;241m.\u001b[39mno_grad():\n\u001b[1;32m---> 59\u001b[0m     \u001b[38;5;28;01mfor\u001b[39;00m data, target \u001b[38;5;129;01min\u001b[39;00m test_loader:\n\u001b[0;32m     60\u001b[0m         data, target \u001b[38;5;241m=\u001b[39m data\u001b[38;5;241m.\u001b[39mto(device), target\u001b[38;5;241m.\u001b[39mto(device)\n\u001b[0;32m     62\u001b[0m         \u001b[38;5;66;03m## Compute loss\u001b[39;00m\n",
      "File \u001b[1;32m~\\anaconda3\\envs\\torch-cuda\\lib\\site-packages\\torch\\utils\\data\\dataloader.py:440\u001b[0m, in \u001b[0;36mDataLoader.__iter__\u001b[1;34m(self)\u001b[0m\n\u001b[0;32m    438\u001b[0m     \u001b[38;5;28;01mreturn\u001b[39;00m \u001b[38;5;28mself\u001b[39m\u001b[38;5;241m.\u001b[39m_iterator\n\u001b[0;32m    439\u001b[0m \u001b[38;5;28;01melse\u001b[39;00m:\n\u001b[1;32m--> 440\u001b[0m     \u001b[38;5;28;01mreturn\u001b[39;00m \u001b[38;5;28;43mself\u001b[39;49m\u001b[38;5;241;43m.\u001b[39;49m\u001b[43m_get_iterator\u001b[49m\u001b[43m(\u001b[49m\u001b[43m)\u001b[49m\n",
      "File \u001b[1;32m~\\anaconda3\\envs\\torch-cuda\\lib\\site-packages\\torch\\utils\\data\\dataloader.py:388\u001b[0m, in \u001b[0;36mDataLoader._get_iterator\u001b[1;34m(self)\u001b[0m\n\u001b[0;32m    386\u001b[0m \u001b[38;5;28;01melse\u001b[39;00m:\n\u001b[0;32m    387\u001b[0m     \u001b[38;5;28mself\u001b[39m\u001b[38;5;241m.\u001b[39mcheck_worker_number_rationality()\n\u001b[1;32m--> 388\u001b[0m     \u001b[38;5;28;01mreturn\u001b[39;00m \u001b[43m_MultiProcessingDataLoaderIter\u001b[49m\u001b[43m(\u001b[49m\u001b[38;5;28;43mself\u001b[39;49m\u001b[43m)\u001b[49m\n",
      "File \u001b[1;32m~\\anaconda3\\envs\\torch-cuda\\lib\\site-packages\\torch\\utils\\data\\dataloader.py:1038\u001b[0m, in \u001b[0;36m_MultiProcessingDataLoaderIter.__init__\u001b[1;34m(self, loader)\u001b[0m\n\u001b[0;32m   1031\u001b[0m w\u001b[38;5;241m.\u001b[39mdaemon \u001b[38;5;241m=\u001b[39m \u001b[38;5;28;01mTrue\u001b[39;00m\n\u001b[0;32m   1032\u001b[0m \u001b[38;5;66;03m# NB: Process.start() actually take some time as it needs to\u001b[39;00m\n\u001b[0;32m   1033\u001b[0m \u001b[38;5;66;03m#     start a process and pass the arguments over via a pipe.\u001b[39;00m\n\u001b[0;32m   1034\u001b[0m \u001b[38;5;66;03m#     Therefore, we only add a worker to self._workers list after\u001b[39;00m\n\u001b[0;32m   1035\u001b[0m \u001b[38;5;66;03m#     it started, so that we do not call .join() if program dies\u001b[39;00m\n\u001b[0;32m   1036\u001b[0m \u001b[38;5;66;03m#     before it starts, and __del__ tries to join but will get:\u001b[39;00m\n\u001b[0;32m   1037\u001b[0m \u001b[38;5;66;03m#     AssertionError: can only join a started process.\u001b[39;00m\n\u001b[1;32m-> 1038\u001b[0m \u001b[43mw\u001b[49m\u001b[38;5;241;43m.\u001b[39;49m\u001b[43mstart\u001b[49m\u001b[43m(\u001b[49m\u001b[43m)\u001b[49m\n\u001b[0;32m   1039\u001b[0m \u001b[38;5;28mself\u001b[39m\u001b[38;5;241m.\u001b[39m_index_queues\u001b[38;5;241m.\u001b[39mappend(index_queue)\n\u001b[0;32m   1040\u001b[0m \u001b[38;5;28mself\u001b[39m\u001b[38;5;241m.\u001b[39m_workers\u001b[38;5;241m.\u001b[39mappend(w)\n",
      "File \u001b[1;32m~\\anaconda3\\envs\\torch-cuda\\lib\\multiprocessing\\process.py:121\u001b[0m, in \u001b[0;36mBaseProcess.start\u001b[1;34m(self)\u001b[0m\n\u001b[0;32m    118\u001b[0m \u001b[38;5;28;01massert\u001b[39;00m \u001b[38;5;129;01mnot\u001b[39;00m _current_process\u001b[38;5;241m.\u001b[39m_config\u001b[38;5;241m.\u001b[39mget(\u001b[38;5;124m'\u001b[39m\u001b[38;5;124mdaemon\u001b[39m\u001b[38;5;124m'\u001b[39m), \\\n\u001b[0;32m    119\u001b[0m        \u001b[38;5;124m'\u001b[39m\u001b[38;5;124mdaemonic processes are not allowed to have children\u001b[39m\u001b[38;5;124m'\u001b[39m\n\u001b[0;32m    120\u001b[0m _cleanup()\n\u001b[1;32m--> 121\u001b[0m \u001b[38;5;28mself\u001b[39m\u001b[38;5;241m.\u001b[39m_popen \u001b[38;5;241m=\u001b[39m \u001b[38;5;28;43mself\u001b[39;49m\u001b[38;5;241;43m.\u001b[39;49m\u001b[43m_Popen\u001b[49m\u001b[43m(\u001b[49m\u001b[38;5;28;43mself\u001b[39;49m\u001b[43m)\u001b[49m\n\u001b[0;32m    122\u001b[0m \u001b[38;5;28mself\u001b[39m\u001b[38;5;241m.\u001b[39m_sentinel \u001b[38;5;241m=\u001b[39m \u001b[38;5;28mself\u001b[39m\u001b[38;5;241m.\u001b[39m_popen\u001b[38;5;241m.\u001b[39msentinel\n\u001b[0;32m    123\u001b[0m \u001b[38;5;66;03m# Avoid a refcycle if the target function holds an indirect\u001b[39;00m\n\u001b[0;32m    124\u001b[0m \u001b[38;5;66;03m# reference to the process object (see bpo-30775)\u001b[39;00m\n",
      "File \u001b[1;32m~\\anaconda3\\envs\\torch-cuda\\lib\\multiprocessing\\context.py:224\u001b[0m, in \u001b[0;36mProcess._Popen\u001b[1;34m(process_obj)\u001b[0m\n\u001b[0;32m    222\u001b[0m \u001b[38;5;129m@staticmethod\u001b[39m\n\u001b[0;32m    223\u001b[0m \u001b[38;5;28;01mdef\u001b[39;00m \u001b[38;5;21m_Popen\u001b[39m(process_obj):\n\u001b[1;32m--> 224\u001b[0m     \u001b[38;5;28;01mreturn\u001b[39;00m \u001b[43m_default_context\u001b[49m\u001b[38;5;241;43m.\u001b[39;49m\u001b[43mget_context\u001b[49m\u001b[43m(\u001b[49m\u001b[43m)\u001b[49m\u001b[38;5;241;43m.\u001b[39;49m\u001b[43mProcess\u001b[49m\u001b[38;5;241;43m.\u001b[39;49m\u001b[43m_Popen\u001b[49m\u001b[43m(\u001b[49m\u001b[43mprocess_obj\u001b[49m\u001b[43m)\u001b[49m\n",
      "File \u001b[1;32m~\\anaconda3\\envs\\torch-cuda\\lib\\multiprocessing\\context.py:327\u001b[0m, in \u001b[0;36mSpawnProcess._Popen\u001b[1;34m(process_obj)\u001b[0m\n\u001b[0;32m    324\u001b[0m \u001b[38;5;129m@staticmethod\u001b[39m\n\u001b[0;32m    325\u001b[0m \u001b[38;5;28;01mdef\u001b[39;00m \u001b[38;5;21m_Popen\u001b[39m(process_obj):\n\u001b[0;32m    326\u001b[0m     \u001b[38;5;28;01mfrom\u001b[39;00m \u001b[38;5;21;01m.\u001b[39;00m\u001b[38;5;21;01mpopen_spawn_win32\u001b[39;00m \u001b[38;5;28;01mimport\u001b[39;00m Popen\n\u001b[1;32m--> 327\u001b[0m     \u001b[38;5;28;01mreturn\u001b[39;00m \u001b[43mPopen\u001b[49m\u001b[43m(\u001b[49m\u001b[43mprocess_obj\u001b[49m\u001b[43m)\u001b[49m\n",
      "File \u001b[1;32m~\\anaconda3\\envs\\torch-cuda\\lib\\multiprocessing\\popen_spawn_win32.py:93\u001b[0m, in \u001b[0;36mPopen.__init__\u001b[1;34m(self, process_obj)\u001b[0m\n\u001b[0;32m     91\u001b[0m \u001b[38;5;28;01mtry\u001b[39;00m:\n\u001b[0;32m     92\u001b[0m     reduction\u001b[38;5;241m.\u001b[39mdump(prep_data, to_child)\n\u001b[1;32m---> 93\u001b[0m     \u001b[43mreduction\u001b[49m\u001b[38;5;241;43m.\u001b[39;49m\u001b[43mdump\u001b[49m\u001b[43m(\u001b[49m\u001b[43mprocess_obj\u001b[49m\u001b[43m,\u001b[49m\u001b[43m \u001b[49m\u001b[43mto_child\u001b[49m\u001b[43m)\u001b[49m\n\u001b[0;32m     94\u001b[0m \u001b[38;5;28;01mfinally\u001b[39;00m:\n\u001b[0;32m     95\u001b[0m     set_spawning_popen(\u001b[38;5;28;01mNone\u001b[39;00m)\n",
      "File \u001b[1;32m~\\anaconda3\\envs\\torch-cuda\\lib\\multiprocessing\\reduction.py:60\u001b[0m, in \u001b[0;36mdump\u001b[1;34m(obj, file, protocol)\u001b[0m\n\u001b[0;32m     58\u001b[0m \u001b[38;5;28;01mdef\u001b[39;00m \u001b[38;5;21mdump\u001b[39m(obj, file, protocol\u001b[38;5;241m=\u001b[39m\u001b[38;5;28;01mNone\u001b[39;00m):\n\u001b[0;32m     59\u001b[0m \u001b[38;5;250m    \u001b[39m\u001b[38;5;124;03m'''Replacement for pickle.dump() using ForkingPickler.'''\u001b[39;00m\n\u001b[1;32m---> 60\u001b[0m     \u001b[43mForkingPickler\u001b[49m\u001b[43m(\u001b[49m\u001b[43mfile\u001b[49m\u001b[43m,\u001b[49m\u001b[43m \u001b[49m\u001b[43mprotocol\u001b[49m\u001b[43m)\u001b[49m\u001b[38;5;241;43m.\u001b[39;49m\u001b[43mdump\u001b[49m\u001b[43m(\u001b[49m\u001b[43mobj\u001b[49m\u001b[43m)\u001b[49m\n",
      "\u001b[1;31mKeyboardInterrupt\u001b[0m: "
     ]
    }
   ],
   "source": [
    "criterion = nn.CrossEntropyLoss()\n",
    "\n",
    "resnet18_dict = dict(model=resnet18, criterion=criterion, device=device, lr=0.01, momentum=0.9,\n",
    "                     max_epochs=10, do_test=True)\n",
    "\n",
    "stats = train_loop(trainloader, testloader, **resnet18_dict)\n",
    "\n",
    "print(\"=========\")\n",
    "test_class(resnet18, device, criterion, testloader, classes)"
   ]
  }
 ],
 "metadata": {
  "kernelspec": {
   "display_name": "Python 3 (ipykernel)",
   "language": "python",
   "name": "python3"
  },
  "language_info": {
   "codemirror_mode": {
    "name": "ipython",
    "version": 3
   },
   "file_extension": ".py",
   "mimetype": "text/x-python",
   "name": "python",
   "nbconvert_exporter": "python",
   "pygments_lexer": "ipython3",
   "version": "3.9.20"
  }
 },
 "nbformat": 4,
 "nbformat_minor": 5
}
