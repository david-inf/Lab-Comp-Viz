{
 "cells": [
  {
   "cell_type": "markdown",
   "id": "f2e9a61c-30db-42b6-8bdc-750160f8a58b",
   "metadata": {},
   "source": [
    "# Utils"
   ]
  },
  {
   "cell_type": "code",
   "execution_count": 1,
   "id": "57a3648c-7c20-4cff-98df-bb522cf221c4",
   "metadata": {},
   "outputs": [
    {
     "name": "stdout",
     "output_type": "stream",
     "text": [
      "Device: cuda\n"
     ]
    }
   ],
   "source": [
    "import random\n",
    "import time\n",
    "import numpy as np\n",
    "import matplotlib.pyplot as plt\n",
    "\n",
    "import torch\n",
    "import torch.nn as nn\n",
    "import torch.optim as optim\n",
    "import torchvision\n",
    "import torchvision.transforms as transforms\n",
    "from torchinfo import summary\n",
    "\n",
    "device = \"cuda\" if torch.cuda.is_available() else \"cpu\"\n",
    "print(f\"Device: {device}\")"
   ]
  },
  {
   "cell_type": "code",
   "execution_count": 10,
   "id": "54f03b81-197b-4361-8294-28333df5a1c1",
   "metadata": {},
   "outputs": [],
   "source": [
    "from lab1_utils import train_loop, train_loop_sched, train, test, get_lr, count_trainable_parameters\n",
    "from lab1_utils import save_to_json\n",
    "from lab1_utils import multiple_diagnostic, test_class"
   ]
  },
  {
   "cell_type": "code",
   "execution_count": 3,
   "id": "a09c0f1f-8e7b-4439-b950-b9e2e3779b31",
   "metadata": {},
   "outputs": [],
   "source": [
    "classes = ('plane', 'car', 'bird', 'cat', 'deer', 'dog', 'frog', 'horse', 'ship', 'truck')\n",
    "\n",
    "max_epochs = 20\n",
    "criterion = torch.nn.CrossEntropyLoss()  # input requires logits"
   ]
  },
  {
   "cell_type": "markdown",
   "id": "d299f017-f98b-47ab-98f0-9e0b8c7d7f83",
   "metadata": {},
   "source": [
    "Define a basic network"
   ]
  },
  {
   "cell_type": "code",
   "execution_count": 4,
   "id": "f7e018a4-f477-4bca-bea8-d7a51a9c11d8",
   "metadata": {},
   "outputs": [],
   "source": [
    "class Net(nn.Module):\n",
    "    def __init__(self):\n",
    "        super().__init__()\n",
    "        self.conv1 = nn.Conv2d(3, 16, 3)\n",
    "        self.pool = nn.MaxPool2d(2)\n",
    "        self.conv2 = nn.Conv2d(16, 32, 3)\n",
    "        self.conv3 = nn.Conv2d(32, 64, 3)\n",
    "        self.fc1 = nn.Linear(64 * 11 * 11, 64)\n",
    "        self.fc2 = nn.Linear(64, 10)\n",
    "        self.relu = nn.ReLU()\n",
    "\n",
    "    def forward(self, x):\n",
    "        x = self.pool(self.relu(self.conv1(x)))\n",
    "        x = self.relu(self.conv2(x))\n",
    "        x = self.relu(self.conv3(x))\n",
    "        # print(x.shape)\n",
    "        x = torch.flatten(x, 1)\n",
    "        x = self.relu(self.fc1(x))\n",
    "        x = self.fc2(x)  # logits\n",
    "        return x"
   ]
  },
  {
   "cell_type": "code",
   "execution_count": 5,
   "id": "1894fb93-7efa-4f91-ab56-65055821cc68",
   "metadata": {
    "collapsed": true,
    "jupyter": {
     "outputs_hidden": true
    },
    "scrolled": true
   },
   "outputs": [
    {
     "name": "stdout",
     "output_type": "stream",
     "text": [
      "=================================================================\n",
      "Layer (type:depth-idx)                   Param #\n",
      "=================================================================\n",
      "Net                                      --\n",
      "├─Conv2d: 1-1                            448\n",
      "├─MaxPool2d: 1-2                         --\n",
      "├─Conv2d: 1-3                            4,640\n",
      "├─Conv2d: 1-4                            18,496\n",
      "├─Linear: 1-5                            495,680\n",
      "├─Linear: 1-6                            650\n",
      "├─ReLU: 1-7                              --\n",
      "=================================================================\n",
      "Total params: 519,914\n",
      "Trainable params: 519,914\n",
      "Non-trainable params: 0\n",
      "=================================================================\n",
      "tensor([[ 0.1099, -0.0811,  0.0427, -0.1286, -0.0934,  0.0893, -0.0391, -0.0878,\n",
      "         -0.0170,  0.1037]], grad_fn=<AddmmBackward0>)\n"
     ]
    }
   ],
   "source": [
    "mod = Net()\n",
    "\n",
    "print(summary(mod))\n",
    "print(mod(torch.rand(1, 3, 32, 32)))"
   ]
  },
  {
   "cell_type": "markdown",
   "id": "66c58653-649e-4b65-a5f8-e9cbcace3e07",
   "metadata": {
    "jp-MarkdownHeadingCollapsed": true
   },
   "source": [
    "# Exercise 0"
   ]
  },
  {
   "cell_type": "code",
   "execution_count": 5,
   "id": "a7e3a61a-ff55-4a25-b69b-e6eb286eb0a7",
   "metadata": {},
   "outputs": [
    {
     "name": "stdout",
     "output_type": "stream",
     "text": [
      "Files already downloaded and verified\n",
      "Files already downloaded and verified\n"
     ]
    }
   ],
   "source": [
    "# without normalization\n",
    "transform = transforms.Compose([transforms.ToTensor()])\n",
    "\n",
    "batch_size = 64\n",
    "\n",
    "trainset = torchvision.datasets.CIFAR10(root='./data', train=True, download=True, transform=transform)\n",
    "testset = torchvision.datasets.CIFAR10(root='./data', train=False, download=True, transform=transform)\n",
    "\n",
    "trainloader = torch.utils.data.DataLoader(trainset, batch_size=batch_size, shuffle=True, num_workers=2, pin_memory=True)\n",
    "testloader = torch.utils.data.DataLoader(testset, batch_size=batch_size, shuffle=False, num_workers=2, pin_memory=True)"
   ]
  },
  {
   "cell_type": "code",
   "execution_count": 6,
   "id": "354b1900-f412-4ab5-90ac-9384bdef415a",
   "metadata": {},
   "outputs": [
    {
     "name": "stdout",
     "output_type": "stream",
     "text": [
      "Samples 50000\n",
      "Mean tensor([0.4914, 0.4822, 0.4465])\n",
      "Std tensor([0.2023, 0.1994, 0.2010])\n"
     ]
    }
   ],
   "source": [
    "mean = torch.zeros(3)  # a mean for each channel, here 1\n",
    "std = torch.zeros(3)  # a std for each channel, here 1\n",
    "samples = 0\n",
    "\n",
    "# simple because we only have one channel, that is greyscale\n",
    "for X, y in trainloader:\n",
    "    # width and height over one dimension\n",
    "    X = torch.flatten(X, 2, 3)\n",
    "    # [batch_size, 3, 28*28]\n",
    "    # compute mean and std over each channel then sum and store\n",
    "    mean += X.mean(2).sum(0)\n",
    "    std += X.std(2).sum(0)\n",
    "    samples += X.size(0)\n",
    "\n",
    "print(f\"Samples {samples}\")\n",
    "mean /= samples\n",
    "print(f\"Mean {mean}\")\n",
    "std /= samples\n",
    "print(f\"Std {std}\")"
   ]
  },
  {
   "cell_type": "code",
   "execution_count": 7,
   "id": "cccd1d81-79f3-4055-869e-cbd3c27e9d85",
   "metadata": {},
   "outputs": [
    {
     "name": "stdout",
     "output_type": "stream",
     "text": [
      "Files already downloaded and verified\n",
      "Files already downloaded and verified\n"
     ]
    }
   ],
   "source": [
    "# normalize data correctly\n",
    "transform = transforms.Compose([transforms.ToTensor(), transforms.Normalize(mean, std)])\n",
    "\n",
    "trainset = torchvision.datasets.CIFAR10(root='./data', train=True, download=True, transform=transform)\n",
    "testset = torchvision.datasets.CIFAR10(root='./data', train=False, download=True, transform=transform)\n",
    "\n",
    "trainloader = torch.utils.data.DataLoader(trainset, batch_size=batch_size, shuffle=True, num_workers=2, pin_memory=True)\n",
    "testloader = torch.utils.data.DataLoader(testset, batch_size=batch_size, shuffle=False, num_workers=2, pin_memory=True)"
   ]
  },
  {
   "cell_type": "markdown",
   "id": "c8da6698-14c2-4779-9a8c-4bf5d3e745a4",
   "metadata": {},
   "source": [
    "# Exercise 1\n",
    "Learning rate scheduler"
   ]
  },
  {
   "cell_type": "code",
   "execution_count": 8,
   "id": "6d959842-a9b4-4eec-b322-e5789ad382b4",
   "metadata": {},
   "outputs": [],
   "source": [
    "from torch.optim.lr_scheduler import MultiStepLR, ExponentialLR, CosineAnnealingLR, ReduceLROnPlateau"
   ]
  },
  {
   "cell_type": "code",
   "execution_count": 9,
   "id": "83cb8cf5-921d-45d0-bfbe-755b37759c6e",
   "metadata": {},
   "outputs": [],
   "source": [
    "es1_loss_acc = {}  # {\"Solver1\": [loss, acc]}"
   ]
  },
  {
   "cell_type": "markdown",
   "id": "a522f530-284d-461f-b56b-503314e0cb58",
   "metadata": {},
   "source": [
    "## Basic training"
   ]
  },
  {
   "cell_type": "code",
   "execution_count": 11,
   "id": "3e862f94-7b98-4840-8b4c-d8f44108f336",
   "metadata": {
    "collapsed": true,
    "jupyter": {
     "outputs_hidden": true
    },
    "scrolled": true
   },
   "outputs": [
    {
     "name": "stdout",
     "output_type": "stream",
     "text": [
      "Epoch: 1, Learning rate: 0.001000\n",
      "Training - Loss: 1.9669, Accuracy: 0.293, Runtime: 7.63\n",
      "Test - Loss: 1.6501, Accuracy: 0.405\n",
      "Epoch: 2, Learning rate: 0.001000\n",
      "Training - Loss: 1.5441, Accuracy: 0.445, Runtime: 7.49\n",
      "Test - Loss: 1.5080, Accuracy: 0.470\n",
      "Epoch: 3, Learning rate: 0.001000\n",
      "Training - Loss: 1.3773, Accuracy: 0.509, Runtime: 7.37\n",
      "Test - Loss: 1.3558, Accuracy: 0.524\n",
      "Epoch: 4, Learning rate: 0.001000\n",
      "Training - Loss: 1.2730, Accuracy: 0.552, Runtime: 7.32\n",
      "Test - Loss: 1.2359, Accuracy: 0.565\n",
      "Epoch: 5, Learning rate: 0.001000\n",
      "Training - Loss: 1.1913, Accuracy: 0.585, Runtime: 7.51\n",
      "Test - Loss: 1.1941, Accuracy: 0.576\n",
      "Epoch: 6, Learning rate: 0.001000\n",
      "Training - Loss: 1.1128, Accuracy: 0.611, Runtime: 7.49\n",
      "Test - Loss: 1.0956, Accuracy: 0.614\n",
      "Epoch: 7, Learning rate: 0.001000\n",
      "Training - Loss: 1.0405, Accuracy: 0.635, Runtime: 7.28\n",
      "Test - Loss: 1.0768, Accuracy: 0.625\n",
      "Epoch: 8, Learning rate: 0.001000\n",
      "Training - Loss: 0.9747, Accuracy: 0.661, Runtime: 7.34\n",
      "Test - Loss: 1.0247, Accuracy: 0.636\n",
      "Epoch: 9, Learning rate: 0.001000\n",
      "Training - Loss: 0.9179, Accuracy: 0.681, Runtime: 7.33\n",
      "Test - Loss: 0.9836, Accuracy: 0.653\n",
      "Epoch: 10, Learning rate: 0.001000\n",
      "Training - Loss: 0.8625, Accuracy: 0.700, Runtime: 7.34\n",
      "Test - Loss: 0.9570, Accuracy: 0.662\n",
      "Epoch: 11, Learning rate: 0.001000\n",
      "Training - Loss: 0.8106, Accuracy: 0.720, Runtime: 7.36\n",
      "Test - Loss: 0.9468, Accuracy: 0.671\n",
      "Epoch: 12, Learning rate: 0.001000\n",
      "Training - Loss: 0.7699, Accuracy: 0.732, Runtime: 7.31\n",
      "Test - Loss: 0.8997, Accuracy: 0.687\n",
      "Epoch: 13, Learning rate: 0.001000\n",
      "Training - Loss: 0.7235, Accuracy: 0.749, Runtime: 7.29\n",
      "Test - Loss: 0.8864, Accuracy: 0.691\n",
      "Epoch: 14, Learning rate: 0.001000\n",
      "Training - Loss: 0.6808, Accuracy: 0.765, Runtime: 7.30\n",
      "Test - Loss: 0.8987, Accuracy: 0.692\n",
      "Epoch: 15, Learning rate: 0.001000\n",
      "Training - Loss: 0.6406, Accuracy: 0.778, Runtime: 7.37\n",
      "Test - Loss: 0.8785, Accuracy: 0.703\n",
      "Epoch: 16, Learning rate: 0.001000\n",
      "Training - Loss: 0.5971, Accuracy: 0.795, Runtime: 7.30\n",
      "Test - Loss: 0.8910, Accuracy: 0.705\n",
      "Epoch: 17, Learning rate: 0.001000\n",
      "Training - Loss: 0.5556, Accuracy: 0.807, Runtime: 7.32\n",
      "Test - Loss: 0.9018, Accuracy: 0.698\n",
      "Epoch: 18, Learning rate: 0.001000\n",
      "Training - Loss: 0.5112, Accuracy: 0.823, Runtime: 7.31\n",
      "Test - Loss: 0.9141, Accuracy: 0.701\n",
      "Epoch: 19, Learning rate: 0.001000\n",
      "Training - Loss: 0.4702, Accuracy: 0.837, Runtime: 7.30\n",
      "Test - Loss: 0.9174, Accuracy: 0.708\n",
      "Epoch: 20, Learning rate: 0.001000\n",
      "Training - Loss: 0.4289, Accuracy: 0.853, Runtime: 7.41\n",
      "Test - Loss: 0.9605, Accuracy: 0.706\n",
      "Done! - Runtime: 241.22 seconds\n",
      "Final loss: 0.9605, Accuracy: 0.706\n",
      "-------\n",
      "Accuracy for class: plane is 69.9 %\n",
      "Accuracy for class: car   is 80.1 %\n",
      "Accuracy for class: bird  is 60.5 %\n",
      "Accuracy for class: cat   is 50.3 %\n",
      "Accuracy for class: deer  is 66.4 %\n",
      "Accuracy for class: dog   is 62.5 %\n",
      "Accuracy for class: frog  is 80.9 %\n",
      "Accuracy for class: horse is 77.6 %\n",
      "Accuracy for class: ship  is 76.6 %\n",
      "Accuracy for class: truck is 80.5 %\n"
     ]
    }
   ],
   "source": [
    "model1 = Net()\n",
    "model1.to(device)\n",
    "\n",
    "optimizer = optim.SGD(model1.parameters(), lr=0.001, momentum=0.9)\n",
    "\n",
    "stats = train_loop_sched(trainloader, testloader, model1, criterion, device,\n",
    "                         optimizer, max_epochs=max_epochs)\n",
    "\n",
    "es1_loss_acc[\"SGD\"] = [stats[0], stats[3]]\n",
    "\n",
    "test_class(model1, device, criterion, testloader, classes)"
   ]
  },
  {
   "cell_type": "code",
   "execution_count": 29,
   "id": "874d59de-6bc2-4f3d-bd04-7624a0b9234b",
   "metadata": {
    "collapsed": true,
    "jupyter": {
     "outputs_hidden": true,
     "source_hidden": true
    },
    "scrolled": true
   },
   "outputs": [
    {
     "data": {
      "image/png": "[encoded data removed]",
      "text/plain": [
       "<Figure size 640x480 with 2 Axes>"
      ]
     },
     "metadata": {},
     "output_type": "display_data"
    }
   ],
   "source": [
    "simple_diagnostic(max_epochs, stats[0], stats[1])\n",
    "plt.savefig(\"./plots/es1-sgd.pdf\")"
   ]
  },
  {
   "cell_type": "markdown",
   "id": "8ddfb17f-319f-4ee1-adaa-7d36af33b6d6",
   "metadata": {},
   "source": [
    "## Multi-step scheduler"
   ]
  },
  {
   "cell_type": "code",
   "execution_count": 12,
   "id": "1cbfa0eb-ad24-4f7c-9704-045fa39775c7",
   "metadata": {
    "collapsed": true,
    "jupyter": {
     "outputs_hidden": true
    },
    "scrolled": true
   },
   "outputs": [
    {
     "name": "stdout",
     "output_type": "stream",
     "text": [
      "Epoch: 1, Learning rate: 0.010000\n",
      "Training - Loss: 1.5299, Accuracy: 0.446, Runtime: 7.27\n",
      "Test - Loss: 1.2805, Accuracy: 0.548\n",
      "Epoch: 2, Learning rate: 0.010000\n",
      "Training - Loss: 1.1220, Accuracy: 0.604, Runtime: 7.31\n",
      "Test - Loss: 1.0316, Accuracy: 0.634\n",
      "Epoch: 3, Learning rate: 0.010000\n",
      "Training - Loss: 0.9233, Accuracy: 0.675, Runtime: 7.35\n",
      "Test - Loss: 0.9809, Accuracy: 0.659\n",
      "Epoch: 4, Learning rate: 0.010000\n",
      "Training - Loss: 0.7896, Accuracy: 0.722, Runtime: 7.34\n",
      "Test - Loss: 0.9566, Accuracy: 0.671\n",
      "Epoch: 5, Learning rate: 0.010000\n",
      "Training - Loss: 0.6752, Accuracy: 0.761, Runtime: 7.37\n",
      "Test - Loss: 0.9749, Accuracy: 0.679\n",
      "Epoch: 6, Learning rate: 0.001000\n",
      "Training - Loss: 0.3895, Accuracy: 0.866, Runtime: 7.34\n",
      "Test - Loss: 0.9184, Accuracy: 0.717\n",
      "Epoch: 7, Learning rate: 0.001000\n",
      "Training - Loss: 0.3212, Accuracy: 0.892, Runtime: 7.32\n",
      "Test - Loss: 0.9576, Accuracy: 0.716\n",
      "Epoch: 8, Learning rate: 0.001000\n",
      "Training - Loss: 0.2787, Accuracy: 0.908, Runtime: 7.35\n",
      "Test - Loss: 1.0073, Accuracy: 0.717\n",
      "Epoch: 9, Learning rate: 0.001000\n",
      "Training - Loss: 0.2418, Accuracy: 0.921, Runtime: 7.34\n",
      "Test - Loss: 1.0448, Accuracy: 0.717\n",
      "Epoch: 10, Learning rate: 0.001000\n",
      "Training - Loss: 0.2073, Accuracy: 0.936, Runtime: 7.34\n",
      "Test - Loss: 1.1207, Accuracy: 0.713\n",
      "Epoch: 11, Learning rate: 0.000100\n",
      "Training - Loss: 0.1653, Accuracy: 0.954, Runtime: 7.34\n",
      "Test - Loss: 1.1241, Accuracy: 0.714\n",
      "Epoch: 12, Learning rate: 0.000100\n",
      "Training - Loss: 0.1600, Accuracy: 0.955, Runtime: 7.33\n",
      "Test - Loss: 1.1347, Accuracy: 0.715\n",
      "Epoch: 13, Learning rate: 0.000100\n",
      "Training - Loss: 0.1563, Accuracy: 0.957, Runtime: 7.35\n",
      "Test - Loss: 1.1467, Accuracy: 0.714\n",
      "Epoch: 14, Learning rate: 0.000100\n",
      "Training - Loss: 0.1534, Accuracy: 0.958, Runtime: 7.23\n",
      "Test - Loss: 1.1565, Accuracy: 0.714\n",
      "Epoch: 15, Learning rate: 0.000100\n",
      "Training - Loss: 0.1501, Accuracy: 0.958, Runtime: 7.32\n",
      "Test - Loss: 1.1667, Accuracy: 0.713\n",
      "Epoch: 16, Learning rate: 0.000010\n",
      "Training - Loss: 0.1460, Accuracy: 0.960, Runtime: 7.29\n",
      "Test - Loss: 1.1669, Accuracy: 0.714\n",
      "Epoch: 17, Learning rate: 0.000010\n",
      "Training - Loss: 0.1454, Accuracy: 0.960, Runtime: 7.33\n",
      "Test - Loss: 1.1676, Accuracy: 0.714\n",
      "Epoch: 18, Learning rate: 0.000010\n",
      "Training - Loss: 0.1451, Accuracy: 0.961, Runtime: 7.35\n",
      "Test - Loss: 1.1686, Accuracy: 0.715\n",
      "Epoch: 19, Learning rate: 0.000010\n",
      "Training - Loss: 0.1448, Accuracy: 0.961, Runtime: 7.31\n",
      "Test - Loss: 1.1698, Accuracy: 0.715\n",
      "Epoch: 20, Learning rate: 0.000010\n",
      "Training - Loss: 0.1444, Accuracy: 0.961, Runtime: 7.35\n",
      "Test - Loss: 1.1708, Accuracy: 0.714\n",
      "Done! - Runtime: 239.62 seconds\n",
      "Final loss: 1.1708, Accuracy: 0.714\n",
      "-------\n",
      "Accuracy for class: plane is 75.4 %\n",
      "Accuracy for class: car   is 82.6 %\n",
      "Accuracy for class: bird  is 59.0 %\n",
      "Accuracy for class: cat   is 53.3 %\n",
      "Accuracy for class: deer  is 64.8 %\n",
      "Accuracy for class: dog   is 61.9 %\n",
      "Accuracy for class: frog  is 78.5 %\n",
      "Accuracy for class: horse is 75.7 %\n",
      "Accuracy for class: ship  is 82.6 %\n",
      "Accuracy for class: truck is 80.7 %\n"
     ]
    }
   ],
   "source": [
    "model2 = Net()\n",
    "model2.to(device)\n",
    "\n",
    "optimizer = optim.SGD(model2.parameters(), lr=0.01, momentum=0.9)\n",
    "scheduler = MultiStepLR(optimizer, milestones=[5, 10, 15], gamma=0.1)\n",
    "\n",
    "stats = train_loop_sched(trainloader, testloader, model2, criterion, device,\n",
    "                         optimizer, scheduler, max_epochs=max_epochs)\n",
    "\n",
    "es1_loss_acc[\"SGD-Step\"] = [stats[0], stats[3]]\n",
    "\n",
    "test_class(model2, device, criterion, testloader, classes)"
   ]
  },
  {
   "cell_type": "code",
   "execution_count": 35,
   "id": "5711db84-a806-428f-9991-f359c3c1c9aa",
   "metadata": {
    "collapsed": true,
    "jupyter": {
     "outputs_hidden": true,
     "source_hidden": true
    },
    "scrolled": true
   },
   "outputs": [
    {
     "data": {
      "image/png": "[encoded data removed]",
      "text/plain": [
       "<Figure size 640x480 with 2 Axes>"
      ]
     },
     "metadata": {},
     "output_type": "display_data"
    }
   ],
   "source": [
    "simple_diagnostic(max_epochs, losses, accs)\n",
    "plt.savefig(\"./plots/es1-sgd-step.pdf\")"
   ]
  },
  {
   "cell_type": "markdown",
   "id": "9f628d62-25d6-44d1-bad7-1ad8b2d23f75",
   "metadata": {},
   "source": [
    "## Exponential scheduler"
   ]
  },
  {
   "cell_type": "code",
   "execution_count": 13,
   "id": "aae20196-471e-4e76-baf2-5e76ce2fe663",
   "metadata": {
    "collapsed": true,
    "jupyter": {
     "outputs_hidden": true
    },
    "scrolled": true
   },
   "outputs": [
    {
     "name": "stdout",
     "output_type": "stream",
     "text": [
      "Epoch: 1, Learning rate: 0.010000\n",
      "Training - Loss: 1.5758, Accuracy: 0.429, Runtime: 8.03\n",
      "Test - Loss: 1.2674, Accuracy: 0.549\n",
      "Epoch: 2, Learning rate: 0.009000\n",
      "Training - Loss: 1.1215, Accuracy: 0.603, Runtime: 8.98\n",
      "Test - Loss: 1.0428, Accuracy: 0.631\n",
      "Epoch: 3, Learning rate: 0.008100\n",
      "Training - Loss: 0.9017, Accuracy: 0.684, Runtime: 8.14\n",
      "Test - Loss: 0.9652, Accuracy: 0.659\n",
      "Epoch: 4, Learning rate: 0.007290\n",
      "Training - Loss: 0.7518, Accuracy: 0.739, Runtime: 7.91\n",
      "Test - Loss: 0.9177, Accuracy: 0.682\n",
      "Epoch: 5, Learning rate: 0.006561\n",
      "Training - Loss: 0.6256, Accuracy: 0.781, Runtime: 7.86\n",
      "Test - Loss: 0.9549, Accuracy: 0.691\n",
      "Epoch: 6, Learning rate: 0.005905\n",
      "Training - Loss: 0.5019, Accuracy: 0.824, Runtime: 7.29\n",
      "Test - Loss: 0.9484, Accuracy: 0.701\n",
      "Epoch: 7, Learning rate: 0.005314\n",
      "Training - Loss: 0.3759, Accuracy: 0.868, Runtime: 7.27\n",
      "Test - Loss: 1.0380, Accuracy: 0.707\n",
      "Epoch: 8, Learning rate: 0.004783\n",
      "Training - Loss: 0.2632, Accuracy: 0.908, Runtime: 7.32\n",
      "Test - Loss: 1.1638, Accuracy: 0.703\n",
      "Epoch: 9, Learning rate: 0.004305\n",
      "Training - Loss: 0.1737, Accuracy: 0.941, Runtime: 7.35\n",
      "Test - Loss: 1.3400, Accuracy: 0.700\n",
      "Epoch: 10, Learning rate: 0.003874\n",
      "Training - Loss: 0.1000, Accuracy: 0.967, Runtime: 7.32\n",
      "Test - Loss: 1.5424, Accuracy: 0.699\n",
      "Epoch: 11, Learning rate: 0.003487\n",
      "Training - Loss: 0.0501, Accuracy: 0.986, Runtime: 7.33\n",
      "Test - Loss: 1.7305, Accuracy: 0.694\n",
      "Epoch: 12, Learning rate: 0.003138\n",
      "Training - Loss: 0.0203, Accuracy: 0.996, Runtime: 7.33\n",
      "Test - Loss: 1.8614, Accuracy: 0.711\n",
      "Epoch: 13, Learning rate: 0.002824\n",
      "Training - Loss: 0.0083, Accuracy: 0.999, Runtime: 7.32\n",
      "Test - Loss: 2.0398, Accuracy: 0.707\n",
      "Epoch: 14, Learning rate: 0.002542\n",
      "Training - Loss: 0.0033, Accuracy: 1.000, Runtime: 7.36\n",
      "Test - Loss: 2.1275, Accuracy: 0.713\n",
      "Epoch: 15, Learning rate: 0.002288\n",
      "Training - Loss: 0.0018, Accuracy: 1.000, Runtime: 7.28\n",
      "Test - Loss: 2.2065, Accuracy: 0.715\n",
      "Epoch: 16, Learning rate: 0.002059\n",
      "Training - Loss: 0.0014, Accuracy: 1.000, Runtime: 7.31\n",
      "Test - Loss: 2.2621, Accuracy: 0.714\n",
      "Epoch: 17, Learning rate: 0.001853\n",
      "Training - Loss: 0.0012, Accuracy: 1.000, Runtime: 7.30\n",
      "Test - Loss: 2.3017, Accuracy: 0.714\n",
      "Epoch: 18, Learning rate: 0.001668\n",
      "Training - Loss: 0.0011, Accuracy: 1.000, Runtime: 7.33\n",
      "Test - Loss: 2.3317, Accuracy: 0.716\n",
      "Epoch: 19, Learning rate: 0.001501\n",
      "Training - Loss: 0.0010, Accuracy: 1.000, Runtime: 7.23\n",
      "Test - Loss: 2.3573, Accuracy: 0.714\n",
      "Epoch: 20, Learning rate: 0.001351\n",
      "Training - Loss: 0.0009, Accuracy: 1.000, Runtime: 7.33\n",
      "Test - Loss: 2.3798, Accuracy: 0.715\n",
      "Done! - Runtime: 246.13 seconds\n",
      "Final loss: 2.3798, Accuracy: 0.715\n",
      "-------\n",
      "Accuracy for class: plane is 75.5 %\n",
      "Accuracy for class: car   is 82.9 %\n",
      "Accuracy for class: bird  is 58.6 %\n",
      "Accuracy for class: cat   is 51.9 %\n",
      "Accuracy for class: deer  is 66.5 %\n",
      "Accuracy for class: dog   is 61.2 %\n",
      "Accuracy for class: frog  is 77.7 %\n",
      "Accuracy for class: horse is 77.8 %\n",
      "Accuracy for class: ship  is 82.5 %\n",
      "Accuracy for class: truck is 79.7 %\n"
     ]
    }
   ],
   "source": [
    "model3 = Net()\n",
    "model3.to(device)\n",
    "\n",
    "optimizer = optim.SGD(model3.parameters(), lr=0.01, momentum=0.9)\n",
    "scheduler = ExponentialLR(optimizer, 0.9)  # a_k *= 0.95**k\n",
    "\n",
    "stats = train_loop_sched(trainloader, testloader, model3, criterion, device,\n",
    "                         optimizer, scheduler, max_epochs=max_epochs)\n",
    "\n",
    "es1_loss_acc[\"SGD-Exp\"] = [stats[0], stats[3]]\n",
    "\n",
    "test_class(model3, device, criterion, testloader, classes)"
   ]
  },
  {
   "cell_type": "code",
   "execution_count": 51,
   "id": "6d1f402d-5738-417d-9423-705d6f32eb06",
   "metadata": {
    "collapsed": true,
    "jupyter": {
     "outputs_hidden": true,
     "source_hidden": true
    },
    "scrolled": true
   },
   "outputs": [
    {
     "data": {
      "image/png": "[encoded data removed]",
      "text/plain": [
       "<Figure size 640x480 with 2 Axes>"
      ]
     },
     "metadata": {},
     "output_type": "display_data"
    }
   ],
   "source": [
    "simple_diagnostic(max_epochs, losses, accs)\n",
    "plt.savefig(\"./plots/es1-sgd-exp.pdf\")"
   ]
  },
  {
   "cell_type": "markdown",
   "id": "80d43126-97f1-47bb-a904-84fe44e79456",
   "metadata": {},
   "source": [
    "## Adam"
   ]
  },
  {
   "cell_type": "code",
   "execution_count": 14,
   "id": "35226333-1432-41eb-8813-3cced23ef9bd",
   "metadata": {
    "collapsed": true,
    "jupyter": {
     "outputs_hidden": true
    },
    "scrolled": true
   },
   "outputs": [
    {
     "name": "stdout",
     "output_type": "stream",
     "text": [
      "Epoch: 1, Learning rate: 0.000100\n",
      "Training - Loss: 1.7180, Accuracy: 0.392, Runtime: 7.45\n",
      "Test - Loss: 1.4940, Accuracy: 0.464\n",
      "Epoch: 2, Learning rate: 0.000100\n",
      "Training - Loss: 1.3975, Accuracy: 0.506, Runtime: 7.38\n",
      "Test - Loss: 1.3652, Accuracy: 0.517\n",
      "Epoch: 3, Learning rate: 0.000100\n",
      "Training - Loss: 1.3039, Accuracy: 0.541, Runtime: 7.38\n",
      "Test - Loss: 1.2773, Accuracy: 0.544\n",
      "Epoch: 4, Learning rate: 0.000100\n",
      "Training - Loss: 1.2410, Accuracy: 0.561, Runtime: 7.31\n",
      "Test - Loss: 1.2274, Accuracy: 0.566\n",
      "Epoch: 5, Learning rate: 0.000100\n",
      "Training - Loss: 1.1889, Accuracy: 0.585, Runtime: 7.34\n",
      "Test - Loss: 1.1798, Accuracy: 0.585\n",
      "Epoch: 6, Learning rate: 0.000100\n",
      "Training - Loss: 1.1419, Accuracy: 0.600, Runtime: 7.35\n",
      "Test - Loss: 1.1409, Accuracy: 0.600\n",
      "Epoch: 7, Learning rate: 0.000100\n",
      "Training - Loss: 1.0960, Accuracy: 0.617, Runtime: 7.33\n",
      "Test - Loss: 1.1189, Accuracy: 0.611\n",
      "Epoch: 8, Learning rate: 0.000100\n",
      "Training - Loss: 1.0530, Accuracy: 0.635, Runtime: 7.36\n",
      "Test - Loss: 1.0789, Accuracy: 0.625\n",
      "Epoch: 9, Learning rate: 0.000100\n",
      "Training - Loss: 1.0132, Accuracy: 0.648, Runtime: 7.33\n",
      "Test - Loss: 1.0553, Accuracy: 0.632\n",
      "Epoch: 10, Learning rate: 0.000100\n",
      "Training - Loss: 0.9770, Accuracy: 0.662, Runtime: 7.33\n",
      "Test - Loss: 1.0162, Accuracy: 0.645\n",
      "Epoch: 11, Learning rate: 0.000100\n",
      "Training - Loss: 0.9421, Accuracy: 0.675, Runtime: 7.32\n",
      "Test - Loss: 1.0102, Accuracy: 0.647\n",
      "Epoch: 12, Learning rate: 0.000100\n",
      "Training - Loss: 0.9108, Accuracy: 0.684, Runtime: 7.32\n",
      "Test - Loss: 0.9803, Accuracy: 0.661\n",
      "Epoch: 13, Learning rate: 0.000100\n",
      "Training - Loss: 0.8831, Accuracy: 0.695, Runtime: 7.34\n",
      "Test - Loss: 0.9679, Accuracy: 0.663\n",
      "Epoch: 14, Learning rate: 0.000100\n",
      "Training - Loss: 0.8576, Accuracy: 0.705, Runtime: 7.33\n",
      "Test - Loss: 0.9581, Accuracy: 0.666\n",
      "Epoch: 15, Learning rate: 0.000100\n",
      "Training - Loss: 0.8306, Accuracy: 0.715, Runtime: 7.35\n",
      "Test - Loss: 0.9534, Accuracy: 0.668\n",
      "Epoch: 16, Learning rate: 0.000100\n",
      "Training - Loss: 0.8059, Accuracy: 0.723, Runtime: 7.32\n",
      "Test - Loss: 0.9462, Accuracy: 0.669\n",
      "Epoch: 17, Learning rate: 0.000100\n",
      "Training - Loss: 0.7844, Accuracy: 0.731, Runtime: 7.34\n",
      "Test - Loss: 0.9245, Accuracy: 0.682\n",
      "Epoch: 18, Learning rate: 0.000100\n",
      "Training - Loss: 0.7656, Accuracy: 0.738, Runtime: 7.34\n",
      "Test - Loss: 0.9192, Accuracy: 0.681\n",
      "Epoch: 19, Learning rate: 0.000100\n",
      "Training - Loss: 0.7437, Accuracy: 0.746, Runtime: 7.30\n",
      "Test - Loss: 0.9082, Accuracy: 0.684\n",
      "Epoch: 20, Learning rate: 0.000100\n",
      "Training - Loss: 0.7245, Accuracy: 0.753, Runtime: 7.32\n",
      "Test - Loss: 0.9111, Accuracy: 0.686\n",
      "Done! - Runtime: 240.04 seconds\n",
      "Final loss: 0.9111, Accuracy: 0.686\n",
      "-------\n",
      "Accuracy for class: plane is 76.5 %\n",
      "Accuracy for class: car   is 76.3 %\n",
      "Accuracy for class: bird  is 54.7 %\n",
      "Accuracy for class: cat   is 36.8 %\n",
      "Accuracy for class: deer  is 71.7 %\n",
      "Accuracy for class: dog   is 64.9 %\n",
      "Accuracy for class: frog  is 82.1 %\n",
      "Accuracy for class: horse is 72.3 %\n",
      "Accuracy for class: ship  is 75.0 %\n",
      "Accuracy for class: truck is 76.6 %\n"
     ]
    }
   ],
   "source": [
    "model4 = Net()\n",
    "model4.to(device)\n",
    "\n",
    "optimizer = optim.Adam(model4.parameters(), lr=0.0001)\n",
    "\n",
    "stats = train_loop_sched(trainloader, testloader, model4, criterion, device,\n",
    "                         optimizer, max_epochs=max_epochs)\n",
    "\n",
    "es1_loss_acc[\"Adam\"] = [stats[0], stats[3]]\n",
    "\n",
    "test_class(model4, device, criterion, testloader, classes)"
   ]
  },
  {
   "cell_type": "markdown",
   "id": "88b9bc18-cec8-4fba-87df-ded32d3ca734",
   "metadata": {},
   "source": [
    "## Cosine annealing"
   ]
  },
  {
   "cell_type": "code",
   "execution_count": 15,
   "id": "3aabbd25-13ac-47d0-81e6-f84dd3bac2fb",
   "metadata": {
    "collapsed": true,
    "jupyter": {
     "outputs_hidden": true
    },
    "scrolled": true
   },
   "outputs": [
    {
     "name": "stdout",
     "output_type": "stream",
     "text": [
      "Epoch: 1, Learning rate: 0.010000\n",
      "Training - Loss: 1.5366, Accuracy: 0.443, Runtime: 7.27\n",
      "Test - Loss: 1.2966, Accuracy: 0.539\n",
      "Epoch: 2, Learning rate: 0.009973\n",
      "Training - Loss: 1.1217, Accuracy: 0.603, Runtime: 7.32\n",
      "Test - Loss: 1.0324, Accuracy: 0.636\n",
      "Epoch: 3, Learning rate: 0.009891\n",
      "Training - Loss: 0.9285, Accuracy: 0.673, Runtime: 7.36\n",
      "Test - Loss: 0.9743, Accuracy: 0.662\n",
      "Epoch: 4, Learning rate: 0.009755\n",
      "Training - Loss: 0.7843, Accuracy: 0.725, Runtime: 7.31\n",
      "Test - Loss: 0.9411, Accuracy: 0.679\n",
      "Epoch: 5, Learning rate: 0.009568\n",
      "Training - Loss: 0.6627, Accuracy: 0.767, Runtime: 7.36\n",
      "Test - Loss: 0.9532, Accuracy: 0.679\n",
      "Epoch: 6, Learning rate: 0.009330\n",
      "Training - Loss: 0.5348, Accuracy: 0.811, Runtime: 7.30\n",
      "Test - Loss: 1.0277, Accuracy: 0.671\n",
      "Epoch: 7, Learning rate: 0.009045\n",
      "Training - Loss: 0.4326, Accuracy: 0.847, Runtime: 7.39\n",
      "Test - Loss: 1.0761, Accuracy: 0.691\n",
      "Epoch: 8, Learning rate: 0.008716\n",
      "Training - Loss: 0.3284, Accuracy: 0.884, Runtime: 7.34\n",
      "Test - Loss: 1.2428, Accuracy: 0.689\n",
      "Epoch: 9, Learning rate: 0.008346\n",
      "Training - Loss: 0.2425, Accuracy: 0.915, Runtime: 7.34\n",
      "Test - Loss: 1.3713, Accuracy: 0.681\n",
      "Epoch: 10, Learning rate: 0.007939\n",
      "Training - Loss: 0.2041, Accuracy: 0.929, Runtime: 7.38\n",
      "Test - Loss: 1.5007, Accuracy: 0.679\n",
      "Epoch: 11, Learning rate: 0.007500\n",
      "Training - Loss: 0.1398, Accuracy: 0.951, Runtime: 7.28\n",
      "Test - Loss: 1.8553, Accuracy: 0.669\n",
      "Epoch: 12, Learning rate: 0.007034\n",
      "Training - Loss: 0.1042, Accuracy: 0.965, Runtime: 7.31\n",
      "Test - Loss: 1.9266, Accuracy: 0.683\n",
      "Epoch: 13, Learning rate: 0.006545\n",
      "Training - Loss: 0.0689, Accuracy: 0.977, Runtime: 7.30\n",
      "Test - Loss: 2.1498, Accuracy: 0.681\n",
      "Epoch: 14, Learning rate: 0.006040\n",
      "Training - Loss: 0.0515, Accuracy: 0.983, Runtime: 7.34\n",
      "Test - Loss: 2.2517, Accuracy: 0.684\n",
      "Epoch: 15, Learning rate: 0.005523\n",
      "Training - Loss: 0.0238, Accuracy: 0.992, Runtime: 7.33\n",
      "Test - Loss: 2.4845, Accuracy: 0.692\n",
      "Epoch: 16, Learning rate: 0.005000\n",
      "Training - Loss: 0.0100, Accuracy: 0.997, Runtime: 7.35\n",
      "Test - Loss: 2.5704, Accuracy: 0.703\n",
      "Epoch: 17, Learning rate: 0.004477\n",
      "Training - Loss: 0.0024, Accuracy: 1.000, Runtime: 7.32\n",
      "Test - Loss: 2.6802, Accuracy: 0.705\n",
      "Epoch: 18, Learning rate: 0.003960\n",
      "Training - Loss: 0.0007, Accuracy: 1.000, Runtime: 7.28\n",
      "Test - Loss: 2.7649, Accuracy: 0.705\n",
      "Epoch: 19, Learning rate: 0.003455\n",
      "Training - Loss: 0.0005, Accuracy: 1.000, Runtime: 7.32\n",
      "Test - Loss: 2.8067, Accuracy: 0.706\n",
      "Epoch: 20, Learning rate: 0.002966\n",
      "Training - Loss: 0.0004, Accuracy: 1.000, Runtime: 7.34\n",
      "Test - Loss: 2.8437, Accuracy: 0.707\n",
      "Done! - Runtime: 239.86 seconds\n",
      "Final loss: 2.8437, Accuracy: 0.707\n",
      "-------\n",
      "Accuracy for class: plane is 76.9 %\n",
      "Accuracy for class: car   is 82.5 %\n",
      "Accuracy for class: bird  is 60.0 %\n",
      "Accuracy for class: cat   is 49.0 %\n",
      "Accuracy for class: deer  is 65.0 %\n",
      "Accuracy for class: dog   is 59.2 %\n",
      "Accuracy for class: frog  is 77.8 %\n",
      "Accuracy for class: horse is 74.0 %\n",
      "Accuracy for class: ship  is 82.5 %\n",
      "Accuracy for class: truck is 80.1 %\n"
     ]
    }
   ],
   "source": [
    "model5 = Net()\n",
    "model5.to(device)\n",
    "\n",
    "optimizer = optim.SGD(model5.parameters(), lr=0.01, momentum=0.9)\n",
    "scheduler = CosineAnnealingLR(optimizer, T_max=30)\n",
    "\n",
    "stats = train_loop_sched(trainloader, testloader, model5, criterion, device,\n",
    "                         optimizer, scheduler, max_epochs=max_epochs)\n",
    "\n",
    "es1_loss_acc[\"SGD-Cos\"] = [stats[0], stats[3]]\n",
    "\n",
    "test_class(model5, device, criterion, testloader, classes)"
   ]
  },
  {
   "cell_type": "markdown",
   "id": "012e1816-0a8c-488e-a5eb-f105d6d89941",
   "metadata": {},
   "source": [
    "## Reduce on plateau\n",
    "Reduce learning rate when a metric has stopped improving"
   ]
  },
  {
   "cell_type": "code",
   "execution_count": null,
   "id": "8180bd57-59ac-41a3-9400-861d9e77be54",
   "metadata": {
    "jupyter": {
     "source_hidden": true
    }
   },
   "outputs": [],
   "source": [
    "model6 = Net()\n",
    "model6.to(device)\n",
    "\n",
    "optimizer = optim.SGD(model6.parameters(), lr=0.01, momentum=0.9)\n",
    "scheduler = ReduceLROnPlateau(optimizer, factor=0.1, patience=5, threshold=0.01)\n",
    "\n",
    "stats = train_loop_sched(trainloader, testloader, model6, criterion, device,\n",
    "                         optimizer, scheduler, max_epochs=max_epochs)\n",
    "\n",
    "es1_loss_acc[\"SGD-Plateau\"] = [stats[0], stats[3]]\n",
    "\n",
    "test_class(model6, device, criterion, testloader, classes)"
   ]
  },
  {
   "cell_type": "markdown",
   "id": "c205dc17-da43-497f-93d5-c524bc306662",
   "metadata": {},
   "source": [
    "## Show optimizers performance"
   ]
  },
  {
   "cell_type": "code",
   "execution_count": 32,
   "id": "66bc6c23-7b16-4878-83fc-8698682b9749",
   "metadata": {},
   "outputs": [
    {
     "data": {
      "image/png": "[encoded data removed]",
      "text/plain": [
       "<Figure size 1200x400 with 2 Axes>"
      ]
     },
     "metadata": {},
     "output_type": "display_data"
    }
   ],
   "source": [
    "multiple_diagnostic(es1_loss_acc, max_epochs)\n",
    "plt.savefig(\"./plots/cifar10-opt-diagnostic.pdf\")"
   ]
  },
  {
   "cell_type": "code",
   "execution_count": 17,
   "id": "66539af7-a9d3-43ee-94d5-47d27fe18b55",
   "metadata": {},
   "outputs": [],
   "source": [
    "save_to_json(es1_loss_acc, \"./plots/cifar10-opt-diagnostic.json\")"
   ]
  },
  {
   "cell_type": "markdown",
   "id": "87490889-1bf4-4b1e-b5a7-9874a0d0dd4b",
   "metadata": {},
   "source": [
    "# Excercise 2"
   ]
  },
  {
   "cell_type": "code",
   "execution_count": 10,
   "id": "6b310097-51da-4f79-97e1-1b4cbf7886b7",
   "metadata": {
    "jupyter": {
     "source_hidden": true
    }
   },
   "outputs": [],
   "source": [
    "transform = transforms.Compose([\n",
    "    # geometric transforms\n",
    "    # transforms.RandomRotation(degrees=20),  # rotates the image randomly within a range of -20 to 20 degrees\n",
    "    transforms.RandomAffine(degrees=15, translate=(0.1, 0.1), scale=(0.8, 1.2), shear=10),\n",
    "    transforms.RandomHorizontalFlip(p=0.5),  # flips the image horizontally with a 50% probability\n",
    "    transforms.RandomResizedCrop(size=(32, 32), scale=(0.8, 1.0)),  # randomly crops between 80% and 100% of the original image and resizes to 32x32\n",
    "    # color transforms\n",
    "    transforms.ColorJitter(brightness=0.2, contrast=0.2, saturation=0.2, hue=0.1),  # randomly changes the brightness, contrast, saturation, and hue of the image\n",
    "    transforms.RandomGrayscale(p=0.1),  # converts the image to grayscale with a 10% probability\n",
    "    # noise injection\n",
    "    transforms.GaussianBlur(kernel_size=5, sigma=(0.1, 0.8)),  # applies a Gaussian blur with a specified range for sigma\n",
    "    # normalization\n",
    "    #transforms.RandomErasing(p=0.5, scale=(0.02, 0.33), ratio=(0.3, 3.3)),  # randomly selects a rectangle region in an image and erases its pixels\n",
    "    transforms.ToTensor()])\n",
    "\n",
    "trainset = torchvision.datasets.CIFAR10(root='./data', train=True, transform=transform)"
   ]
  },
  {
   "cell_type": "code",
   "execution_count": 19,
   "id": "b74145cc-d8bc-43f5-8e2b-bba9fa366cfe",
   "metadata": {},
   "outputs": [],
   "source": [
    "es2_loss_acc = {}"
   ]
  },
  {
   "cell_type": "code",
   "execution_count": 20,
   "id": "4c744aa3-be02-4195-88ea-30301e79d68e",
   "metadata": {},
   "outputs": [],
   "source": [
    "es2_loss_acc[\"SGD\"] = es1_loss_acc[\"SGD\"]"
   ]
  },
  {
   "cell_type": "code",
   "execution_count": 21,
   "id": "1459abb8-9ee4-4cbf-bc55-f794bbd4b2af",
   "metadata": {},
   "outputs": [
    {
     "name": "stdout",
     "output_type": "stream",
     "text": [
      "Files already downloaded and verified\n"
     ]
    }
   ],
   "source": [
    "transform = transforms.Compose([transforms.ToTensor(), transforms.Normalize(mean, std)])\n",
    "\n",
    "testset = torchvision.datasets.CIFAR10(root='./data', train=False, download=True, transform=transform)\n",
    "\n",
    "testloader = torch.utils.data.DataLoader(testset, batch_size=batch_size, shuffle=False, num_workers=2)"
   ]
  },
  {
   "cell_type": "markdown",
   "id": "965e09ce-695f-467b-951d-119b44f9fcbf",
   "metadata": {},
   "source": [
    "### Random affine transforms"
   ]
  },
  {
   "cell_type": "code",
   "execution_count": 22,
   "id": "bc12726e-8468-46c9-ba1c-d1d8cb381af8",
   "metadata": {},
   "outputs": [],
   "source": [
    "transf1 = transforms.Compose([\n",
    "    transforms.RandomAffine(degrees=15, translate=(0.1, 0.1), scale=(0.8, 1.2), shear=10),\n",
    "    transforms.ToTensor(),\n",
    "    transforms.Normalize(mean, std)\n",
    "])\n",
    "\n",
    "trainset_1 = torchvision.datasets.CIFAR10(root='./data', train=True, transform=transf1)\n",
    "trainloader_1 = torch.utils.data.DataLoader(trainset_1, batch_size=batch_size, shuffle=True, num_workers=2)"
   ]
  },
  {
   "cell_type": "code",
   "execution_count": 23,
   "id": "21c9274e-04d8-4902-ad4f-3295f0a81178",
   "metadata": {
    "collapsed": true,
    "jupyter": {
     "outputs_hidden": true
    },
    "scrolled": true
   },
   "outputs": [
    {
     "name": "stdout",
     "output_type": "stream",
     "text": [
      "Epoch: 1, Learning rate: 0.001000\n",
      "Training - Loss: 2.0645, Accuracy: 0.243, Runtime: 12.23\n",
      "Test - Loss: 1.7842, Accuracy: 0.372\n",
      "Epoch: 2, Learning rate: 0.001000\n",
      "Training - Loss: 1.7066, Accuracy: 0.377, Runtime: 12.06\n",
      "Test - Loss: 1.5326, Accuracy: 0.449\n",
      "Epoch: 3, Learning rate: 0.001000\n",
      "Training - Loss: 1.5868, Accuracy: 0.426, Runtime: 12.23\n",
      "Test - Loss: 1.4479, Accuracy: 0.478\n",
      "Epoch: 4, Learning rate: 0.001000\n",
      "Training - Loss: 1.5007, Accuracy: 0.458, Runtime: 12.38\n",
      "Test - Loss: 1.3523, Accuracy: 0.516\n",
      "Epoch: 5, Learning rate: 0.001000\n",
      "Training - Loss: 1.4341, Accuracy: 0.484, Runtime: 12.42\n",
      "Test - Loss: 1.2813, Accuracy: 0.543\n",
      "Epoch: 6, Learning rate: 0.001000\n",
      "Training - Loss: 1.3741, Accuracy: 0.507, Runtime: 12.35\n",
      "Test - Loss: 1.2314, Accuracy: 0.565\n",
      "Epoch: 7, Learning rate: 0.001000\n",
      "Training - Loss: 1.3309, Accuracy: 0.525, Runtime: 12.38\n",
      "Test - Loss: 1.2358, Accuracy: 0.564\n",
      "Epoch: 8, Learning rate: 0.001000\n",
      "Training - Loss: 1.2899, Accuracy: 0.540, Runtime: 12.38\n",
      "Test - Loss: 1.1579, Accuracy: 0.588\n",
      "Epoch: 9, Learning rate: 0.001000\n",
      "Training - Loss: 1.2568, Accuracy: 0.551, Runtime: 12.30\n",
      "Test - Loss: 1.1137, Accuracy: 0.607\n",
      "Epoch: 10, Learning rate: 0.001000\n",
      "Training - Loss: 1.2243, Accuracy: 0.564, Runtime: 11.91\n",
      "Test - Loss: 1.0955, Accuracy: 0.613\n",
      "Epoch: 11, Learning rate: 0.001000\n",
      "Training - Loss: 1.1899, Accuracy: 0.578, Runtime: 13.13\n",
      "Test - Loss: 1.0780, Accuracy: 0.623\n",
      "Epoch: 12, Learning rate: 0.001000\n",
      "Training - Loss: 1.1588, Accuracy: 0.589, Runtime: 11.92\n",
      "Test - Loss: 1.0291, Accuracy: 0.636\n",
      "Epoch: 13, Learning rate: 0.001000\n",
      "Training - Loss: 1.1323, Accuracy: 0.600, Runtime: 11.87\n",
      "Test - Loss: 1.0331, Accuracy: 0.632\n",
      "Epoch: 14, Learning rate: 0.001000\n",
      "Training - Loss: 1.1070, Accuracy: 0.609, Runtime: 11.88\n",
      "Test - Loss: 0.9839, Accuracy: 0.651\n",
      "Epoch: 15, Learning rate: 0.001000\n",
      "Training - Loss: 1.0844, Accuracy: 0.617, Runtime: 12.35\n",
      "Test - Loss: 0.9753, Accuracy: 0.659\n",
      "Epoch: 16, Learning rate: 0.001000\n",
      "Training - Loss: 1.0547, Accuracy: 0.629, Runtime: 12.66\n",
      "Test - Loss: 0.9688, Accuracy: 0.659\n",
      "Epoch: 17, Learning rate: 0.001000\n",
      "Training - Loss: 1.0417, Accuracy: 0.634, Runtime: 12.13\n",
      "Test - Loss: 0.9151, Accuracy: 0.677\n",
      "Epoch: 18, Learning rate: 0.001000\n",
      "Training - Loss: 1.0216, Accuracy: 0.641, Runtime: 12.23\n",
      "Test - Loss: 0.9303, Accuracy: 0.673\n",
      "Epoch: 19, Learning rate: 0.001000\n",
      "Training - Loss: 1.0035, Accuracy: 0.646, Runtime: 11.87\n",
      "Test - Loss: 0.9035, Accuracy: 0.684\n",
      "Epoch: 20, Learning rate: 0.001000\n",
      "Training - Loss: 0.9881, Accuracy: 0.650, Runtime: 12.34\n",
      "Test - Loss: 0.8879, Accuracy: 0.685\n",
      "Done! - Runtime: 346.20 seconds\n",
      "Final loss: 0.8879, Accuracy: 0.685\n",
      "-------\n",
      "Accuracy for class: plane is 74.9 %\n",
      "Accuracy for class: car   is 90.5 %\n",
      "Accuracy for class: bird  is 63.1 %\n",
      "Accuracy for class: cat   is 52.6 %\n",
      "Accuracy for class: deer  is 56.8 %\n",
      "Accuracy for class: dog   is 50.3 %\n",
      "Accuracy for class: frog  is 73.7 %\n",
      "Accuracy for class: horse is 78.3 %\n",
      "Accuracy for class: ship  is 74.8 %\n",
      "Accuracy for class: truck is 70.5 %\n"
     ]
    }
   ],
   "source": [
    "# model_transf_dict = dict(model=model_transf, criterion=criterion, device=device, lr=0.001, momentum=0.9,\n",
    "#                          max_epochs=max_epochs, do_test=True)\n",
    "# stats = train_loop(trainloader_1, testloader, **model_transf_dict)\n",
    "\n",
    "model1 = Net()\n",
    "model1.to(device)\n",
    "\n",
    "optimizer = optim.SGD(model1.parameters(), lr=0.001, momentum=0.9)\n",
    "\n",
    "stats = train_loop_sched(trainloader_1, testloader, model1, criterion, device,\n",
    "                         optimizer, max_epochs=max_epochs)\n",
    "\n",
    "es2_loss_acc[\"RandAff\"] = [stats[0], stats[3]]\n",
    "\n",
    "test_class(model1, device, criterion, testloader, classes)"
   ]
  },
  {
   "cell_type": "markdown",
   "id": "322d56ad-e8bb-4138-b48c-48bb193b02b3",
   "metadata": {},
   "source": [
    "### Random horizontal flip transforms"
   ]
  },
  {
   "cell_type": "code",
   "execution_count": 24,
   "id": "2ba1314a-75e2-4ecf-8507-1a1719623c65",
   "metadata": {},
   "outputs": [],
   "source": [
    "transf2 = transforms.Compose([\n",
    "    transforms.RandomHorizontalFlip(p=0.5),\n",
    "    transforms.ToTensor(),\n",
    "    transforms.Normalize(mean, std)\n",
    "])\n",
    "\n",
    "trainset_2 = torchvision.datasets.CIFAR10(root='./data', train=True, transform=transf2)\n",
    "trainloader_2 = torch.utils.data.DataLoader(trainset_2, batch_size=batch_size, shuffle=True, num_workers=2)"
   ]
  },
  {
   "cell_type": "code",
   "execution_count": 25,
   "id": "4e37f416-b6a8-4980-a718-c739e1815762",
   "metadata": {
    "collapsed": true,
    "jupyter": {
     "outputs_hidden": true
    },
    "scrolled": true
   },
   "outputs": [
    {
     "name": "stdout",
     "output_type": "stream",
     "text": [
      "Epoch: 1, Learning rate: 0.001000\n",
      "Training - Loss: 2.0103, Accuracy: 0.276, Runtime: 9.73\n",
      "Test - Loss: 1.7057, Accuracy: 0.387\n",
      "Epoch: 2, Learning rate: 0.001000\n",
      "Training - Loss: 1.5588, Accuracy: 0.442, Runtime: 10.13\n",
      "Test - Loss: 1.4955, Accuracy: 0.459\n",
      "Epoch: 3, Learning rate: 0.001000\n",
      "Training - Loss: 1.3863, Accuracy: 0.506, Runtime: 9.81\n",
      "Test - Loss: 1.3167, Accuracy: 0.525\n",
      "Epoch: 4, Learning rate: 0.001000\n",
      "Training - Loss: 1.2811, Accuracy: 0.547, Runtime: 10.08\n",
      "Test - Loss: 1.2414, Accuracy: 0.559\n",
      "Epoch: 5, Learning rate: 0.001000\n",
      "Training - Loss: 1.1969, Accuracy: 0.579, Runtime: 10.22\n",
      "Test - Loss: 1.1749, Accuracy: 0.585\n",
      "Epoch: 6, Learning rate: 0.001000\n",
      "Training - Loss: 1.1190, Accuracy: 0.607, Runtime: 10.08\n",
      "Test - Loss: 1.1144, Accuracy: 0.605\n",
      "Epoch: 7, Learning rate: 0.001000\n",
      "Training - Loss: 1.0549, Accuracy: 0.630, Runtime: 9.83\n",
      "Test - Loss: 1.0309, Accuracy: 0.638\n",
      "Epoch: 8, Learning rate: 0.001000\n",
      "Training - Loss: 1.0010, Accuracy: 0.650, Runtime: 10.06\n",
      "Test - Loss: 1.0626, Accuracy: 0.626\n",
      "Epoch: 9, Learning rate: 0.001000\n",
      "Training - Loss: 0.9483, Accuracy: 0.671, Runtime: 9.79\n",
      "Test - Loss: 0.9559, Accuracy: 0.659\n",
      "Epoch: 10, Learning rate: 0.001000\n",
      "Training - Loss: 0.9133, Accuracy: 0.682, Runtime: 9.76\n",
      "Test - Loss: 0.9484, Accuracy: 0.667\n",
      "Epoch: 11, Learning rate: 0.001000\n",
      "Training - Loss: 0.8694, Accuracy: 0.698, Runtime: 10.47\n",
      "Test - Loss: 0.9340, Accuracy: 0.673\n",
      "Epoch: 12, Learning rate: 0.001000\n",
      "Training - Loss: 0.8326, Accuracy: 0.709, Runtime: 9.79\n",
      "Test - Loss: 0.9029, Accuracy: 0.683\n",
      "Epoch: 13, Learning rate: 0.001000\n",
      "Training - Loss: 0.8032, Accuracy: 0.719, Runtime: 9.71\n",
      "Test - Loss: 0.8738, Accuracy: 0.695\n",
      "Epoch: 14, Learning rate: 0.001000\n",
      "Training - Loss: 0.7712, Accuracy: 0.733, Runtime: 9.81\n",
      "Test - Loss: 0.8479, Accuracy: 0.703\n",
      "Epoch: 15, Learning rate: 0.001000\n",
      "Training - Loss: 0.7440, Accuracy: 0.742, Runtime: 9.98\n",
      "Test - Loss: 0.8487, Accuracy: 0.703\n",
      "Epoch: 16, Learning rate: 0.001000\n",
      "Training - Loss: 0.7170, Accuracy: 0.753, Runtime: 9.90\n",
      "Test - Loss: 0.8880, Accuracy: 0.698\n",
      "Epoch: 17, Learning rate: 0.001000\n",
      "Training - Loss: 0.6899, Accuracy: 0.764, Runtime: 9.90\n",
      "Test - Loss: 0.8304, Accuracy: 0.713\n",
      "Epoch: 18, Learning rate: 0.001000\n",
      "Training - Loss: 0.6637, Accuracy: 0.771, Runtime: 10.21\n",
      "Test - Loss: 0.8135, Accuracy: 0.722\n",
      "Epoch: 19, Learning rate: 0.001000\n",
      "Training - Loss: 0.6360, Accuracy: 0.779, Runtime: 9.76\n",
      "Test - Loss: 0.8191, Accuracy: 0.720\n",
      "Epoch: 20, Learning rate: 0.001000\n",
      "Training - Loss: 0.6160, Accuracy: 0.786, Runtime: 9.98\n",
      "Test - Loss: 0.7998, Accuracy: 0.725\n",
      "Done! - Runtime: 300.26 seconds\n",
      "Final loss: 0.7998, Accuracy: 0.725\n",
      "-------\n",
      "Accuracy for class: plane is 74.1 %\n",
      "Accuracy for class: car   is 81.6 %\n",
      "Accuracy for class: bird  is 55.8 %\n",
      "Accuracy for class: cat   is 52.5 %\n",
      "Accuracy for class: deer  is 66.6 %\n",
      "Accuracy for class: dog   is 71.1 %\n",
      "Accuracy for class: frog  is 81.3 %\n",
      "Accuracy for class: horse is 77.1 %\n",
      "Accuracy for class: ship  is 83.2 %\n",
      "Accuracy for class: truck is 81.2 %\n"
     ]
    }
   ],
   "source": [
    "model1 = Net()\n",
    "model1.to(device)\n",
    "\n",
    "optimizer = optim.SGD(model1.parameters(), lr=0.001, momentum=0.9)\n",
    "\n",
    "stats = train_loop_sched(trainloader_2, testloader, model1, criterion, device,\n",
    "                         optimizer, max_epochs=max_epochs)\n",
    "\n",
    "es2_loss_acc[\"HorizFlip\"] = [stats[0], stats[3]]\n",
    "\n",
    "test_class(model1, device, criterion, testloader, classes)"
   ]
  },
  {
   "cell_type": "markdown",
   "id": "2d03b733-4c6a-4e1e-bb48-fa66ead47917",
   "metadata": {},
   "source": [
    "### Gaussian blur transforms"
   ]
  },
  {
   "cell_type": "code",
   "execution_count": 26,
   "id": "3f94f9a2-d742-4a85-9fd3-bc54f9b8df61",
   "metadata": {},
   "outputs": [],
   "source": [
    "transf3 = transforms.Compose([\n",
    "    transforms.GaussianBlur(kernel_size=5, sigma=(0.1, 0.8)),\n",
    "    transforms.ToTensor(),\n",
    "    transforms.Normalize(mean, std)\n",
    "])\n",
    "\n",
    "trainset_3 = torchvision.datasets.CIFAR10(root='./data', train=True, transform=transf3)\n",
    "trainloader_3 = torch.utils.data.DataLoader(trainset_3, batch_size=batch_size, shuffle=True, num_workers=2)"
   ]
  },
  {
   "cell_type": "code",
   "execution_count": 27,
   "id": "86ddd322-aa8d-4d67-8cbe-7cb5ae30d5fb",
   "metadata": {
    "collapsed": true,
    "jupyter": {
     "outputs_hidden": true
    },
    "scrolled": true
   },
   "outputs": [
    {
     "name": "stdout",
     "output_type": "stream",
     "text": [
      "Epoch: 1, Learning rate: 0.001000\n",
      "Training - Loss: 2.0039, Accuracy: 0.276, Runtime: 26.35\n",
      "Test - Loss: 1.7184, Accuracy: 0.366\n",
      "Epoch: 2, Learning rate: 0.001000\n",
      "Training - Loss: 1.5678, Accuracy: 0.436, Runtime: 26.34\n",
      "Test - Loss: 1.4203, Accuracy: 0.483\n",
      "Epoch: 3, Learning rate: 0.001000\n",
      "Training - Loss: 1.3973, Accuracy: 0.500, Runtime: 27.22\n",
      "Test - Loss: 1.3593, Accuracy: 0.513\n",
      "Epoch: 4, Learning rate: 0.001000\n",
      "Training - Loss: 1.3049, Accuracy: 0.536, Runtime: 26.10\n",
      "Test - Loss: 1.2600, Accuracy: 0.555\n",
      "Epoch: 5, Learning rate: 0.001000\n",
      "Training - Loss: 1.2297, Accuracy: 0.565, Runtime: 26.83\n",
      "Test - Loss: 1.2184, Accuracy: 0.569\n",
      "Epoch: 6, Learning rate: 0.001000\n",
      "Training - Loss: 1.1625, Accuracy: 0.590, Runtime: 26.29\n",
      "Test - Loss: 1.1492, Accuracy: 0.596\n",
      "Epoch: 7, Learning rate: 0.001000\n",
      "Training - Loss: 1.0966, Accuracy: 0.613, Runtime: 26.36\n",
      "Test - Loss: 1.1077, Accuracy: 0.611\n",
      "Epoch: 8, Learning rate: 0.001000\n",
      "Training - Loss: 1.0384, Accuracy: 0.635, Runtime: 26.72\n",
      "Test - Loss: 1.0341, Accuracy: 0.641\n",
      "Epoch: 9, Learning rate: 0.001000\n",
      "Training - Loss: 0.9863, Accuracy: 0.656, Runtime: 26.75\n",
      "Test - Loss: 1.0617, Accuracy: 0.629\n",
      "Epoch: 10, Learning rate: 0.001000\n",
      "Training - Loss: 0.9371, Accuracy: 0.674, Runtime: 27.31\n",
      "Test - Loss: 1.0330, Accuracy: 0.636\n",
      "Epoch: 11, Learning rate: 0.001000\n",
      "Training - Loss: 0.8871, Accuracy: 0.692, Runtime: 26.76\n",
      "Test - Loss: 1.0311, Accuracy: 0.644\n",
      "Epoch: 12, Learning rate: 0.001000\n",
      "Training - Loss: 0.8405, Accuracy: 0.709, Runtime: 26.33\n",
      "Test - Loss: 0.9611, Accuracy: 0.667\n",
      "Epoch: 13, Learning rate: 0.001000\n",
      "Training - Loss: 0.8003, Accuracy: 0.723, Runtime: 26.13\n",
      "Test - Loss: 0.9652, Accuracy: 0.668\n",
      "Epoch: 14, Learning rate: 0.001000\n",
      "Training - Loss: 0.7571, Accuracy: 0.736, Runtime: 26.22\n",
      "Test - Loss: 0.9558, Accuracy: 0.679\n",
      "Epoch: 15, Learning rate: 0.001000\n",
      "Training - Loss: 0.7175, Accuracy: 0.750, Runtime: 26.57\n",
      "Test - Loss: 0.9439, Accuracy: 0.678\n",
      "Epoch: 16, Learning rate: 0.001000\n",
      "Training - Loss: 0.6739, Accuracy: 0.766, Runtime: 26.31\n",
      "Test - Loss: 0.9968, Accuracy: 0.670\n",
      "Epoch: 17, Learning rate: 0.001000\n",
      "Training - Loss: 0.6343, Accuracy: 0.781, Runtime: 26.21\n",
      "Test - Loss: 0.9709, Accuracy: 0.679\n",
      "Epoch: 18, Learning rate: 0.001000\n",
      "Training - Loss: 0.5974, Accuracy: 0.792, Runtime: 26.45\n",
      "Test - Loss: 1.0154, Accuracy: 0.680\n",
      "Epoch: 19, Learning rate: 0.001000\n",
      "Training - Loss: 0.5555, Accuracy: 0.808, Runtime: 26.23\n",
      "Test - Loss: 1.0124, Accuracy: 0.681\n",
      "Epoch: 20, Learning rate: 0.001000\n",
      "Training - Loss: 0.5095, Accuracy: 0.824, Runtime: 26.12\n",
      "Test - Loss: 1.0518, Accuracy: 0.682\n",
      "Done! - Runtime: 632.60 seconds\n",
      "Final loss: 1.0518, Accuracy: 0.682\n",
      "-------\n",
      "Accuracy for class: plane is 74.3 %\n",
      "Accuracy for class: car   is 84.3 %\n",
      "Accuracy for class: bird  is 58.1 %\n",
      "Accuracy for class: cat   is 35.6 %\n",
      "Accuracy for class: deer  is 61.6 %\n",
      "Accuracy for class: dog   is 62.0 %\n",
      "Accuracy for class: frog  is 76.4 %\n",
      "Accuracy for class: horse is 79.3 %\n",
      "Accuracy for class: ship  is 75.4 %\n",
      "Accuracy for class: truck is 74.7 %\n"
     ]
    }
   ],
   "source": [
    "model1 = Net()\n",
    "model1.to(device)\n",
    "\n",
    "optimizer = optim.SGD(model1.parameters(), lr=0.001, momentum=0.9)\n",
    "\n",
    "stats = train_loop_sched(trainloader_3, testloader, model1, criterion, device,\n",
    "                         optimizer, max_epochs=max_epochs)\n",
    "\n",
    "es2_loss_acc[\"Blur\"] = [stats[0], stats[3]]\n",
    "\n",
    "test_class(model1, device, criterion, testloader, classes)"
   ]
  },
  {
   "cell_type": "markdown",
   "id": "544ef095-0874-4f04-b18a-2265b5e51ce4",
   "metadata": {},
   "source": [
    "### Color jitter"
   ]
  },
  {
   "cell_type": "code",
   "execution_count": 28,
   "id": "20cccc69-b788-4001-978d-61da522fb4c0",
   "metadata": {},
   "outputs": [],
   "source": [
    "transf4 = transforms.Compose([\n",
    "    transforms.ColorJitter(brightness=0.2, contrast=0.2, saturation=0.2, hue=0.1),\n",
    "    transforms.ToTensor(),\n",
    "    transforms.Normalize(mean, std)\n",
    "])\n",
    "\n",
    "trainset_4 = torchvision.datasets.CIFAR10(root='./data', train=True, transform=transf4)\n",
    "trainloader_4 = torch.utils.data.DataLoader(trainset_4, batch_size=batch_size, shuffle=True, num_workers=2)"
   ]
  },
  {
   "cell_type": "code",
   "execution_count": 29,
   "id": "e8f467b7-d06a-4172-b0ba-9075dfaf2e9f",
   "metadata": {
    "collapsed": true,
    "jupyter": {
     "outputs_hidden": true
    },
    "scrolled": true
   },
   "outputs": [
    {
     "name": "stdout",
     "output_type": "stream",
     "text": [
      "Epoch: 1, Learning rate: 0.001000\n",
      "Training - Loss: 1.9496, Accuracy: 0.298, Runtime: 22.85\n",
      "Test - Loss: 1.6752, Accuracy: 0.401\n",
      "Epoch: 2, Learning rate: 0.001000\n",
      "Training - Loss: 1.5529, Accuracy: 0.447, Runtime: 22.68\n",
      "Test - Loss: 1.4110, Accuracy: 0.497\n",
      "Epoch: 3, Learning rate: 0.001000\n",
      "Training - Loss: 1.3961, Accuracy: 0.511, Runtime: 22.82\n",
      "Test - Loss: 1.3029, Accuracy: 0.537\n",
      "Epoch: 4, Learning rate: 0.001000\n",
      "Training - Loss: 1.2828, Accuracy: 0.549, Runtime: 22.88\n",
      "Test - Loss: 1.2158, Accuracy: 0.572\n",
      "Epoch: 5, Learning rate: 0.001000\n",
      "Training - Loss: 1.1930, Accuracy: 0.584, Runtime: 22.74\n",
      "Test - Loss: 1.1329, Accuracy: 0.602\n",
      "Epoch: 6, Learning rate: 0.001000\n",
      "Training - Loss: 1.1051, Accuracy: 0.614, Runtime: 22.69\n",
      "Test - Loss: 1.0754, Accuracy: 0.622\n",
      "Epoch: 7, Learning rate: 0.001000\n",
      "Training - Loss: 1.0356, Accuracy: 0.640, Runtime: 22.43\n",
      "Test - Loss: 1.0086, Accuracy: 0.648\n",
      "Epoch: 8, Learning rate: 0.001000\n",
      "Training - Loss: 0.9719, Accuracy: 0.662, Runtime: 22.80\n",
      "Test - Loss: 0.9858, Accuracy: 0.659\n",
      "Epoch: 9, Learning rate: 0.001000\n",
      "Training - Loss: 0.9201, Accuracy: 0.680, Runtime: 22.79\n",
      "Test - Loss: 0.9811, Accuracy: 0.655\n",
      "Epoch: 10, Learning rate: 0.001000\n",
      "Training - Loss: 0.8727, Accuracy: 0.698, Runtime: 22.20\n",
      "Test - Loss: 0.9245, Accuracy: 0.679\n",
      "Epoch: 11, Learning rate: 0.001000\n",
      "Training - Loss: 0.8197, Accuracy: 0.714, Runtime: 22.52\n",
      "Test - Loss: 0.9180, Accuracy: 0.680\n",
      "Epoch: 12, Learning rate: 0.001000\n",
      "Training - Loss: 0.7780, Accuracy: 0.729, Runtime: 22.40\n",
      "Test - Loss: 0.9178, Accuracy: 0.685\n",
      "Epoch: 13, Learning rate: 0.001000\n",
      "Training - Loss: 0.7344, Accuracy: 0.746, Runtime: 22.20\n",
      "Test - Loss: 0.8769, Accuracy: 0.700\n",
      "Epoch: 14, Learning rate: 0.001000\n",
      "Training - Loss: 0.6890, Accuracy: 0.764, Runtime: 22.22\n",
      "Test - Loss: 0.9069, Accuracy: 0.693\n",
      "Epoch: 15, Learning rate: 0.001000\n",
      "Training - Loss: 0.6459, Accuracy: 0.777, Runtime: 22.72\n",
      "Test - Loss: 0.8727, Accuracy: 0.710\n",
      "Epoch: 16, Learning rate: 0.001000\n",
      "Training - Loss: 0.6082, Accuracy: 0.790, Runtime: 22.61\n",
      "Test - Loss: 0.8487, Accuracy: 0.712\n",
      "Epoch: 17, Learning rate: 0.001000\n",
      "Training - Loss: 0.5658, Accuracy: 0.804, Runtime: 22.41\n",
      "Test - Loss: 0.9246, Accuracy: 0.701\n",
      "Epoch: 18, Learning rate: 0.001000\n",
      "Training - Loss: 0.5282, Accuracy: 0.820, Runtime: 22.17\n",
      "Test - Loss: 0.8953, Accuracy: 0.708\n",
      "Epoch: 19, Learning rate: 0.001000\n",
      "Training - Loss: 0.4875, Accuracy: 0.830, Runtime: 22.26\n",
      "Test - Loss: 0.8971, Accuracy: 0.715\n",
      "Epoch: 20, Learning rate: 0.001000\n",
      "Training - Loss: 0.4476, Accuracy: 0.846, Runtime: 22.45\n",
      "Test - Loss: 0.9344, Accuracy: 0.712\n",
      "Done! - Runtime: 552.12 seconds\n",
      "Final loss: 0.9344, Accuracy: 0.712\n",
      "-------\n",
      "Accuracy for class: plane is 81.7 %\n",
      "Accuracy for class: car   is 84.9 %\n",
      "Accuracy for class: bird  is 55.7 %\n",
      "Accuracy for class: cat   is 48.4 %\n",
      "Accuracy for class: deer  is 69.8 %\n",
      "Accuracy for class: dog   is 65.1 %\n",
      "Accuracy for class: frog  is 69.6 %\n",
      "Accuracy for class: horse is 78.9 %\n",
      "Accuracy for class: ship  is 78.5 %\n",
      "Accuracy for class: truck is 79.1 %\n"
     ]
    }
   ],
   "source": [
    "model1 = Net()\n",
    "model1.to(device)\n",
    "\n",
    "optimizer = optim.SGD(model1.parameters(), lr=0.001, momentum=0.9)\n",
    "\n",
    "stats = train_loop_sched(trainloader_4, testloader, model1, criterion, device,\n",
    "                         optimizer, max_epochs=max_epochs)\n",
    "\n",
    "es2_loss_acc[\"Jitter\"] = [stats[0], stats[3]]\n",
    "\n",
    "test_class(model1, device, criterion, testloader, classes)"
   ]
  },
  {
   "cell_type": "markdown",
   "id": "6f047b37-f06f-45cc-939b-583c1dbbd989",
   "metadata": {},
   "source": [
    "### Show tranforms performance"
   ]
  },
  {
   "cell_type": "code",
   "execution_count": 30,
   "id": "274ba78b-41d6-4ed0-b612-3fdc1de79923",
   "metadata": {},
   "outputs": [
    {
     "data": {
      "image/png": "[encoded data removed]",
      "text/plain": [
       "<Figure size 1200x400 with 2 Axes>"
      ]
     },
     "metadata": {},
     "output_type": "display_data"
    }
   ],
   "source": [
    "multiple_diagnostic(es2_loss_acc, max_epochs)\n",
    "plt.savefig(\"./plots/cifar10-transforms-diagnostic.pdf\")"
   ]
  },
  {
   "cell_type": "code",
   "execution_count": 31,
   "id": "01950837-9deb-4984-ab65-4d4e238d3b3e",
   "metadata": {},
   "outputs": [],
   "source": [
    "save_to_json(es2_loss_acc, \"./plots/cifar10-transforms-diagnostic.json\")"
   ]
  },
  {
   "cell_type": "markdown",
   "id": "1dfbf43e-1f69-4e6e-9100-112fb4aff346",
   "metadata": {},
   "source": [
    "### Show transforms"
   ]
  },
  {
   "cell_type": "code",
   "execution_count": 33,
   "id": "bcf58a24-d4eb-4435-936b-e6bebd1c3329",
   "metadata": {},
   "outputs": [],
   "source": [
    "notransform = transforms.Compose([transforms.ToTensor()])\n",
    "non_augmented = torchvision.datasets.CIFAR10(root='./data', train=True, transform=notransform)"
   ]
  },
  {
   "cell_type": "code",
   "execution_count": 35,
   "id": "9ee0ef69-391b-4175-ae45-17d8d9a03de9",
   "metadata": {},
   "outputs": [],
   "source": [
    "# plot real and augmented images\n",
    "from torchvision.utils import make_grid\n",
    "\n",
    "transf1 = transforms.Compose([\n",
    "    transforms.RandomAffine(degrees=15, translate=(0.1, 0.1), scale=(0.8, 1.2), shear=10),\n",
    "    transforms.ToTensor()])\n",
    "trainset_1 = torchvision.datasets.CIFAR10(root='./data', train=True, transform=transf1)\n",
    "\n",
    "transf2 = transforms.Compose([\n",
    "    transforms.RandomHorizontalFlip(p=0.5),\n",
    "    transforms.ToTensor()])\n",
    "trainset_2 = torchvision.datasets.CIFAR10(root='./data', train=True, transform=transf2)\n",
    "\n",
    "transf3 = transforms.Compose([\n",
    "    transforms.GaussianBlur(kernel_size=5, sigma=(0.1, 0.8)),\n",
    "    transforms.ToTensor()])\n",
    "trainset_3 = torchvision.datasets.CIFAR10(root='./data', train=True, transform=transf3)\n",
    "\n",
    "transf4 = transforms.Compose([\n",
    "    transforms.ColorJitter(brightness=0.2, contrast=0.2, saturation=0.2, hue=0.1),\n",
    "    transforms.ToTensor()])\n",
    "trainset_4 = torchvision.datasets.CIFAR10(root='./data', train=True, transform=transf4)\n",
    "\n",
    "to_show = 20  # take the first images\n",
    "imgs = torch.stack((*[non_augmented[i][0] for i in range(to_show)],\n",
    "                    *[trainset_1[i][0] for i in range(to_show)],\n",
    "                    *[trainset_2[i][0] for i in range(to_show)],\n",
    "                    *[trainset_3[i][0] for i in range(to_show)],\n",
    "                    *[trainset_4[i][0] for i in range(to_show)]))\n",
    "grid = make_grid(imgs, nrow=to_show)\n",
    "\n",
    "image = transforms.ToPILImage()(grid)\n",
    "image.show()\n",
    "image.save(\"./plots/transforms.png\")"
   ]
  },
  {
   "cell_type": "markdown",
   "id": "8b2cbc61-7224-46ce-8257-5394bc08969f",
   "metadata": {},
   "source": [
    "# Exercise 3"
   ]
  },
  {
   "cell_type": "markdown",
   "id": "464f4659-b6f7-4587-ad7f-780ec75acf8f",
   "metadata": {},
   "source": [
    "Fine-tuning of popular CNNs, use pre-trained as backbone"
   ]
  },
  {
   "cell_type": "code",
   "execution_count": null,
   "id": "47fcfa5e-45ae-4790-b220-99d4ead12e65",
   "metadata": {},
   "outputs": [],
   "source": [
    "import torchvision.models as models"
   ]
  },
  {
   "cell_type": "markdown",
   "id": "e8b5b0bd-5dfa-458e-9e27-cc8d4d890c9d",
   "metadata": {
    "jp-MarkdownHeadingCollapsed": true
   },
   "source": [
    "### My Net"
   ]
  },
  {
   "cell_type": "code",
   "execution_count": null,
   "id": "615609d0-ae96-4be2-b0bf-bc4663fc57dc",
   "metadata": {
    "jupyter": {
     "source_hidden": true
    }
   },
   "outputs": [],
   "source": [
    "class Net(nn.Module):\n",
    "    def __init__(self):\n",
    "        super().__init__()\n",
    "        self.conv1 = nn.Conv2d(3, 6, 5)\n",
    "        self.pool = nn.MaxPool2d(2, 2)\n",
    "        self.conv2 = nn.Conv2d(6, 16, 5)\n",
    "        self.conv3 = nn.Conv2d(16, 32, 3)\n",
    "        self.fc1 = nn.Linear(16 * 5 * 5, 120)\n",
    "        self.fc2 = nn.Linear(120, 84)\n",
    "        self.fc3 = nn.Linear(84, 10)\n",
    "\n",
    "    def forward(self, x):\n",
    "        x = self.pool(F.relu(self.conv1(x)))\n",
    "        x = self.pool(F.relu(self.conv2(x)))\n",
    "        x = torch.flatten(x, 1)  # flatten all dimensions except batch\n",
    "        x = F.relu(self.fc1(x))\n",
    "        x = F.relu(self.fc2(x))\n",
    "        x = self.fc3(x)\n",
    "        return x"
   ]
  },
  {
   "cell_type": "code",
   "execution_count": 9,
   "id": "122fbd3a-8cda-4718-9dee-1a49bbc8652e",
   "metadata": {},
   "outputs": [],
   "source": [
    "notransform = transforms.Compose([transforms.ToTensor(), transforms.Normalize(mean, std)])\n",
    "non_augmented = torchvision.datasets.CIFAR10(root='./data', train=True, transform=notransform)"
   ]
  },
  {
   "cell_type": "code",
   "execution_count": 10,
   "id": "01be3947-f799-4a13-afc5-070877501a59",
   "metadata": {
    "jupyter": {
     "source_hidden": true
    }
   },
   "outputs": [],
   "source": [
    "# con troppe trasformazioni va lento perché le applica online\n",
    "transform = transforms.Compose([\n",
    "    # geometric transforms\n",
    "    # transforms.RandomRotation(degrees=20),  # rotates the image randomly within a range of -20 to 20 degrees\n",
    "    # transforms.RandomAffine(degrees=15, translate=(0.1, 0.1), scale=(0.8, 1.2), shear=10),\n",
    "    transforms.RandomHorizontalFlip(p=0.5),  # flips the image horizontally with a 50% probability\n",
    "    # transforms.RandomResizedCrop(size=(32, 32), scale=(0.8, 1.0)),  # randomly crops between 80% and 100% of the original image and resizes to 32x32\n",
    "    # color transforms\n",
    "    transforms.ColorJitter(brightness=0.2, contrast=0.2, saturation=0.2, hue=0.1),  # randomly changes the brightness, contrast, saturation, and hue of the image\n",
    "    # transforms.RandomGrayscale(p=0.1),  # converts the image to grayscale with a 10% probability\n",
    "    # noise injection\n",
    "    # transforms.GaussianBlur(kernel_size=5, sigma=(0.1, 0.8)),  # applies a Gaussian blur with a specified range for sigma\n",
    "    # normalization\n",
    "    #transforms.RandomErasing(p=0.5, scale=(0.02, 0.33), ratio=(0.3, 3.3)),  # randomly selects a rectangle region in an image and erases its pixels\n",
    "    transforms.ToTensor(),\n",
    "    # transforms.Resize(224),  # for alexnet\n",
    "    transforms.Normalize(mean, std)])\n",
    "\n",
    "trainset = torchvision.datasets.CIFAR10(root='./data', train=True, transform=transform)"
   ]
  },
  {
   "cell_type": "code",
   "execution_count": 29,
   "id": "cb09b9ae-63c5-487c-8b83-59ea79031154",
   "metadata": {},
   "outputs": [
    {
     "name": "stdout",
     "output_type": "stream",
     "text": [
      "Files already downloaded and verified\n"
     ]
    }
   ],
   "source": [
    "transform = transforms.Compose(\n",
    "    [transforms.ToTensor(),\n",
    "     #transforms.Resize(224),  # for alexnet\n",
    "     transforms.Normalize(mean, std)])\n",
    "\n",
    "testset = torchvision.datasets.CIFAR10(root='./data', train=False, download=True, transform=transform)\n",
    "\n",
    "testloader = torch.utils.data.DataLoader(testset, batch_size=batch_size, shuffle=False, num_workers=2)"
   ]
  },
  {
   "cell_type": "code",
   "execution_count": 11,
   "id": "274fe2f8-4258-4619-bb4b-afb4f03d7aa2",
   "metadata": {},
   "outputs": [],
   "source": [
    "trainloader = torch.utils.data.DataLoader(trainset, batch_size=batch_size, shuffle=True, num_workers=2)\n",
    "testloader = torch.utils.data.DataLoader(testset, batch_size=batch_size, shuffle=False, num_workers=2)"
   ]
  },
  {
   "cell_type": "code",
   "execution_count": 20,
   "id": "620e70a6-26f7-48fa-825e-ae0348def43c",
   "metadata": {
    "collapsed": true,
    "jupyter": {
     "outputs_hidden": true,
     "source_hidden": true
    },
    "scrolled": true
   },
   "outputs": [
    {
     "name": "stdout",
     "output_type": "stream",
     "text": [
      "Epoch: 0, Loss: 2.2560, Accuracy: 0.15, Runtime: 13.69\n",
      "Epoch: 1, Loss: 1.9195, Accuracy: 0.31, Runtime: 13.73\n",
      "Epoch: 2, Loss: 1.6988, Accuracy: 0.39, Runtime: 13.91\n",
      "Epoch: 3, Loss: 1.5789, Accuracy: 0.44, Runtime: 13.71\n",
      "Epoch: 4, Loss: 1.5040, Accuracy: 0.46, Runtime: 13.76\n",
      "Epoch: 5, Loss: 1.4401, Accuracy: 0.49, Runtime: 13.66\n",
      "Epoch: 6, Loss: 1.3854, Accuracy: 0.51, Runtime: 13.72\n",
      "Epoch: 7, Loss: 1.3348, Accuracy: 0.53, Runtime: 13.64\n",
      "Epoch: 8, Loss: 1.2886, Accuracy: 0.55, Runtime: 13.61\n",
      "Epoch: 9, Loss: 1.2479, Accuracy: 0.56, Runtime: 13.58\n",
      "Epoch: 10, Loss: 1.2126, Accuracy: 0.58, Runtime: 13.71\n",
      "Epoch: 11, Loss: 1.1827, Accuracy: 0.59, Runtime: 13.62\n",
      "Epoch: 12, Loss: 1.1538, Accuracy: 0.60, Runtime: 13.63\n",
      "Epoch: 13, Loss: 1.1251, Accuracy: 0.61, Runtime: 13.63\n",
      "Epoch: 14, Loss: 1.1103, Accuracy: 0.61, Runtime: 13.63\n",
      "Epoch: 15, Loss: 1.0878, Accuracy: 0.62, Runtime: 13.57\n",
      "Epoch: 16, Loss: 1.0643, Accuracy: 0.63, Runtime: 13.61\n",
      "Epoch: 17, Loss: 1.0469, Accuracy: 0.64, Runtime: 13.62\n",
      "Epoch: 18, Loss: 1.0297, Accuracy: 0.64, Runtime: 13.64\n",
      "Epoch: 19, Loss: 1.0160, Accuracy: 0.65, Runtime: 13.67\n",
      "Runtime: 273.35 seconds\n",
      "Accuracy for class: plane is 27.0 %\n",
      "Accuracy for class: car   is 0.0 %\n",
      "Accuracy for class: bird  is 96.3 %\n",
      "Accuracy for class: cat   is 1.4 %\n",
      "Accuracy for class: deer  is 21.2 %\n",
      "Accuracy for class: dog   is 4.1 %\n",
      "Accuracy for class: frog  is 2.1 %\n",
      "Accuracy for class: horse is 1.0 %\n",
      "Accuracy for class: ship  is 57.4 %\n",
      "Accuracy for class: truck is 0.0 %\n"
     ]
    }
   ],
   "source": [
    "model = Net()\n",
    "model.to(device)\n",
    "\n",
    "criterion = nn.CrossEntropyLoss()\n",
    "optimizer = optim.SGD(model.parameters(), lr=0.001, momentum=0.9)\n",
    "\n",
    "losses, accs = [], []\n",
    "_start = time.time()\n",
    "_epoch_time = time.time()\n",
    "for epoch in range(20):\n",
    "    loss_k, acc_k = train(model, device, criterion, optimizer, trainloader)\n",
    "    losses.append(loss_k)\n",
    "    accs.append(acc_k)\n",
    "    print(f\"Epoch: {epoch}, Loss: {loss_k:.4f}, Accuracy: {acc_k:.2f}, Runtime: {(time.time() - _epoch_time):.2f}\")\n",
    "    _epoch_time = time.time()\n",
    "print(f\"Runtime: {(time.time() - _start):.2f} seconds\")\n",
    "# torch.save(model.state_dict(), 'net_augmented1.pth')\n",
    "\n",
    "# es1_loss_acc[\"SGD\"] = [losses, accs]\n",
    "\n",
    "test_class(model, device, criterion, testloader)"
   ]
  },
  {
   "cell_type": "markdown",
   "id": "855c47e5-53c0-4a39-83b8-c972594ee37e",
   "metadata": {},
   "source": [
    "### Train AlexNet"
   ]
  },
  {
   "cell_type": "code",
   "execution_count": 9,
   "id": "f3ee8584-2600-4b0f-bf06-83f65cfea140",
   "metadata": {},
   "outputs": [
    {
     "name": "stdout",
     "output_type": "stream",
     "text": [
      "Files already downloaded and verified\n",
      "Files already downloaded and verified\n"
     ]
    }
   ],
   "source": [
    "transform2 = transforms.Compose([\n",
    "    transforms.ToTensor(),\n",
    "    transforms.Resize(224),\n",
    "    transforms.Normalize(mean, std)])\n",
    "\n",
    "trainset = torchvision.datasets.CIFAR10(root='./data', train=True, download=True, transform=transform2)\n",
    "testset = torchvision.datasets.CIFAR10(root='./data', train=False, download=True, transform=transform2)\n",
    "\n",
    "trainloader = torch.utils.data.DataLoader(trainset, batch_size=batch_size, shuffle=True, num_workers=2)\n",
    "testloader = torch.utils.data.DataLoader(testset, batch_size=batch_size, shuffle=False, num_workers=2)"
   ]
  },
  {
   "cell_type": "code",
   "execution_count": 10,
   "id": "1ca126f7-cb49-4176-ad41-7766aec437b6",
   "metadata": {
    "collapsed": true,
    "jupyter": {
     "outputs_hidden": true
    },
    "scrolled": true
   },
   "outputs": [
    {
     "name": "stdout",
     "output_type": "stream",
     "text": [
      "=================================================================\n",
      "Layer (type:depth-idx)                   Param #\n",
      "=================================================================\n",
      "AlexNet                                  --\n",
      "├─Sequential: 1-1                        --\n",
      "│    └─Conv2d: 2-1                       23,296\n",
      "│    └─ReLU: 2-2                         --\n",
      "│    └─MaxPool2d: 2-3                    --\n",
      "│    └─Conv2d: 2-4                       307,392\n",
      "│    └─ReLU: 2-5                         --\n",
      "│    └─MaxPool2d: 2-6                    --\n",
      "│    └─Conv2d: 2-7                       663,936\n",
      "│    └─ReLU: 2-8                         --\n",
      "│    └─Conv2d: 2-9                       884,992\n",
      "│    └─ReLU: 2-10                        --\n",
      "│    └─Conv2d: 2-11                      590,080\n",
      "│    └─ReLU: 2-12                        --\n",
      "│    └─MaxPool2d: 2-13                   --\n",
      "├─AdaptiveAvgPool2d: 1-2                 --\n",
      "├─Sequential: 1-3                        --\n",
      "│    └─Dropout: 2-14                     --\n",
      "│    └─Linear: 2-15                      37,752,832\n",
      "│    └─ReLU: 2-16                        --\n",
      "│    └─Dropout: 2-17                     --\n",
      "│    └─Linear: 2-18                      16,781,312\n",
      "│    └─ReLU: 2-19                        --\n",
      "│    └─Linear: 2-20                      40,970\n",
      "=================================================================\n",
      "Total params: 57,044,810\n",
      "Trainable params: 57,044,810\n",
      "Non-trainable params: 0\n",
      "=================================================================\n"
     ]
    }
   ],
   "source": [
    "alexnet = models.alexnet(weights=\"DEFAULT\")\n",
    "alexnet.classifier[6] = nn.Linear(alexnet.classifier[6].in_features, 10)\n",
    "alexnet.to(device)\n",
    "\n",
    "# print(f\"Trainable parameters: {count_trainable_parameters(alexnet)}\")\n",
    "print(summary(alexnet))"
   ]
  },
  {
   "cell_type": "code",
   "execution_count": 11,
   "id": "dc76a7a6-af4f-434b-81ae-fbc5fe4234f3",
   "metadata": {
    "collapsed": true,
    "jupyter": {
     "outputs_hidden": true
    },
    "scrolled": true
   },
   "outputs": [
    {
     "name": "stdout",
     "output_type": "stream",
     "text": [
      "=================================================================\n",
      "Layer (type:depth-idx)                   Param #\n",
      "=================================================================\n",
      "AlexNet                                  --\n",
      "├─Sequential: 1-1                        --\n",
      "│    └─Conv2d: 2-1                       (23,296)\n",
      "│    └─ReLU: 2-2                         --\n",
      "│    └─MaxPool2d: 2-3                    --\n",
      "│    └─Conv2d: 2-4                       (307,392)\n",
      "│    └─ReLU: 2-5                         --\n",
      "│    └─MaxPool2d: 2-6                    --\n",
      "│    └─Conv2d: 2-7                       (663,936)\n",
      "│    └─ReLU: 2-8                         --\n",
      "│    └─Conv2d: 2-9                       (884,992)\n",
      "│    └─ReLU: 2-10                        --\n",
      "│    └─Conv2d: 2-11                      (590,080)\n",
      "│    └─ReLU: 2-12                        --\n",
      "│    └─MaxPool2d: 2-13                   --\n",
      "├─AdaptiveAvgPool2d: 1-2                 --\n",
      "├─Sequential: 1-3                        --\n",
      "│    └─Dropout: 2-14                     --\n",
      "│    └─Linear: 2-15                      (37,752,832)\n",
      "│    └─ReLU: 2-16                        --\n",
      "│    └─Dropout: 2-17                     --\n",
      "│    └─Linear: 2-18                      (16,781,312)\n",
      "│    └─ReLU: 2-19                        --\n",
      "│    └─Linear: 2-20                      40,970\n",
      "=================================================================\n",
      "Total params: 57,044,810\n",
      "Trainable params: 40,970\n",
      "Non-trainable params: 57,003,840\n",
      "=================================================================\n"
     ]
    }
   ],
   "source": [
    "# freeze all layers\n",
    "for param in alexnet.parameters():\n",
    "    param.requires_grad = False\n",
    "\n",
    "# let final layer be trainable, that goes into classification head\n",
    "alexnet.classifier[6].weight.requires_grad = True\n",
    "alexnet.classifier[6].bias.requires_grad = True\n",
    "# count_trainable_parameters(alexnet)  # 4096 * 10 + 1 (bias)\n",
    "print(summary(alexnet))"
   ]
  },
  {
   "cell_type": "code",
   "execution_count": 30,
   "id": "26c135a9-a37d-49b9-b50e-623a1a1dffab",
   "metadata": {},
   "outputs": [
    {
     "data": {
      "text/plain": [
       "tensor([[ 0.1415, -1.8886,  1.2051,  0.5140,  0.9456,  0.8066,  0.8011, -0.4020,\n",
       "         -0.7322, -1.3658]], device='cuda:0', grad_fn=<AddmmBackward0>)"
      ]
     },
     "execution_count": 30,
     "metadata": {},
     "output_type": "execute_result"
    }
   ],
   "source": [
    "alexnet(torch.randn(1, 3, 224, 224).to(device))"
   ]
  },
  {
   "cell_type": "code",
   "execution_count": 14,
   "id": "d11368fc-1359-48f5-bc75-e2d8a79bcb49",
   "metadata": {},
   "outputs": [],
   "source": [
    "from torch.optim.lr_scheduler import ExponentialLR"
   ]
  },
  {
   "cell_type": "code",
   "execution_count": 15,
   "id": "43d27287-2880-4268-8311-c1df26702880",
   "metadata": {
    "collapsed": true,
    "jupyter": {
     "outputs_hidden": true
    },
    "scrolled": true
   },
   "outputs": [
    {
     "name": "stdout",
     "output_type": "stream",
     "text": [
      "Epoch: 1, Learning rate: 0.100000\n",
      "Training - Loss: 18.2388, Accuracy: 0.67, Runtime: 33.01\n",
      "Test - Loss: 15.9258, Accuracy: 0.72\n",
      "Epoch: 2, Learning rate: 0.080000\n",
      "Training - Loss: 13.8824, Accuracy: 0.72, Runtime: 32.83\n",
      "Test - Loss: 10.2712, Accuracy: 0.75\n",
      "Epoch: 3, Learning rate: 0.064000\n",
      "Training - Loss: 11.6101, Accuracy: 0.73, Runtime: 39.35\n",
      "Test - Loss: 7.9852, Accuracy: 0.78\n",
      "Epoch: 4, Learning rate: 0.051200\n",
      "Training - Loss: 9.1842, Accuracy: 0.75, Runtime: 44.13\n",
      "Test - Loss: 8.4048, Accuracy: 0.76\n",
      "Epoch: 5, Learning rate: 0.040960\n",
      "Training - Loss: 7.5871, Accuracy: 0.75, Runtime: 37.65\n",
      "Test - Loss: 5.5323, Accuracy: 0.80\n",
      "Epoch: 6, Learning rate: 0.032768\n",
      "Training - Loss: 6.4290, Accuracy: 0.76, Runtime: 37.30\n",
      "Test - Loss: 5.2637, Accuracy: 0.79\n",
      "Epoch: 7, Learning rate: 0.026214\n",
      "Training - Loss: 5.3492, Accuracy: 0.77, Runtime: 37.39\n",
      "Test - Loss: 4.0667, Accuracy: 0.80\n",
      "Epoch: 8, Learning rate: 0.020972\n",
      "Training - Loss: 4.6541, Accuracy: 0.78, Runtime: 36.99\n",
      "Test - Loss: 4.1000, Accuracy: 0.79\n",
      "Epoch: 9, Learning rate: 0.016777\n",
      "Training - Loss: 4.1888, Accuracy: 0.78, Runtime: 37.90\n",
      "Test - Loss: 3.3643, Accuracy: 0.81\n",
      "Epoch: 10, Learning rate: 0.013422\n",
      "Training - Loss: 3.7014, Accuracy: 0.79, Runtime: 37.14\n",
      "Test - Loss: 3.3771, Accuracy: 0.80\n",
      "Done! - Runtime: 489.39 seconds\n",
      "=========\n",
      "Accuracy for class: plane is 78.8 %\n",
      "Accuracy for class: car   is 89.8 %\n",
      "Accuracy for class: bird  is 58.8 %\n",
      "Accuracy for class: cat   is 58.1 %\n",
      "Accuracy for class: deer  is 80.4 %\n",
      "Accuracy for class: dog   is 75.2 %\n",
      "Accuracy for class: frog  is 87.9 %\n",
      "Accuracy for class: horse is 90.7 %\n",
      "Accuracy for class: ship  is 92.6 %\n",
      "Accuracy for class: truck is 89.1 %\n"
     ]
    }
   ],
   "source": [
    "# alexnet_dict = dict(model=alexnet, criterion=criterion, device=device, lr=0.001, momentum=0.9,\n",
    "#                     max_epochs=6, do_test=True)\n",
    "# stats = train_loop(trainloader, testloader, **alexnet_dict)\n",
    "\n",
    "optimizer = optim.SGD(alexnet.parameters(), lr=0.1, momentum=0.9)\n",
    "scheduler = ExponentialLR(optimizer, 0.8)\n",
    "\n",
    "stats = train_loop_sched(trainloader, testloader, alexnet, criterion,\n",
    "                         device, optimizer, scheduler, 10)\n",
    "\n",
    "print(\"=========\")\n",
    "test_class(alexnet, device, criterion, testloader, classes)"
   ]
  },
  {
   "cell_type": "markdown",
   "id": "00a750ab-47f0-43b6-ad27-3ae423d983d1",
   "metadata": {},
   "source": [
    "### Train VGG16"
   ]
  },
  {
   "cell_type": "code",
   "execution_count": 17,
   "id": "ea301240-d793-4170-bcca-95334dd19bf2",
   "metadata": {
    "collapsed": true,
    "jupyter": {
     "outputs_hidden": true
    },
    "scrolled": true
   },
   "outputs": [
    {
     "name": "stdout",
     "output_type": "stream",
     "text": [
      "=================================================================\n",
      "Layer (type:depth-idx)                   Param #\n",
      "=================================================================\n",
      "VGG                                      --\n",
      "├─Sequential: 1-1                        --\n",
      "│    └─Conv2d: 2-1                       1,792\n",
      "│    └─ReLU: 2-2                         --\n",
      "│    └─Conv2d: 2-3                       36,928\n",
      "│    └─ReLU: 2-4                         --\n",
      "│    └─MaxPool2d: 2-5                    --\n",
      "│    └─Conv2d: 2-6                       73,856\n",
      "│    └─ReLU: 2-7                         --\n",
      "│    └─Conv2d: 2-8                       147,584\n",
      "│    └─ReLU: 2-9                         --\n",
      "│    └─MaxPool2d: 2-10                   --\n",
      "│    └─Conv2d: 2-11                      295,168\n",
      "│    └─ReLU: 2-12                        --\n",
      "│    └─Conv2d: 2-13                      590,080\n",
      "│    └─ReLU: 2-14                        --\n",
      "│    └─Conv2d: 2-15                      590,080\n",
      "│    └─ReLU: 2-16                        --\n",
      "│    └─MaxPool2d: 2-17                   --\n",
      "│    └─Conv2d: 2-18                      1,180,160\n",
      "│    └─ReLU: 2-19                        --\n",
      "│    └─Conv2d: 2-20                      2,359,808\n",
      "│    └─ReLU: 2-21                        --\n",
      "│    └─Conv2d: 2-22                      2,359,808\n",
      "│    └─ReLU: 2-23                        --\n",
      "│    └─MaxPool2d: 2-24                   --\n",
      "│    └─Conv2d: 2-25                      2,359,808\n",
      "│    └─ReLU: 2-26                        --\n",
      "│    └─Conv2d: 2-27                      2,359,808\n",
      "│    └─ReLU: 2-28                        --\n",
      "│    └─Conv2d: 2-29                      2,359,808\n",
      "│    └─ReLU: 2-30                        --\n",
      "│    └─MaxPool2d: 2-31                   --\n",
      "├─AdaptiveAvgPool2d: 1-2                 --\n",
      "├─Sequential: 1-3                        --\n",
      "│    └─Linear: 2-32                      102,764,544\n",
      "│    └─ReLU: 2-33                        --\n",
      "│    └─Dropout: 2-34                     --\n",
      "│    └─Linear: 2-35                      16,781,312\n",
      "│    └─ReLU: 2-36                        --\n",
      "│    └─Dropout: 2-37                     --\n",
      "│    └─Linear: 2-38                      40,970\n",
      "=================================================================\n",
      "Total params: 134,301,514\n",
      "Trainable params: 134,301,514\n",
      "Non-trainable params: 0\n",
      "=================================================================\n"
     ]
    }
   ],
   "source": [
    "vgg16 = models.vgg16(weights=\"DEFAULT\")\n",
    "vgg16.classifier[6] = nn.Linear(vgg16.classifier[6].in_features, 10)\n",
    "vgg16.to(device)\n",
    "\n",
    "print(vgg16)\n",
    "print(summary(vgg16))"
   ]
  },
  {
   "cell_type": "code",
   "execution_count": 19,
   "id": "b4f9846b-441b-4d69-ad73-fe9263597993",
   "metadata": {},
   "outputs": [
    {
     "name": "stdout",
     "output_type": "stream",
     "text": [
      "40970\n"
     ]
    }
   ],
   "source": [
    "# freeze all layers\n",
    "for param in vgg16.parameters():\n",
    "    param.requires_grad = False\n",
    "\n",
    "# let final layer be trainable, that goes into classification head\n",
    "vgg16.classifier[6].weight.requires_grad = True\n",
    "vgg16.classifier[6].bias.requires_grad = True\n",
    "\n",
    "print(count_trainable_parameters(vgg16))  # 4096 * 10 + 1 (bias)\n",
    "# print(summary(vgg16))"
   ]
  },
  {
   "cell_type": "code",
   "execution_count": 20,
   "id": "a8ef74eb-a536-4a3b-b298-6ca5991324eb",
   "metadata": {
    "collapsed": true,
    "jupyter": {
     "outputs_hidden": true
    }
   },
   "outputs": [
    {
     "ename": "KeyboardInterrupt",
     "evalue": "",
     "output_type": "error",
     "traceback": [
      "\u001b[1;31m---------------------------------------------------------------------------\u001b[0m",
      "\u001b[1;31mKeyboardInterrupt\u001b[0m                         Traceback (most recent call last)",
      "Cell \u001b[1;32mIn[20], line 4\u001b[0m\n\u001b[0;32m      1\u001b[0m optimizer \u001b[38;5;241m=\u001b[39m optim\u001b[38;5;241m.\u001b[39mSGD(vgg16\u001b[38;5;241m.\u001b[39mparameters(), lr\u001b[38;5;241m=\u001b[39m\u001b[38;5;241m0.1\u001b[39m, momentum\u001b[38;5;241m=\u001b[39m\u001b[38;5;241m0.9\u001b[39m)\n\u001b[0;32m      2\u001b[0m scheduler \u001b[38;5;241m=\u001b[39m ExponentialLR(optimizer, \u001b[38;5;241m0.8\u001b[39m)\n\u001b[1;32m----> 4\u001b[0m stats \u001b[38;5;241m=\u001b[39m \u001b[43mtrain_loop_sched\u001b[49m\u001b[43m(\u001b[49m\u001b[43mtrainloader\u001b[49m\u001b[43m,\u001b[49m\u001b[43m \u001b[49m\u001b[43mtestloader\u001b[49m\u001b[43m,\u001b[49m\u001b[43m \u001b[49m\u001b[43mvgg16\u001b[49m\u001b[43m,\u001b[49m\u001b[43m \u001b[49m\u001b[43mcriterion\u001b[49m\u001b[43m,\u001b[49m\n\u001b[0;32m      5\u001b[0m \u001b[43m                         \u001b[49m\u001b[43mdevice\u001b[49m\u001b[43m,\u001b[49m\u001b[43m \u001b[49m\u001b[43moptimizer\u001b[49m\u001b[43m,\u001b[49m\u001b[43m \u001b[49m\u001b[43mscheduler\u001b[49m\u001b[43m,\u001b[49m\u001b[43m \u001b[49m\u001b[38;5;241;43m10\u001b[39;49m\u001b[43m)\u001b[49m\n\u001b[0;32m      7\u001b[0m \u001b[38;5;28mprint\u001b[39m(\u001b[38;5;124m\"\u001b[39m\u001b[38;5;124m=========\u001b[39m\u001b[38;5;124m\"\u001b[39m)\n\u001b[0;32m      8\u001b[0m test_class(vgg16, device, criterion, testloader, classes)\n",
      "File \u001b[1;32m~\\Documents\\Python Projects\\Comp-Viz\\Lab1\\lab1_utils.py:133\u001b[0m, in \u001b[0;36mtrain_loop_sched\u001b[1;34m(train_loader, test_loader, model, criterion, device, optimizer, scheduler, max_epochs, do_test)\u001b[0m\n\u001b[0;32m    130\u001b[0m \u001b[38;5;66;03m# epoch number only for logging\u001b[39;00m\n\u001b[0;32m    131\u001b[0m \u001b[38;5;28;01mfor\u001b[39;00m epoch \u001b[38;5;129;01min\u001b[39;00m \u001b[38;5;28mrange\u001b[39m(\u001b[38;5;241m1\u001b[39m, max_epochs \u001b[38;5;241m+\u001b[39m \u001b[38;5;241m1\u001b[39m):\n\u001b[0;32m    132\u001b[0m     \u001b[38;5;66;03m## Training\u001b[39;00m\n\u001b[1;32m--> 133\u001b[0m     loss_train, acc_train \u001b[38;5;241m=\u001b[39m \u001b[43mtrain\u001b[49m\u001b[43m(\u001b[49m\u001b[43mmodel\u001b[49m\u001b[43m,\u001b[49m\u001b[43m \u001b[49m\u001b[43mdevice\u001b[49m\u001b[43m,\u001b[49m\u001b[43m \u001b[49m\u001b[43mtrain_loader\u001b[49m\u001b[43m,\u001b[49m\u001b[43m \u001b[49m\u001b[43mcriterion\u001b[49m\u001b[43m,\u001b[49m\u001b[43m \u001b[49m\u001b[43moptimizer\u001b[49m\u001b[43m)\u001b[49m\n\u001b[0;32m    134\u001b[0m     \u001b[38;5;28mprint\u001b[39m(\u001b[38;5;124mf\u001b[39m\u001b[38;5;124m\"\u001b[39m\u001b[38;5;124mEpoch: \u001b[39m\u001b[38;5;132;01m{\u001b[39;00mepoch\u001b[38;5;132;01m}\u001b[39;00m\u001b[38;5;124m, Learning rate: \u001b[39m\u001b[38;5;132;01m{\u001b[39;00mget_lr(optimizer)\u001b[38;5;132;01m:\u001b[39;00m\u001b[38;5;124m.6f\u001b[39m\u001b[38;5;132;01m}\u001b[39;00m\u001b[38;5;124m\"\u001b[39m)\n\u001b[0;32m    135\u001b[0m     \u001b[38;5;28mprint\u001b[39m(\u001b[38;5;124mf\u001b[39m\u001b[38;5;124m\"\u001b[39m\u001b[38;5;124mTraining - Loss: \u001b[39m\u001b[38;5;132;01m{\u001b[39;00mloss_train\u001b[38;5;132;01m:\u001b[39;00m\u001b[38;5;124m.4f\u001b[39m\u001b[38;5;132;01m}\u001b[39;00m\u001b[38;5;124m, Accuracy: \u001b[39m\u001b[38;5;132;01m{\u001b[39;00macc_train\u001b[38;5;132;01m:\u001b[39;00m\u001b[38;5;124m.2f\u001b[39m\u001b[38;5;132;01m}\u001b[39;00m\u001b[38;5;124m, Runtime: \u001b[39m\u001b[38;5;132;01m{\u001b[39;00m(time\u001b[38;5;241m.\u001b[39mtime()\u001b[38;5;250m \u001b[39m\u001b[38;5;241m-\u001b[39m\u001b[38;5;250m \u001b[39m_epoch_time)\u001b[38;5;132;01m:\u001b[39;00m\u001b[38;5;124m.2f\u001b[39m\u001b[38;5;132;01m}\u001b[39;00m\u001b[38;5;124m\"\u001b[39m)\n",
      "File \u001b[1;32m~\\Documents\\Python Projects\\Comp-Viz\\Lab1\\lab1_utils.py:43\u001b[0m, in \u001b[0;36mtrain\u001b[1;34m(model, device, train_loader, criterion, optimizer)\u001b[0m\n\u001b[0;32m     40\u001b[0m     correct \u001b[38;5;241m=\u001b[39m torch\u001b[38;5;241m.\u001b[39meq(pred, target\u001b[38;5;241m.\u001b[39mview_as(pred))\u001b[38;5;241m.\u001b[39mfloat()\n\u001b[0;32m     41\u001b[0m     acc \u001b[38;5;241m=\u001b[39m torch\u001b[38;5;241m.\u001b[39mmean(correct)\n\u001b[1;32m---> 43\u001b[0m     losses\u001b[38;5;241m.\u001b[39mappend(\u001b[43mloss\u001b[49m\u001b[38;5;241;43m.\u001b[39;49m\u001b[43mdetach\u001b[49m\u001b[43m(\u001b[49m\u001b[43m)\u001b[49m\u001b[38;5;241;43m.\u001b[39;49m\u001b[43mcpu\u001b[49m\u001b[43m(\u001b[49m\u001b[43m)\u001b[49m\u001b[38;5;241m.\u001b[39mnumpy())\n\u001b[0;32m     44\u001b[0m     accs\u001b[38;5;241m.\u001b[39mappend(acc\u001b[38;5;241m.\u001b[39mdetach()\u001b[38;5;241m.\u001b[39mcpu()\u001b[38;5;241m.\u001b[39mnumpy())\n\u001b[0;32m     46\u001b[0m loss_k \u001b[38;5;241m=\u001b[39m np\u001b[38;5;241m.\u001b[39marray(losses)\u001b[38;5;241m.\u001b[39mmean()\n",
      "\u001b[1;31mKeyboardInterrupt\u001b[0m: "
     ]
    }
   ],
   "source": [
    "optimizer = optim.SGD(vgg16.parameters(), lr=0.1, momentum=0.9)\n",
    "scheduler = ExponentialLR(optimizer, 0.8)\n",
    "\n",
    "stats = train_loop_sched(trainloader, testloader, vgg16, criterion,\n",
    "                         device, optimizer, scheduler, 10)\n",
    "\n",
    "print(\"=========\")\n",
    "test_class(vgg16, device, criterion, testloader, classes)"
   ]
  },
  {
   "cell_type": "markdown",
   "id": "412f5f26-b7be-46a9-a9ef-d71251aabeed",
   "metadata": {},
   "source": [
    "## Train `ResNet18`"
   ]
  },
  {
   "cell_type": "code",
   "execution_count": 16,
   "id": "3138424c-7efa-43c5-be24-c10ad3601f8a",
   "metadata": {
    "collapsed": true,
    "jupyter": {
     "outputs_hidden": true
    },
    "scrolled": true
   },
   "outputs": [
    {
     "name": "stdout",
     "output_type": "stream",
     "text": [
      "ResNet(\n",
      "  (conv1): Conv2d(3, 64, kernel_size=(7, 7), stride=(2, 2), padding=(3, 3), bias=False)\n",
      "  (bn1): BatchNorm2d(64, eps=1e-05, momentum=0.1, affine=True, track_running_stats=True)\n",
      "  (relu): ReLU(inplace=True)\n",
      "  (maxpool): MaxPool2d(kernel_size=3, stride=2, padding=1, dilation=1, ceil_mode=False)\n",
      "  (layer1): Sequential(\n",
      "    (0): BasicBlock(\n",
      "      (conv1): Conv2d(64, 64, kernel_size=(3, 3), stride=(1, 1), padding=(1, 1), bias=False)\n",
      "      (bn1): BatchNorm2d(64, eps=1e-05, momentum=0.1, affine=True, track_running_stats=True)\n",
      "      (relu): ReLU(inplace=True)\n",
      "      (conv2): Conv2d(64, 64, kernel_size=(3, 3), stride=(1, 1), padding=(1, 1), bias=False)\n",
      "      (bn2): BatchNorm2d(64, eps=1e-05, momentum=0.1, affine=True, track_running_stats=True)\n",
      "    )\n",
      "    (1): BasicBlock(\n",
      "      (conv1): Conv2d(64, 64, kernel_size=(3, 3), stride=(1, 1), padding=(1, 1), bias=False)\n",
      "      (bn1): BatchNorm2d(64, eps=1e-05, momentum=0.1, affine=True, track_running_stats=True)\n",
      "      (relu): ReLU(inplace=True)\n",
      "      (conv2): Conv2d(64, 64, kernel_size=(3, 3), stride=(1, 1), padding=(1, 1), bias=False)\n",
      "      (bn2): BatchNorm2d(64, eps=1e-05, momentum=0.1, affine=True, track_running_stats=True)\n",
      "    )\n",
      "  )\n",
      "  (layer2): Sequential(\n",
      "    (0): BasicBlock(\n",
      "      (conv1): Conv2d(64, 128, kernel_size=(3, 3), stride=(2, 2), padding=(1, 1), bias=False)\n",
      "      (bn1): BatchNorm2d(128, eps=1e-05, momentum=0.1, affine=True, track_running_stats=True)\n",
      "      (relu): ReLU(inplace=True)\n",
      "      (conv2): Conv2d(128, 128, kernel_size=(3, 3), stride=(1, 1), padding=(1, 1), bias=False)\n",
      "      (bn2): BatchNorm2d(128, eps=1e-05, momentum=0.1, affine=True, track_running_stats=True)\n",
      "      (downsample): Sequential(\n",
      "        (0): Conv2d(64, 128, kernel_size=(1, 1), stride=(2, 2), bias=False)\n",
      "        (1): BatchNorm2d(128, eps=1e-05, momentum=0.1, affine=True, track_running_stats=True)\n",
      "      )\n",
      "    )\n",
      "    (1): BasicBlock(\n",
      "      (conv1): Conv2d(128, 128, kernel_size=(3, 3), stride=(1, 1), padding=(1, 1), bias=False)\n",
      "      (bn1): BatchNorm2d(128, eps=1e-05, momentum=0.1, affine=True, track_running_stats=True)\n",
      "      (relu): ReLU(inplace=True)\n",
      "      (conv2): Conv2d(128, 128, kernel_size=(3, 3), stride=(1, 1), padding=(1, 1), bias=False)\n",
      "      (bn2): BatchNorm2d(128, eps=1e-05, momentum=0.1, affine=True, track_running_stats=True)\n",
      "    )\n",
      "  )\n",
      "  (layer3): Sequential(\n",
      "    (0): BasicBlock(\n",
      "      (conv1): Conv2d(128, 256, kernel_size=(3, 3), stride=(2, 2), padding=(1, 1), bias=False)\n",
      "      (bn1): BatchNorm2d(256, eps=1e-05, momentum=0.1, affine=True, track_running_stats=True)\n",
      "      (relu): ReLU(inplace=True)\n",
      "      (conv2): Conv2d(256, 256, kernel_size=(3, 3), stride=(1, 1), padding=(1, 1), bias=False)\n",
      "      (bn2): BatchNorm2d(256, eps=1e-05, momentum=0.1, affine=True, track_running_stats=True)\n",
      "      (downsample): Sequential(\n",
      "        (0): Conv2d(128, 256, kernel_size=(1, 1), stride=(2, 2), bias=False)\n",
      "        (1): BatchNorm2d(256, eps=1e-05, momentum=0.1, affine=True, track_running_stats=True)\n",
      "      )\n",
      "    )\n",
      "    (1): BasicBlock(\n",
      "      (conv1): Conv2d(256, 256, kernel_size=(3, 3), stride=(1, 1), padding=(1, 1), bias=False)\n",
      "      (bn1): BatchNorm2d(256, eps=1e-05, momentum=0.1, affine=True, track_running_stats=True)\n",
      "      (relu): ReLU(inplace=True)\n",
      "      (conv2): Conv2d(256, 256, kernel_size=(3, 3), stride=(1, 1), padding=(1, 1), bias=False)\n",
      "      (bn2): BatchNorm2d(256, eps=1e-05, momentum=0.1, affine=True, track_running_stats=True)\n",
      "    )\n",
      "  )\n",
      "  (layer4): Sequential(\n",
      "    (0): BasicBlock(\n",
      "      (conv1): Conv2d(256, 512, kernel_size=(3, 3), stride=(2, 2), padding=(1, 1), bias=False)\n",
      "      (bn1): BatchNorm2d(512, eps=1e-05, momentum=0.1, affine=True, track_running_stats=True)\n",
      "      (relu): ReLU(inplace=True)\n",
      "      (conv2): Conv2d(512, 512, kernel_size=(3, 3), stride=(1, 1), padding=(1, 1), bias=False)\n",
      "      (bn2): BatchNorm2d(512, eps=1e-05, momentum=0.1, affine=True, track_running_stats=True)\n",
      "      (downsample): Sequential(\n",
      "        (0): Conv2d(256, 512, kernel_size=(1, 1), stride=(2, 2), bias=False)\n",
      "        (1): BatchNorm2d(512, eps=1e-05, momentum=0.1, affine=True, track_running_stats=True)\n",
      "      )\n",
      "    )\n",
      "    (1): BasicBlock(\n",
      "      (conv1): Conv2d(512, 512, kernel_size=(3, 3), stride=(1, 1), padding=(1, 1), bias=False)\n",
      "      (bn1): BatchNorm2d(512, eps=1e-05, momentum=0.1, affine=True, track_running_stats=True)\n",
      "      (relu): ReLU(inplace=True)\n",
      "      (conv2): Conv2d(512, 512, kernel_size=(3, 3), stride=(1, 1), padding=(1, 1), bias=False)\n",
      "      (bn2): BatchNorm2d(512, eps=1e-05, momentum=0.1, affine=True, track_running_stats=True)\n",
      "    )\n",
      "  )\n",
      "  (avgpool): AdaptiveAvgPool2d(output_size=(1, 1))\n",
      "  (fc): Linear(in_features=512, out_features=1000, bias=True)\n",
      ")\n",
      "=================================================================\n",
      "Layer (type:depth-idx)                   Param #\n",
      "=================================================================\n",
      "ResNet                                   --\n",
      "├─Conv2d: 1-1                            9,408\n",
      "├─BatchNorm2d: 1-2                       128\n",
      "├─ReLU: 1-3                              --\n",
      "├─MaxPool2d: 1-4                         --\n",
      "├─Sequential: 1-5                        --\n",
      "│    └─BasicBlock: 2-1                   --\n",
      "│    │    └─Conv2d: 3-1                  36,864\n",
      "│    │    └─BatchNorm2d: 3-2             128\n",
      "│    │    └─ReLU: 3-3                    --\n",
      "│    │    └─Conv2d: 3-4                  36,864\n",
      "│    │    └─BatchNorm2d: 3-5             128\n",
      "│    └─BasicBlock: 2-2                   --\n",
      "│    │    └─Conv2d: 3-6                  36,864\n",
      "│    │    └─BatchNorm2d: 3-7             128\n",
      "│    │    └─ReLU: 3-8                    --\n",
      "│    │    └─Conv2d: 3-9                  36,864\n",
      "│    │    └─BatchNorm2d: 3-10            128\n",
      "├─Sequential: 1-6                        --\n",
      "│    └─BasicBlock: 2-3                   --\n",
      "│    │    └─Conv2d: 3-11                 73,728\n",
      "│    │    └─BatchNorm2d: 3-12            256\n",
      "│    │    └─ReLU: 3-13                   --\n",
      "│    │    └─Conv2d: 3-14                 147,456\n",
      "│    │    └─BatchNorm2d: 3-15            256\n",
      "│    │    └─Sequential: 3-16             8,448\n",
      "│    └─BasicBlock: 2-4                   --\n",
      "│    │    └─Conv2d: 3-17                 147,456\n",
      "│    │    └─BatchNorm2d: 3-18            256\n",
      "│    │    └─ReLU: 3-19                   --\n",
      "│    │    └─Conv2d: 3-20                 147,456\n",
      "│    │    └─BatchNorm2d: 3-21            256\n",
      "├─Sequential: 1-7                        --\n",
      "│    └─BasicBlock: 2-5                   --\n",
      "│    │    └─Conv2d: 3-22                 294,912\n",
      "│    │    └─BatchNorm2d: 3-23            512\n",
      "│    │    └─ReLU: 3-24                   --\n",
      "│    │    └─Conv2d: 3-25                 589,824\n",
      "│    │    └─BatchNorm2d: 3-26            512\n",
      "│    │    └─Sequential: 3-27             33,280\n",
      "│    └─BasicBlock: 2-6                   --\n",
      "│    │    └─Conv2d: 3-28                 589,824\n",
      "│    │    └─BatchNorm2d: 3-29            512\n",
      "│    │    └─ReLU: 3-30                   --\n",
      "│    │    └─Conv2d: 3-31                 589,824\n",
      "│    │    └─BatchNorm2d: 3-32            512\n",
      "├─Sequential: 1-8                        --\n",
      "│    └─BasicBlock: 2-7                   --\n",
      "│    │    └─Conv2d: 3-33                 1,179,648\n",
      "│    │    └─BatchNorm2d: 3-34            1,024\n",
      "│    │    └─ReLU: 3-35                   --\n",
      "│    │    └─Conv2d: 3-36                 2,359,296\n",
      "│    │    └─BatchNorm2d: 3-37            1,024\n",
      "│    │    └─Sequential: 3-38             132,096\n",
      "│    └─BasicBlock: 2-8                   --\n",
      "│    │    └─Conv2d: 3-39                 2,359,296\n",
      "│    │    └─BatchNorm2d: 3-40            1,024\n",
      "│    │    └─ReLU: 3-41                   --\n",
      "│    │    └─Conv2d: 3-42                 2,359,296\n",
      "│    │    └─BatchNorm2d: 3-43            1,024\n",
      "├─AdaptiveAvgPool2d: 1-9                 --\n",
      "├─Linear: 1-10                           513,000\n",
      "=================================================================\n",
      "Total params: 11,689,512\n",
      "Trainable params: 11,689,512\n",
      "Non-trainable params: 0\n",
      "=================================================================\n"
     ]
    }
   ],
   "source": [
    "from torchvision import models\n",
    "\n",
    "resnet18 = models.resnet18()\n",
    "\n",
    "print(resnet18)\n",
    "print(summary(resnet18))"
   ]
  },
  {
   "cell_type": "markdown",
   "id": "f95c6b6a-ca27-464f-ba49-876732589459",
   "metadata": {},
   "source": [
    "### Full training"
   ]
  },
  {
   "cell_type": "code",
   "execution_count": 1,
   "id": "3dfb692f-2c01-4a9f-942e-3e11fe3ca33d",
   "metadata": {
    "scrolled": true
   },
   "outputs": [
    {
     "ename": "NameError",
     "evalue": "name 'models' is not defined",
     "output_type": "error",
     "traceback": [
      "\u001b[1;31m---------------------------------------------------------------------------\u001b[0m",
      "\u001b[1;31mNameError\u001b[0m                                 Traceback (most recent call last)",
      "Cell \u001b[1;32mIn[1], line 1\u001b[0m\n\u001b[1;32m----> 1\u001b[0m resnet18 \u001b[38;5;241m=\u001b[39m \u001b[43mmodels\u001b[49m\u001b[38;5;241m.\u001b[39mresnet18(weights\u001b[38;5;241m=\u001b[39m\u001b[38;5;124m\"\u001b[39m\u001b[38;5;124mDEFAULT\u001b[39m\u001b[38;5;124m\"\u001b[39m)\n\u001b[0;32m      2\u001b[0m resnet18\u001b[38;5;241m.\u001b[39mfc \u001b[38;5;241m=\u001b[39m nn\u001b[38;5;241m.\u001b[39mLinear(resnet18\u001b[38;5;241m.\u001b[39mfc\u001b[38;5;241m.\u001b[39min_features, \u001b[38;5;241m10\u001b[39m)\n\u001b[0;32m      3\u001b[0m resnet18 \u001b[38;5;241m=\u001b[39m resnet18\u001b[38;5;241m.\u001b[39mto(device)\n",
      "\u001b[1;31mNameError\u001b[0m: name 'models' is not defined"
     ]
    }
   ],
   "source": [
    "resnet18 = models.resnet18(weights=\"DEFAULT\")\n",
    "resnet18.fc = nn.Linear(resnet18.fc.in_features, 10)\n",
    "resnet18 = resnet18.to(device)\n",
    "\n",
    "# print(summary(resnet18))\n",
    "print(f\"Trainable parameters: {count_trainable_parameters(resnet18)}\")"
   ]
  },
  {
   "cell_type": "code",
   "execution_count": 13,
   "id": "8f89c79b-f004-4700-b3b5-f30a0bc9f755",
   "metadata": {
    "scrolled": true
   },
   "outputs": [
    {
     "name": "stdout",
     "output_type": "stream",
     "text": [
      "Epoch: 1, Learning rate: 0.010000\n",
      "Training - Loss: 0.9975, Accuracy: 0.66, Runtime: 15.25\n",
      "Test - Loss: 0.7429, Accuracy: 0.75\n",
      "Epoch: 2, Learning rate: 0.010000\n",
      "Training - Loss: 0.6387, Accuracy: 0.79, Runtime: 14.98\n",
      "Test - Loss: 0.6175, Accuracy: 0.79\n",
      "Epoch: 3, Learning rate: 0.010000\n",
      "Training - Loss: 0.4890, Accuracy: 0.83, Runtime: 15.03\n",
      "Test - Loss: 0.6112, Accuracy: 0.80\n",
      "Epoch: 4, Learning rate: 0.010000\n",
      "Training - Loss: 0.3793, Accuracy: 0.87, Runtime: 15.15\n",
      "Test - Loss: 0.6395, Accuracy: 0.79\n",
      "Epoch: 5, Learning rate: 0.010000\n",
      "Training - Loss: 0.3033, Accuracy: 0.89, Runtime: 15.18\n",
      "Test - Loss: 0.6306, Accuracy: 0.81\n",
      "Epoch: 6, Learning rate: 0.010000\n",
      "Training - Loss: 0.2534, Accuracy: 0.91, Runtime: 15.44\n",
      "Test - Loss: 0.6315, Accuracy: 0.82\n",
      "Done! - Runtime: 122.18 seconds\n",
      "=========\n",
      "Accuracy for class: plane is 86.6 %\n",
      "Accuracy for class: car   is 89.9 %\n",
      "Accuracy for class: bird  is 72.2 %\n",
      "Accuracy for class: cat   is 60.5 %\n",
      "Accuracy for class: deer  is 81.4 %\n",
      "Accuracy for class: dog   is 78.5 %\n",
      "Accuracy for class: frog  is 91.3 %\n",
      "Accuracy for class: horse is 86.0 %\n",
      "Accuracy for class: ship  is 88.6 %\n",
      "Accuracy for class: truck is 87.6 %\n"
     ]
    }
   ],
   "source": [
    "criterion = nn.CrossEntropyLoss()\n",
    "\n",
    "# resnet18_dict = dict(model=resnet18, criterion=criterion, device=device, lr=0.001, momentum=0.9,\n",
    "#                      max_epochs=6, do_test=True)\n",
    "# stats = train_loop(trainloader, testloader, **resnet18_dict)\n",
    "\n",
    "optimizer = optim.SGD(resnet18.parameters(), lr=0.01, momentum=0.9)\n",
    "stats = train_loop_sched(trainloader, testloader, resnet18, criterion, device,\n",
    "                        optimizer, max_epochs=6)\n",
    "\n",
    "print(\"=========\")\n",
    "test_class(resnet18, device, criterion, testloader, classes)"
   ]
  },
  {
   "cell_type": "markdown",
   "id": "ef873a28-96f5-46c4-b30d-acc1068f8012",
   "metadata": {},
   "source": [
    "## Train `GoogLeNet`"
   ]
  },
  {
   "cell_type": "code",
   "execution_count": 17,
   "id": "0fe5c380-1923-495c-959e-6e49e968e789",
   "metadata": {
    "scrolled": true
   },
   "outputs": [
    {
     "name": "stdout",
     "output_type": "stream",
     "text": [
      "GoogLeNet(\n",
      "  (conv1): BasicConv2d(\n",
      "    (conv): Conv2d(3, 64, kernel_size=(7, 7), stride=(2, 2), padding=(3, 3), bias=False)\n",
      "    (bn): BatchNorm2d(64, eps=0.001, momentum=0.1, affine=True, track_running_stats=True)\n",
      "  )\n",
      "  (maxpool1): MaxPool2d(kernel_size=3, stride=2, padding=0, dilation=1, ceil_mode=True)\n",
      "  (conv2): BasicConv2d(\n",
      "    (conv): Conv2d(64, 64, kernel_size=(1, 1), stride=(1, 1), bias=False)\n",
      "    (bn): BatchNorm2d(64, eps=0.001, momentum=0.1, affine=True, track_running_stats=True)\n",
      "  )\n",
      "  (conv3): BasicConv2d(\n",
      "    (conv): Conv2d(64, 192, kernel_size=(3, 3), stride=(1, 1), padding=(1, 1), bias=False)\n",
      "    (bn): BatchNorm2d(192, eps=0.001, momentum=0.1, affine=True, track_running_stats=True)\n",
      "  )\n",
      "  (maxpool2): MaxPool2d(kernel_size=3, stride=2, padding=0, dilation=1, ceil_mode=True)\n",
      "  (inception3a): Inception(\n",
      "    (branch1): BasicConv2d(\n",
      "      (conv): Conv2d(192, 64, kernel_size=(1, 1), stride=(1, 1), bias=False)\n",
      "      (bn): BatchNorm2d(64, eps=0.001, momentum=0.1, affine=True, track_running_stats=True)\n",
      "    )\n",
      "    (branch2): Sequential(\n",
      "      (0): BasicConv2d(\n",
      "        (conv): Conv2d(192, 96, kernel_size=(1, 1), stride=(1, 1), bias=False)\n",
      "        (bn): BatchNorm2d(96, eps=0.001, momentum=0.1, affine=True, track_running_stats=True)\n",
      "      )\n",
      "      (1): BasicConv2d(\n",
      "        (conv): Conv2d(96, 128, kernel_size=(3, 3), stride=(1, 1), padding=(1, 1), bias=False)\n",
      "        (bn): BatchNorm2d(128, eps=0.001, momentum=0.1, affine=True, track_running_stats=True)\n",
      "      )\n",
      "    )\n",
      "    (branch3): Sequential(\n",
      "      (0): BasicConv2d(\n",
      "        (conv): Conv2d(192, 16, kernel_size=(1, 1), stride=(1, 1), bias=False)\n",
      "        (bn): BatchNorm2d(16, eps=0.001, momentum=0.1, affine=True, track_running_stats=True)\n",
      "      )\n",
      "      (1): BasicConv2d(\n",
      "        (conv): Conv2d(16, 32, kernel_size=(3, 3), stride=(1, 1), padding=(1, 1), bias=False)\n",
      "        (bn): BatchNorm2d(32, eps=0.001, momentum=0.1, affine=True, track_running_stats=True)\n",
      "      )\n",
      "    )\n",
      "    (branch4): Sequential(\n",
      "      (0): MaxPool2d(kernel_size=3, stride=1, padding=1, dilation=1, ceil_mode=True)\n",
      "      (1): BasicConv2d(\n",
      "        (conv): Conv2d(192, 32, kernel_size=(1, 1), stride=(1, 1), bias=False)\n",
      "        (bn): BatchNorm2d(32, eps=0.001, momentum=0.1, affine=True, track_running_stats=True)\n",
      "      )\n",
      "    )\n",
      "  )\n",
      "  (inception3b): Inception(\n",
      "    (branch1): BasicConv2d(\n",
      "      (conv): Conv2d(256, 128, kernel_size=(1, 1), stride=(1, 1), bias=False)\n",
      "      (bn): BatchNorm2d(128, eps=0.001, momentum=0.1, affine=True, track_running_stats=True)\n",
      "    )\n",
      "    (branch2): Sequential(\n",
      "      (0): BasicConv2d(\n",
      "        (conv): Conv2d(256, 128, kernel_size=(1, 1), stride=(1, 1), bias=False)\n",
      "        (bn): BatchNorm2d(128, eps=0.001, momentum=0.1, affine=True, track_running_stats=True)\n",
      "      )\n",
      "      (1): BasicConv2d(\n",
      "        (conv): Conv2d(128, 192, kernel_size=(3, 3), stride=(1, 1), padding=(1, 1), bias=False)\n",
      "        (bn): BatchNorm2d(192, eps=0.001, momentum=0.1, affine=True, track_running_stats=True)\n",
      "      )\n",
      "    )\n",
      "    (branch3): Sequential(\n",
      "      (0): BasicConv2d(\n",
      "        (conv): Conv2d(256, 32, kernel_size=(1, 1), stride=(1, 1), bias=False)\n",
      "        (bn): BatchNorm2d(32, eps=0.001, momentum=0.1, affine=True, track_running_stats=True)\n",
      "      )\n",
      "      (1): BasicConv2d(\n",
      "        (conv): Conv2d(32, 96, kernel_size=(3, 3), stride=(1, 1), padding=(1, 1), bias=False)\n",
      "        (bn): BatchNorm2d(96, eps=0.001, momentum=0.1, affine=True, track_running_stats=True)\n",
      "      )\n",
      "    )\n",
      "    (branch4): Sequential(\n",
      "      (0): MaxPool2d(kernel_size=3, stride=1, padding=1, dilation=1, ceil_mode=True)\n",
      "      (1): BasicConv2d(\n",
      "        (conv): Conv2d(256, 64, kernel_size=(1, 1), stride=(1, 1), bias=False)\n",
      "        (bn): BatchNorm2d(64, eps=0.001, momentum=0.1, affine=True, track_running_stats=True)\n",
      "      )\n",
      "    )\n",
      "  )\n",
      "  (maxpool3): MaxPool2d(kernel_size=3, stride=2, padding=0, dilation=1, ceil_mode=True)\n",
      "  (inception4a): Inception(\n",
      "    (branch1): BasicConv2d(\n",
      "      (conv): Conv2d(480, 192, kernel_size=(1, 1), stride=(1, 1), bias=False)\n",
      "      (bn): BatchNorm2d(192, eps=0.001, momentum=0.1, affine=True, track_running_stats=True)\n",
      "    )\n",
      "    (branch2): Sequential(\n",
      "      (0): BasicConv2d(\n",
      "        (conv): Conv2d(480, 96, kernel_size=(1, 1), stride=(1, 1), bias=False)\n",
      "        (bn): BatchNorm2d(96, eps=0.001, momentum=0.1, affine=True, track_running_stats=True)\n",
      "      )\n",
      "      (1): BasicConv2d(\n",
      "        (conv): Conv2d(96, 208, kernel_size=(3, 3), stride=(1, 1), padding=(1, 1), bias=False)\n",
      "        (bn): BatchNorm2d(208, eps=0.001, momentum=0.1, affine=True, track_running_stats=True)\n",
      "      )\n",
      "    )\n",
      "    (branch3): Sequential(\n",
      "      (0): BasicConv2d(\n",
      "        (conv): Conv2d(480, 16, kernel_size=(1, 1), stride=(1, 1), bias=False)\n",
      "        (bn): BatchNorm2d(16, eps=0.001, momentum=0.1, affine=True, track_running_stats=True)\n",
      "      )\n",
      "      (1): BasicConv2d(\n",
      "        (conv): Conv2d(16, 48, kernel_size=(3, 3), stride=(1, 1), padding=(1, 1), bias=False)\n",
      "        (bn): BatchNorm2d(48, eps=0.001, momentum=0.1, affine=True, track_running_stats=True)\n",
      "      )\n",
      "    )\n",
      "    (branch4): Sequential(\n",
      "      (0): MaxPool2d(kernel_size=3, stride=1, padding=1, dilation=1, ceil_mode=True)\n",
      "      (1): BasicConv2d(\n",
      "        (conv): Conv2d(480, 64, kernel_size=(1, 1), stride=(1, 1), bias=False)\n",
      "        (bn): BatchNorm2d(64, eps=0.001, momentum=0.1, affine=True, track_running_stats=True)\n",
      "      )\n",
      "    )\n",
      "  )\n",
      "  (inception4b): Inception(\n",
      "    (branch1): BasicConv2d(\n",
      "      (conv): Conv2d(512, 160, kernel_size=(1, 1), stride=(1, 1), bias=False)\n",
      "      (bn): BatchNorm2d(160, eps=0.001, momentum=0.1, affine=True, track_running_stats=True)\n",
      "    )\n",
      "    (branch2): Sequential(\n",
      "      (0): BasicConv2d(\n",
      "        (conv): Conv2d(512, 112, kernel_size=(1, 1), stride=(1, 1), bias=False)\n",
      "        (bn): BatchNorm2d(112, eps=0.001, momentum=0.1, affine=True, track_running_stats=True)\n",
      "      )\n",
      "      (1): BasicConv2d(\n",
      "        (conv): Conv2d(112, 224, kernel_size=(3, 3), stride=(1, 1), padding=(1, 1), bias=False)\n",
      "        (bn): BatchNorm2d(224, eps=0.001, momentum=0.1, affine=True, track_running_stats=True)\n",
      "      )\n",
      "    )\n",
      "    (branch3): Sequential(\n",
      "      (0): BasicConv2d(\n",
      "        (conv): Conv2d(512, 24, kernel_size=(1, 1), stride=(1, 1), bias=False)\n",
      "        (bn): BatchNorm2d(24, eps=0.001, momentum=0.1, affine=True, track_running_stats=True)\n",
      "      )\n",
      "      (1): BasicConv2d(\n",
      "        (conv): Conv2d(24, 64, kernel_size=(3, 3), stride=(1, 1), padding=(1, 1), bias=False)\n",
      "        (bn): BatchNorm2d(64, eps=0.001, momentum=0.1, affine=True, track_running_stats=True)\n",
      "      )\n",
      "    )\n",
      "    (branch4): Sequential(\n",
      "      (0): MaxPool2d(kernel_size=3, stride=1, padding=1, dilation=1, ceil_mode=True)\n",
      "      (1): BasicConv2d(\n",
      "        (conv): Conv2d(512, 64, kernel_size=(1, 1), stride=(1, 1), bias=False)\n",
      "        (bn): BatchNorm2d(64, eps=0.001, momentum=0.1, affine=True, track_running_stats=True)\n",
      "      )\n",
      "    )\n",
      "  )\n",
      "  (inception4c): Inception(\n",
      "    (branch1): BasicConv2d(\n",
      "      (conv): Conv2d(512, 128, kernel_size=(1, 1), stride=(1, 1), bias=False)\n",
      "      (bn): BatchNorm2d(128, eps=0.001, momentum=0.1, affine=True, track_running_stats=True)\n",
      "    )\n",
      "    (branch2): Sequential(\n",
      "      (0): BasicConv2d(\n",
      "        (conv): Conv2d(512, 128, kernel_size=(1, 1), stride=(1, 1), bias=False)\n",
      "        (bn): BatchNorm2d(128, eps=0.001, momentum=0.1, affine=True, track_running_stats=True)\n",
      "      )\n",
      "      (1): BasicConv2d(\n",
      "        (conv): Conv2d(128, 256, kernel_size=(3, 3), stride=(1, 1), padding=(1, 1), bias=False)\n",
      "        (bn): BatchNorm2d(256, eps=0.001, momentum=0.1, affine=True, track_running_stats=True)\n",
      "      )\n",
      "    )\n",
      "    (branch3): Sequential(\n",
      "      (0): BasicConv2d(\n",
      "        (conv): Conv2d(512, 24, kernel_size=(1, 1), stride=(1, 1), bias=False)\n",
      "        (bn): BatchNorm2d(24, eps=0.001, momentum=0.1, affine=True, track_running_stats=True)\n",
      "      )\n",
      "      (1): BasicConv2d(\n",
      "        (conv): Conv2d(24, 64, kernel_size=(3, 3), stride=(1, 1), padding=(1, 1), bias=False)\n",
      "        (bn): BatchNorm2d(64, eps=0.001, momentum=0.1, affine=True, track_running_stats=True)\n",
      "      )\n",
      "    )\n",
      "    (branch4): Sequential(\n",
      "      (0): MaxPool2d(kernel_size=3, stride=1, padding=1, dilation=1, ceil_mode=True)\n",
      "      (1): BasicConv2d(\n",
      "        (conv): Conv2d(512, 64, kernel_size=(1, 1), stride=(1, 1), bias=False)\n",
      "        (bn): BatchNorm2d(64, eps=0.001, momentum=0.1, affine=True, track_running_stats=True)\n",
      "      )\n",
      "    )\n",
      "  )\n",
      "  (inception4d): Inception(\n",
      "    (branch1): BasicConv2d(\n",
      "      (conv): Conv2d(512, 112, kernel_size=(1, 1), stride=(1, 1), bias=False)\n",
      "      (bn): BatchNorm2d(112, eps=0.001, momentum=0.1, affine=True, track_running_stats=True)\n",
      "    )\n",
      "    (branch2): Sequential(\n",
      "      (0): BasicConv2d(\n",
      "        (conv): Conv2d(512, 144, kernel_size=(1, 1), stride=(1, 1), bias=False)\n",
      "        (bn): BatchNorm2d(144, eps=0.001, momentum=0.1, affine=True, track_running_stats=True)\n",
      "      )\n",
      "      (1): BasicConv2d(\n",
      "        (conv): Conv2d(144, 288, kernel_size=(3, 3), stride=(1, 1), padding=(1, 1), bias=False)\n",
      "        (bn): BatchNorm2d(288, eps=0.001, momentum=0.1, affine=True, track_running_stats=True)\n",
      "      )\n",
      "    )\n",
      "    (branch3): Sequential(\n",
      "      (0): BasicConv2d(\n",
      "        (conv): Conv2d(512, 32, kernel_size=(1, 1), stride=(1, 1), bias=False)\n",
      "        (bn): BatchNorm2d(32, eps=0.001, momentum=0.1, affine=True, track_running_stats=True)\n",
      "      )\n",
      "      (1): BasicConv2d(\n",
      "        (conv): Conv2d(32, 64, kernel_size=(3, 3), stride=(1, 1), padding=(1, 1), bias=False)\n",
      "        (bn): BatchNorm2d(64, eps=0.001, momentum=0.1, affine=True, track_running_stats=True)\n",
      "      )\n",
      "    )\n",
      "    (branch4): Sequential(\n",
      "      (0): MaxPool2d(kernel_size=3, stride=1, padding=1, dilation=1, ceil_mode=True)\n",
      "      (1): BasicConv2d(\n",
      "        (conv): Conv2d(512, 64, kernel_size=(1, 1), stride=(1, 1), bias=False)\n",
      "        (bn): BatchNorm2d(64, eps=0.001, momentum=0.1, affine=True, track_running_stats=True)\n",
      "      )\n",
      "    )\n",
      "  )\n",
      "  (inception4e): Inception(\n",
      "    (branch1): BasicConv2d(\n",
      "      (conv): Conv2d(528, 256, kernel_size=(1, 1), stride=(1, 1), bias=False)\n",
      "      (bn): BatchNorm2d(256, eps=0.001, momentum=0.1, affine=True, track_running_stats=True)\n",
      "    )\n",
      "    (branch2): Sequential(\n",
      "      (0): BasicConv2d(\n",
      "        (conv): Conv2d(528, 160, kernel_size=(1, 1), stride=(1, 1), bias=False)\n",
      "        (bn): BatchNorm2d(160, eps=0.001, momentum=0.1, affine=True, track_running_stats=True)\n",
      "      )\n",
      "      (1): BasicConv2d(\n",
      "        (conv): Conv2d(160, 320, kernel_size=(3, 3), stride=(1, 1), padding=(1, 1), bias=False)\n",
      "        (bn): BatchNorm2d(320, eps=0.001, momentum=0.1, affine=True, track_running_stats=True)\n",
      "      )\n",
      "    )\n",
      "    (branch3): Sequential(\n",
      "      (0): BasicConv2d(\n",
      "        (conv): Conv2d(528, 32, kernel_size=(1, 1), stride=(1, 1), bias=False)\n",
      "        (bn): BatchNorm2d(32, eps=0.001, momentum=0.1, affine=True, track_running_stats=True)\n",
      "      )\n",
      "      (1): BasicConv2d(\n",
      "        (conv): Conv2d(32, 128, kernel_size=(3, 3), stride=(1, 1), padding=(1, 1), bias=False)\n",
      "        (bn): BatchNorm2d(128, eps=0.001, momentum=0.1, affine=True, track_running_stats=True)\n",
      "      )\n",
      "    )\n",
      "    (branch4): Sequential(\n",
      "      (0): MaxPool2d(kernel_size=3, stride=1, padding=1, dilation=1, ceil_mode=True)\n",
      "      (1): BasicConv2d(\n",
      "        (conv): Conv2d(528, 128, kernel_size=(1, 1), stride=(1, 1), bias=False)\n",
      "        (bn): BatchNorm2d(128, eps=0.001, momentum=0.1, affine=True, track_running_stats=True)\n",
      "      )\n",
      "    )\n",
      "  )\n",
      "  (maxpool4): MaxPool2d(kernel_size=2, stride=2, padding=0, dilation=1, ceil_mode=True)\n",
      "  (inception5a): Inception(\n",
      "    (branch1): BasicConv2d(\n",
      "      (conv): Conv2d(832, 256, kernel_size=(1, 1), stride=(1, 1), bias=False)\n",
      "      (bn): BatchNorm2d(256, eps=0.001, momentum=0.1, affine=True, track_running_stats=True)\n",
      "    )\n",
      "    (branch2): Sequential(\n",
      "      (0): BasicConv2d(\n",
      "        (conv): Conv2d(832, 160, kernel_size=(1, 1), stride=(1, 1), bias=False)\n",
      "        (bn): BatchNorm2d(160, eps=0.001, momentum=0.1, affine=True, track_running_stats=True)\n",
      "      )\n",
      "      (1): BasicConv2d(\n",
      "        (conv): Conv2d(160, 320, kernel_size=(3, 3), stride=(1, 1), padding=(1, 1), bias=False)\n",
      "        (bn): BatchNorm2d(320, eps=0.001, momentum=0.1, affine=True, track_running_stats=True)\n",
      "      )\n",
      "    )\n",
      "    (branch3): Sequential(\n",
      "      (0): BasicConv2d(\n",
      "        (conv): Conv2d(832, 32, kernel_size=(1, 1), stride=(1, 1), bias=False)\n",
      "        (bn): BatchNorm2d(32, eps=0.001, momentum=0.1, affine=True, track_running_stats=True)\n",
      "      )\n",
      "      (1): BasicConv2d(\n",
      "        (conv): Conv2d(32, 128, kernel_size=(3, 3), stride=(1, 1), padding=(1, 1), bias=False)\n",
      "        (bn): BatchNorm2d(128, eps=0.001, momentum=0.1, affine=True, track_running_stats=True)\n",
      "      )\n",
      "    )\n",
      "    (branch4): Sequential(\n",
      "      (0): MaxPool2d(kernel_size=3, stride=1, padding=1, dilation=1, ceil_mode=True)\n",
      "      (1): BasicConv2d(\n",
      "        (conv): Conv2d(832, 128, kernel_size=(1, 1), stride=(1, 1), bias=False)\n",
      "        (bn): BatchNorm2d(128, eps=0.001, momentum=0.1, affine=True, track_running_stats=True)\n",
      "      )\n",
      "    )\n",
      "  )\n",
      "  (inception5b): Inception(\n",
      "    (branch1): BasicConv2d(\n",
      "      (conv): Conv2d(832, 384, kernel_size=(1, 1), stride=(1, 1), bias=False)\n",
      "      (bn): BatchNorm2d(384, eps=0.001, momentum=0.1, affine=True, track_running_stats=True)\n",
      "    )\n",
      "    (branch2): Sequential(\n",
      "      (0): BasicConv2d(\n",
      "        (conv): Conv2d(832, 192, kernel_size=(1, 1), stride=(1, 1), bias=False)\n",
      "        (bn): BatchNorm2d(192, eps=0.001, momentum=0.1, affine=True, track_running_stats=True)\n",
      "      )\n",
      "      (1): BasicConv2d(\n",
      "        (conv): Conv2d(192, 384, kernel_size=(3, 3), stride=(1, 1), padding=(1, 1), bias=False)\n",
      "        (bn): BatchNorm2d(384, eps=0.001, momentum=0.1, affine=True, track_running_stats=True)\n",
      "      )\n",
      "    )\n",
      "    (branch3): Sequential(\n",
      "      (0): BasicConv2d(\n",
      "        (conv): Conv2d(832, 48, kernel_size=(1, 1), stride=(1, 1), bias=False)\n",
      "        (bn): BatchNorm2d(48, eps=0.001, momentum=0.1, affine=True, track_running_stats=True)\n",
      "      )\n",
      "      (1): BasicConv2d(\n",
      "        (conv): Conv2d(48, 128, kernel_size=(3, 3), stride=(1, 1), padding=(1, 1), bias=False)\n",
      "        (bn): BatchNorm2d(128, eps=0.001, momentum=0.1, affine=True, track_running_stats=True)\n",
      "      )\n",
      "    )\n",
      "    (branch4): Sequential(\n",
      "      (0): MaxPool2d(kernel_size=3, stride=1, padding=1, dilation=1, ceil_mode=True)\n",
      "      (1): BasicConv2d(\n",
      "        (conv): Conv2d(832, 128, kernel_size=(1, 1), stride=(1, 1), bias=False)\n",
      "        (bn): BatchNorm2d(128, eps=0.001, momentum=0.1, affine=True, track_running_stats=True)\n",
      "      )\n",
      "    )\n",
      "  )\n",
      "  (aux1): InceptionAux(\n",
      "    (conv): BasicConv2d(\n",
      "      (conv): Conv2d(512, 128, kernel_size=(1, 1), stride=(1, 1), bias=False)\n",
      "      (bn): BatchNorm2d(128, eps=0.001, momentum=0.1, affine=True, track_running_stats=True)\n",
      "    )\n",
      "    (fc1): Linear(in_features=2048, out_features=1024, bias=True)\n",
      "    (fc2): Linear(in_features=1024, out_features=1000, bias=True)\n",
      "    (dropout): Dropout(p=0.7, inplace=False)\n",
      "  )\n",
      "  (aux2): InceptionAux(\n",
      "    (conv): BasicConv2d(\n",
      "      (conv): Conv2d(528, 128, kernel_size=(1, 1), stride=(1, 1), bias=False)\n",
      "      (bn): BatchNorm2d(128, eps=0.001, momentum=0.1, affine=True, track_running_stats=True)\n",
      "    )\n",
      "    (fc1): Linear(in_features=2048, out_features=1024, bias=True)\n",
      "    (fc2): Linear(in_features=1024, out_features=1000, bias=True)\n",
      "    (dropout): Dropout(p=0.7, inplace=False)\n",
      "  )\n",
      "  (avgpool): AdaptiveAvgPool2d(output_size=(1, 1))\n",
      "  (dropout): Dropout(p=0.2, inplace=False)\n",
      "  (fc): Linear(in_features=1024, out_features=1000, bias=True)\n",
      ")\n",
      "=================================================================\n",
      "Layer (type:depth-idx)                   Param #\n",
      "=================================================================\n",
      "GoogLeNet                                --\n",
      "├─BasicConv2d: 1-1                       --\n",
      "│    └─Conv2d: 2-1                       9,408\n",
      "│    └─BatchNorm2d: 2-2                  128\n",
      "├─MaxPool2d: 1-2                         --\n",
      "├─BasicConv2d: 1-3                       --\n",
      "│    └─Conv2d: 2-3                       4,096\n",
      "│    └─BatchNorm2d: 2-4                  128\n",
      "├─BasicConv2d: 1-4                       --\n",
      "│    └─Conv2d: 2-5                       110,592\n",
      "│    └─BatchNorm2d: 2-6                  384\n",
      "├─MaxPool2d: 1-5                         --\n",
      "├─Inception: 1-6                         --\n",
      "│    └─BasicConv2d: 2-7                  --\n",
      "│    │    └─Conv2d: 3-1                  12,288\n",
      "│    │    └─BatchNorm2d: 3-2             128\n",
      "│    └─Sequential: 2-8                   --\n",
      "│    │    └─BasicConv2d: 3-3             18,624\n",
      "│    │    └─BasicConv2d: 3-4             110,848\n",
      "│    └─Sequential: 2-9                   --\n",
      "│    │    └─BasicConv2d: 3-5             3,104\n",
      "│    │    └─BasicConv2d: 3-6             4,672\n",
      "│    └─Sequential: 2-10                  --\n",
      "│    │    └─MaxPool2d: 3-7               --\n",
      "│    │    └─BasicConv2d: 3-8             6,208\n",
      "├─Inception: 1-7                         --\n",
      "│    └─BasicConv2d: 2-11                 --\n",
      "│    │    └─Conv2d: 3-9                  32,768\n",
      "│    │    └─BatchNorm2d: 3-10            256\n",
      "│    └─Sequential: 2-12                  --\n",
      "│    │    └─BasicConv2d: 3-11            33,024\n",
      "│    │    └─BasicConv2d: 3-12            221,568\n",
      "│    └─Sequential: 2-13                  --\n",
      "│    │    └─BasicConv2d: 3-13            8,256\n",
      "│    │    └─BasicConv2d: 3-14            27,840\n",
      "│    └─Sequential: 2-14                  --\n",
      "│    │    └─MaxPool2d: 3-15              --\n",
      "│    │    └─BasicConv2d: 3-16            16,512\n",
      "├─MaxPool2d: 1-8                         --\n",
      "├─Inception: 1-9                         --\n",
      "│    └─BasicConv2d: 2-15                 --\n",
      "│    │    └─Conv2d: 3-17                 92,160\n",
      "│    │    └─BatchNorm2d: 3-18            384\n",
      "│    └─Sequential: 2-16                  --\n",
      "│    │    └─BasicConv2d: 3-19            46,272\n",
      "│    │    └─BasicConv2d: 3-20            180,128\n",
      "│    └─Sequential: 2-17                  --\n",
      "│    │    └─BasicConv2d: 3-21            7,712\n",
      "│    │    └─BasicConv2d: 3-22            7,008\n",
      "│    └─Sequential: 2-18                  --\n",
      "│    │    └─MaxPool2d: 3-23              --\n",
      "│    │    └─BasicConv2d: 3-24            30,848\n",
      "├─Inception: 1-10                        --\n",
      "│    └─BasicConv2d: 2-19                 --\n",
      "│    │    └─Conv2d: 3-25                 81,920\n",
      "│    │    └─BatchNorm2d: 3-26            320\n",
      "│    └─Sequential: 2-20                  --\n",
      "│    │    └─BasicConv2d: 3-27            57,568\n",
      "│    │    └─BasicConv2d: 3-28            226,240\n",
      "│    └─Sequential: 2-21                  --\n",
      "│    │    └─BasicConv2d: 3-29            12,336\n",
      "│    │    └─BasicConv2d: 3-30            13,952\n",
      "│    └─Sequential: 2-22                  --\n",
      "│    │    └─MaxPool2d: 3-31              --\n",
      "│    │    └─BasicConv2d: 3-32            32,896\n",
      "├─Inception: 1-11                        --\n",
      "│    └─BasicConv2d: 2-23                 --\n",
      "│    │    └─Conv2d: 3-33                 65,536\n",
      "│    │    └─BatchNorm2d: 3-34            256\n",
      "│    └─Sequential: 2-24                  --\n",
      "│    │    └─BasicConv2d: 3-35            65,792\n",
      "│    │    └─BasicConv2d: 3-36            295,424\n",
      "│    └─Sequential: 2-25                  --\n",
      "│    │    └─BasicConv2d: 3-37            12,336\n",
      "│    │    └─BasicConv2d: 3-38            13,952\n",
      "│    └─Sequential: 2-26                  --\n",
      "│    │    └─MaxPool2d: 3-39              --\n",
      "│    │    └─BasicConv2d: 3-40            32,896\n",
      "├─Inception: 1-12                        --\n",
      "│    └─BasicConv2d: 2-27                 --\n",
      "│    │    └─Conv2d: 3-41                 57,344\n",
      "│    │    └─BatchNorm2d: 3-42            224\n",
      "│    └─Sequential: 2-28                  --\n",
      "│    │    └─BasicConv2d: 3-43            74,016\n",
      "│    │    └─BasicConv2d: 3-44            373,824\n",
      "│    └─Sequential: 2-29                  --\n",
      "│    │    └─BasicConv2d: 3-45            16,448\n",
      "│    │    └─BasicConv2d: 3-46            18,560\n",
      "│    └─Sequential: 2-30                  --\n",
      "│    │    └─MaxPool2d: 3-47              --\n",
      "│    │    └─BasicConv2d: 3-48            32,896\n",
      "├─Inception: 1-13                        --\n",
      "│    └─BasicConv2d: 2-31                 --\n",
      "│    │    └─Conv2d: 3-49                 135,168\n",
      "│    │    └─BatchNorm2d: 3-50            512\n",
      "│    └─Sequential: 2-32                  --\n",
      "│    │    └─BasicConv2d: 3-51            84,800\n",
      "│    │    └─BasicConv2d: 3-52            461,440\n",
      "│    └─Sequential: 2-33                  --\n",
      "│    │    └─BasicConv2d: 3-53            16,960\n",
      "│    │    └─BasicConv2d: 3-54            37,120\n",
      "│    └─Sequential: 2-34                  --\n",
      "│    │    └─MaxPool2d: 3-55              --\n",
      "│    │    └─BasicConv2d: 3-56            67,840\n",
      "├─MaxPool2d: 1-14                        --\n",
      "├─Inception: 1-15                        --\n",
      "│    └─BasicConv2d: 2-35                 --\n",
      "│    │    └─Conv2d: 3-57                 212,992\n",
      "│    │    └─BatchNorm2d: 3-58            512\n",
      "│    └─Sequential: 2-36                  --\n",
      "│    │    └─BasicConv2d: 3-59            133,440\n",
      "│    │    └─BasicConv2d: 3-60            461,440\n",
      "│    └─Sequential: 2-37                  --\n",
      "│    │    └─BasicConv2d: 3-61            26,688\n",
      "│    │    └─BasicConv2d: 3-62            37,120\n",
      "│    └─Sequential: 2-38                  --\n",
      "│    │    └─MaxPool2d: 3-63              --\n",
      "│    │    └─BasicConv2d: 3-64            106,752\n",
      "├─Inception: 1-16                        --\n",
      "│    └─BasicConv2d: 2-39                 --\n",
      "│    │    └─Conv2d: 3-65                 319,488\n",
      "│    │    └─BatchNorm2d: 3-66            768\n",
      "│    └─Sequential: 2-40                  --\n",
      "│    │    └─BasicConv2d: 3-67            160,128\n",
      "│    │    └─BasicConv2d: 3-68            664,320\n",
      "│    └─Sequential: 2-41                  --\n",
      "│    │    └─BasicConv2d: 3-69            40,032\n",
      "│    │    └─BasicConv2d: 3-70            55,552\n",
      "│    └─Sequential: 2-42                  --\n",
      "│    │    └─MaxPool2d: 3-71              --\n",
      "│    │    └─BasicConv2d: 3-72            106,752\n",
      "├─InceptionAux: 1-17                     --\n",
      "│    └─BasicConv2d: 2-43                 --\n",
      "│    │    └─Conv2d: 3-73                 65,536\n",
      "│    │    └─BatchNorm2d: 3-74            256\n",
      "│    └─Linear: 2-44                      2,098,176\n",
      "│    └─Linear: 2-45                      1,025,000\n",
      "│    └─Dropout: 2-46                     --\n",
      "├─InceptionAux: 1-18                     --\n",
      "│    └─BasicConv2d: 2-47                 --\n",
      "│    │    └─Conv2d: 3-75                 67,584\n",
      "│    │    └─BatchNorm2d: 3-76            256\n",
      "│    └─Linear: 2-48                      2,098,176\n",
      "│    └─Linear: 2-49                      1,025,000\n",
      "│    └─Dropout: 2-50                     --\n",
      "├─AdaptiveAvgPool2d: 1-19                --\n",
      "├─Dropout: 1-20                          --\n",
      "├─Linear: 1-21                           1,025,000\n",
      "=================================================================\n",
      "Total params: 13,004,888\n",
      "Trainable params: 13,004,888\n",
      "Non-trainable params: 0\n",
      "=================================================================\n"
     ]
    },
    {
     "name": "stderr",
     "output_type": "stream",
     "text": [
      "C:\\Users\\Utente\\anaconda3\\envs\\torch-cuda\\lib\\site-packages\\torchvision\\models\\googlenet.py:47: FutureWarning: The default weight initialization of GoogleNet will be changed in future releases of torchvision. If you wish to keep the old behavior (which leads to long initialization times due to scipy/scipy#11299), please set init_weights=True.\n",
      "  warnings.warn(\n"
     ]
    }
   ],
   "source": [
    "from torchvision import models\n",
    "\n",
    "googlenet = models.googlenet()\n",
    "\n",
    "print(googlenet)\n",
    "print(summary(googlenet))"
   ]
  }
 ],
 "metadata": {
  "kernelspec": {
   "display_name": "Python 3 (ipykernel)",
   "language": "python",
   "name": "python3"
  },
  "language_info": {
   "codemirror_mode": {
    "name": "ipython",
    "version": 3
   },
   "file_extension": ".py",
   "mimetype": "text/x-python",
   "name": "python",
   "nbconvert_exporter": "python",
   "pygments_lexer": "ipython3",
   "version": "3.9.20"
  }
 },
 "nbformat": 4,
 "nbformat_minor": 5
}
