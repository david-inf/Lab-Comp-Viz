{
 "cells": [
  {
   "cell_type": "code",
   "execution_count": 2,
   "metadata": {},
   "outputs": [],
   "source": [
    "import torch\n",
    "import torch.nn.functional as F"
   ]
  },
  {
   "cell_type": "code",
   "execution_count": 14,
   "metadata": {},
   "outputs": [
    {
     "name": "stdout",
     "output_type": "stream",
     "text": [
      "tensor([[ 0.3015,  0.7135, -1.7389,  1.6651,  2.3736],\n",
      "        [-1.8491, -1.1479,  0.5863, -0.5880,  1.9614],\n",
      "        [ 0.2790,  0.9023, -0.2384,  1.0261,  1.0308]])\n",
      "tensor([[ 0.1592,  0.4390, -0.9397,  0.8153,  0.7310],\n",
      "        [-0.9762, -0.7064,  0.3168, -0.2879,  0.6041],\n",
      "        [ 0.1473,  0.5552, -0.1288,  0.5024,  0.3175]])\n",
      "tensor([[ 0.0869,  0.2057, -0.5013,  0.4801,  0.6843],\n",
      "        [-0.6072, -0.3770,  0.1925, -0.1931,  0.6441],\n",
      "        [ 0.1594,  0.5154, -0.1362,  0.5862,  0.5889]])\n"
     ]
    }
   ],
   "source": [
    "z1 = torch.randn(3, 5)\n",
    "z2 = torch.randn(3, 5)\n",
    "\n",
    "z1_n0 = F.normalize(z1, dim=0)\n",
    "z2_n0 = F.normalize(z2, dim=0)\n",
    "\n",
    "z1_n1 = F.normalize(z1, dim=1)\n",
    "z2_n1 = F.normalize(z2, dim=1)\n",
    "\n",
    "print(z1)\n",
    "print(z1_n0)\n",
    "print(z1_n1)"
   ]
  },
  {
   "cell_type": "code",
   "execution_count": 21,
   "metadata": {},
   "outputs": [
    {
     "name": "stdout",
     "output_type": "stream",
     "text": [
      "tensor([[ 1.3341,  0.7255,  1.7563, -1.8413,  0.3239],\n",
      "        [ 0.9806,  0.3093,  2.6667, -1.2414, -0.4104],\n",
      "        [-2.0712, -0.1347, -4.6917,  1.3817, -0.2528],\n",
      "        [ 1.5604,  0.0108,  4.8011, -1.1641, -0.5229],\n",
      "        [ 0.6905, -1.1013,  5.3146,  0.8950, -1.1448]])\n",
      "tensor([[ 0.5229,  0.8400,  0.3626, -0.8842,  0.1665],\n",
      "        [ 0.4481,  0.4175,  0.6417, -0.6948, -0.2458],\n",
      "        [-0.8311, -0.1596, -0.9915,  0.6791, -0.1330],\n",
      "        [ 0.5673,  0.0116,  0.9193, -0.5184, -0.2492],\n",
      "        [ 0.1579, -0.7439,  0.6401,  0.2507, -0.3431]])\n",
      "tensor([[ 0.2467,  0.1689,  0.3485, -0.4142,  0.0099],\n",
      "        [ 0.0212,  0.0465,  0.4810, -0.2055, -0.3179],\n",
      "        [-0.2206, -0.0346, -0.5644,  0.2022,  0.0346],\n",
      "        [ 0.0073, -0.0254,  0.6834, -0.1127, -0.3967],\n",
      "        [-0.3102, -0.2932,  0.5637,  0.4412, -0.5676]])\n"
     ]
    }
   ],
   "source": [
    "print(z1.T @ z2)\n",
    "print(z1_n0.T @ z2_n0)\n",
    "print(z1_n1.T @ z2_n1)\n",
    "\n",
    "c = z1_n0.T @ z2_n0 / 3"
   ]
  },
  {
   "cell_type": "code",
   "execution_count": 18,
   "metadata": {},
   "outputs": [],
   "source": [
    "def off_diagonal(x):\n",
    "    # return a flattened view of the off-diagonal elements of a square matrix\n",
    "    n, m = x.shape\n",
    "    assert n == m\n",
    "    return x.flatten()[:-1].view(n - 1, n + 1)[:, 1:].flatten()"
   ]
  },
  {
   "cell_type": "code",
   "execution_count": 22,
   "metadata": {},
   "outputs": [
    {
     "name": "stdout",
     "output_type": "stream",
     "text": [
      "tensor(6.5079)\n"
     ]
    }
   ],
   "source": [
    "invariance = torch.diagonal(c).add_(-1).pow_(2).sum()\n",
    "redundancy_reduction = off_diagonal(c).pow_(2).sum()\n",
    "loss = invariance + redundancy_reduction\n",
    "print(loss)"
   ]
  },
  {
   "cell_type": "code",
   "execution_count": 24,
   "metadata": {},
   "outputs": [
    {
     "name": "stdout",
     "output_type": "stream",
     "text": [
      "tensor([[ 0.6818,  0.2800,  0.1209, -0.2947,  0.0555],\n",
      "        [ 0.1494,  0.7410,  0.2139, -0.2316, -0.0819],\n",
      "        [-0.2770, -0.0532,  1.7702,  0.2264, -0.0443],\n",
      "        [ 0.1891,  0.0039,  0.3064,  1.3755, -0.0831],\n",
      "        [ 0.0526, -0.2480,  0.2134,  0.0836,  1.2418]])\n",
      "tensor([[ 0.3409,  0.1400,  0.0604, -0.1474,  0.0277],\n",
      "        [ 0.0747,  0.3705,  0.1070, -0.1158, -0.0410],\n",
      "        [-0.1385, -0.0266,  0.8851,  0.1132, -0.0222],\n",
      "        [ 0.0945,  0.0019,  0.1532,  0.6877, -0.0415],\n",
      "        [ 0.0263, -0.1240,  0.1067,  0.0418,  0.6209]])\n"
     ]
    }
   ],
   "source": [
    "print(c)\n",
    "c.div_(2)\n",
    "print(c)"
   ]
  }
 ],
 "metadata": {
  "kernelspec": {
   "display_name": "pytorch",
   "language": "python",
   "name": "python3"
  },
  "language_info": {
   "codemirror_mode": {
    "name": "ipython",
    "version": 3
   },
   "file_extension": ".py",
   "mimetype": "text/x-python",
   "name": "python",
   "nbconvert_exporter": "python",
   "pygments_lexer": "ipython3",
   "version": "3.9.20"
  }
 },
 "nbformat": 4,
 "nbformat_minor": 2
}
