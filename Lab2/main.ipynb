{
 "cells": [
  {
   "cell_type": "code",
   "execution_count": 1,
   "metadata": {},
   "outputs": [
    {
     "name": "stdout",
     "output_type": "stream",
     "text": [
      "Device: cuda\n"
     ]
    }
   ],
   "source": [
    "import time\n",
    "\n",
    "import torch\n",
    "from torchvision import datasets\n",
    "import torchvision.transforms as transforms\n",
    "\n",
    "from dataset import CustomImageDataset, AugmentedImageDataset, MakeDataLoaders\n",
    "\n",
    "device = \"cuda\" if torch.cuda.is_available() else \"cpu\"\n",
    "print(\"Device:\", device)"
   ]
  },
  {
   "cell_type": "markdown",
   "metadata": {},
   "source": [
    "## Dataset and DataLoader"
   ]
  },
  {
   "cell_type": "markdown",
   "metadata": {},
   "source": [
    "### Load the custom dataset"
   ]
  },
  {
   "cell_type": "code",
   "execution_count": 2,
   "metadata": {},
   "outputs": [
    {
     "name": "stdout",
     "output_type": "stream",
     "text": [
      "Files already downloaded and verified\n"
     ]
    }
   ],
   "source": [
    "# load dataset from custom class\n",
    "trainset = AugmentedImageDataset()\n",
    "\n",
    "# create dataloader\n",
    "batch_size = 64\n",
    "loader = MakeDataLoaders(trainset, batch_size, 2)\n",
    "train_loader = loader.loader  # DataLoader object"
   ]
  },
  {
   "cell_type": "code",
   "execution_count": 4,
   "metadata": {},
   "outputs": [
    {
     "name": "stdout",
     "output_type": "stream",
     "text": [
      "[0] 6.74 seconds\n",
      "[10] 0.43 seconds\n",
      "[20] 0.54 seconds\n",
      "[30] 0.55 seconds\n",
      "[40] 0.58 seconds\n",
      "[50] 0.53 seconds\n"
     ]
    }
   ],
   "source": [
    "start = time.time()\n",
    "for batch_idx, data in enumerate(train_loader):\n",
    "    if batch_idx % 10 == 0:\n",
    "        print(\"[%d] %.2f seconds\" % (batch_idx, time.time()-start))\n",
    "        start = time.time()\n",
    "\n",
    "    if batch_idx == 50:\n",
    "        break"
   ]
  },
  {
   "cell_type": "markdown",
   "metadata": {
    "jp-MarkdownHeadingCollapsed": true
   },
   "source": [
    "### Dataset inspection"
   ]
  },
  {
   "cell_type": "code",
   "execution_count": null,
   "metadata": {},
   "outputs": [
    {
     "name": "stdout",
     "output_type": "stream",
     "text": [
      "Files already downloaded and verified\n",
      "Number of samples: 50000\n",
      "View 1: torch.Size([3, 32, 32])\n",
      "View 2: torch.Size([3, 32, 32])\n",
      "Label: 6\n"
     ]
    }
   ],
   "source": [
    "print(\"Number of samples:\", len(trainset))\n",
    "print(\"View 1:\", trainset[0][0].shape)\n",
    "print(\"View 2:\", trainset[0][1].shape)\n",
    "print(\"Label:\", trainset[0][2])"
   ]
  },
  {
   "cell_type": "code",
   "execution_count": null,
   "metadata": {},
   "outputs": [
    {
     "name": "stdout",
     "output_type": "stream",
     "text": [
      "View 1 batch shape, (first augmentation): torch.Size([64, 3, 32, 32])\n",
      "View 1 batch shape, (second augmentation): torch.Size([64, 3, 32, 32])\n",
      "Label batch shape: torch.Size([64])\n"
     ]
    }
   ],
   "source": [
    "view1, view2, label = next(iter(train_loader))\n",
    "\n",
    "print(f\"View 1 batch shape, (first augmentation): {view1.size()}\")\n",
    "print(f\"View 1 batch shape, (second augmentation): {view2.size()}\")\n",
    "print(f\"Label batch shape: {label.size()}\")"
   ]
  },
  {
   "cell_type": "code",
   "execution_count": 20,
   "metadata": {},
   "outputs": [],
   "source": [
    "import matplotlib.pyplot as plt\n",
    "def plot_views(img0, img1, img2, label, dir):\n",
    "\n",
    "    fig, axs = plt.subplots(1, 3, layout=\"constrained\")\n",
    "\n",
    "    images = [img0, img1, img2]\n",
    "    titles = [f\"Original - label {label}\", \"First augmentation\", \"Second augmentation\"]\n",
    "    for i in range(3):\n",
    "        axs[i].imshow(images[i], cmap=\"gray\")\n",
    "        axs[i].axis(\"off\")\n",
    "        axs[i].set_title(titles[i])\n",
    "\n",
    "    plt.savefig(dir)\n",
    "    plt.show()"
   ]
  },
  {
   "cell_type": "code",
   "execution_count": 21,
   "metadata": {},
   "outputs": [
    {
     "data": {
      "image/png": "[encoded data removed]",
      "text/plain": [
       "<Figure size 640x480 with 3 Axes>"
      ]
     },
     "metadata": {},
     "output_type": "display_data"
    }
   ],
   "source": [
    "import matplotlib.pyplot as plt\n",
    "\n",
    "# two version of the first image of the trainig set\n",
    "img0 = trainset.dataset.data[0]\n",
    "img1 = torch.permute(trainset[0][0], (1, 2, 0))\n",
    "img2 = torch.permute(trainset[0][1], (1, 2, 0))\n",
    "label = trainset[0][2]\n",
    "\n",
    "plot_views(img0, img1, img2, label, \"./plots/original_views.pdf\")\n"
   ]
  },
  {
   "cell_type": "code",
   "execution_count": null,
   "metadata": {},
   "outputs": [],
   "source": [
    "## Show original images and their two augmented versions\n",
    "\n",
    "# Andare a stampare immagini originali e trasformazioni\n",
    "# Running multiple times yields different views\n",
    "# augmentation is performed online\n",
    "from torchvision.utils import make_grid\n",
    "pics = 10\n",
    "imgs = torch.stack((*[transforms.ToTensor()(trainset.dataset[i][0]) for i in range(pics)],\n",
    "                    *[trainset[i][0] for i in range(pics)],\n",
    "                    *[trainset[i][1] for i in range(pics)]))\n",
    "\n",
    "grid = make_grid(imgs, nrow=pics)\n",
    "\n",
    "image = transforms.ToPILImage()(grid)\n",
    "image.show()\n",
    "image.save(\"./plots/views.png\")"
   ]
  },
  {
   "cell_type": "code",
   "execution_count": 10,
   "metadata": {},
   "outputs": [
    {
     "name": "stdout",
     "output_type": "stream",
     "text": [
      "torch.Size([64, 3, 32, 32])\n",
      "torch.Size([64, 3, 32, 32])\n",
      "torch.Size([64])\n",
      "\n",
      "torch.Size([64, 3, 32, 32])\n",
      "torch.Size([64, 3, 32, 32])\n",
      "torch.Size([64])\n",
      "\n",
      "torch.Size([64, 3, 32, 32])\n",
      "torch.Size([64, 3, 32, 32])\n",
      "torch.Size([64])\n",
      "\n"
     ]
    }
   ],
   "source": [
    "# quick training loop over 3 batches\n",
    "for idx, data in enumerate(train_loader):\n",
    "    image1, image2, targets = data\n",
    "    print(image1.shape)\n",
    "    print(image2.shape)\n",
    "    print(targets.shape)\n",
    "    print()\n",
    "    if idx == 2:\n",
    "        break"
   ]
  },
  {
   "cell_type": "markdown",
   "metadata": {
    "jp-MarkdownHeadingCollapsed": true
   },
   "source": [
    "### Inspect batches"
   ]
  },
  {
   "cell_type": "code",
   "execution_count": 11,
   "metadata": {},
   "outputs": [],
   "source": [
    "def plot_pairs(img0, img0_pos, img0_neg, label_pos, label_neg):\n",
    "    fig, axs = plt.subplots(1, 3, layout=\"constrained\")\n",
    "\n",
    "    axs[0].imshow(img0, cmap=\"gray\")\n",
    "    axs[0].axis(\"off\")\n",
    "    axs[0].set_title(f\"Original - label {label_pos}\")\n",
    "\n",
    "    axs[1].imshow(img0_pos, cmap=\"gray\")\n",
    "    axs[1].axis(\"off\")\n",
    "    axs[1].set_title(\"Positive pair\")\n",
    "\n",
    "    axs[2].imshow(img0_neg, cmap=\"gray\")\n",
    "    axs[2].axis(\"off\")\n",
    "    axs[2].set_title(f\"Negative pair {label_neg}\")\n",
    "\n",
    "    plt.show()"
   ]
  },
  {
   "cell_type": "code",
   "execution_count": 12,
   "metadata": {},
   "outputs": [
    {
     "name": "stdout",
     "output_type": "stream",
     "text": [
      "tensor(1)\n",
      "tensor(9)\n"
     ]
    },
    {
     "data": {
      "image/png": "[encoded data removed]",
      "text/plain": [
       "<Figure size 640x480 with 1 Axes>"
      ]
     },
     "metadata": {},
     "output_type": "display_data"
    },
    {
     "name": "stdout",
     "output_type": "stream",
     "text": [
      "tensor(1)\n",
      "tensor(3)\n"
     ]
    },
    {
     "data": {
      "image/png": "[encoded data removed]",
      "text/plain": [
       "<Figure size 640x480 with 1 Axes>"
      ]
     },
     "metadata": {},
     "output_type": "display_data"
    },
    {
     "name": "stdout",
     "output_type": "stream",
     "text": [
      "tensor(1)\n",
      "tensor(7)\n"
     ]
    },
    {
     "data": {
      "image/png": "[encoded data removed]",
      "text/plain": [
       "<Figure size 640x480 with 1 Axes>"
      ]
     },
     "metadata": {},
     "output_type": "display_data"
    },
    {
     "name": "stdout",
     "output_type": "stream",
     "text": [
      "tensor(1)\n",
      "tensor(7)\n"
     ]
    },
    {
     "data": {
      "image/png": "[encoded data removed]",
      "text/plain": [
       "<Figure size 640x480 with 1 Axes>"
      ]
     },
     "metadata": {},
     "output_type": "display_data"
    }
   ],
   "source": [
    "method = \"Supervised\"\n",
    "x = 0\n",
    "label = 1\n",
    "\n",
    "for idx, data in enumerate(train_loader):\n",
    "    image1, image2, targets = data\n",
    "\n",
    "    ## Unsupervised method\n",
    "    if method == \"Unsupervised\":\n",
    "        # img0 = torch.permute(image1[x], (1, 2, 0))\n",
    "        img0 = image1[x]\n",
    "        # img0_pos = torch.permute(image2[x], (1, 2, 0))\n",
    "        img0_pos = image2[x]\n",
    "        # img0_neg = torch.permute(image1[x+1], (1, 2, 0))\n",
    "        img0_neg = image1[x+1]\n",
    "\n",
    "        label_pos = targets[x]\n",
    "        print(label_pos)\n",
    "        label_neg = targets[x+1]\n",
    "        print(label_neg)\n",
    "\n",
    "    ## Supervised method\n",
    "    elif method == \"Supervised\":\n",
    "        indices = targets == label\n",
    "        img0 = image1[indices][x]\n",
    "        img0_pos = image2[indices][x]\n",
    "        img0_neg = image1[~indices][x]\n",
    "\n",
    "        label_pos = targets[indices][x]\n",
    "        print(label_pos)\n",
    "        label_neg = targets[~indices][x]\n",
    "        print(label_neg)\n",
    "\n",
    "    grid = make_grid([img0, img0_pos, img0_neg], nrow=3)\n",
    "    plt.figure()\n",
    "    plt.imshow(grid.permute(1, 2, 0))\n",
    "    # plt.title()\n",
    "    plt.axis(\"off\")\n",
    "    plt.show()\n",
    "\n",
    "    if idx == 3:\n",
    "        break"
   ]
  },
  {
   "cell_type": "markdown",
   "metadata": {
    "jp-MarkdownHeadingCollapsed": true
   },
   "source": [
    "## Siamese network"
   ]
  },
  {
   "cell_type": "code",
   "execution_count": 4,
   "metadata": {},
   "outputs": [],
   "source": [
    "import torch.optim as optim\n",
    "import torchvision.models as models\n",
    "\n",
    "from nets import SiameseNetSync, SiameseNetAsync\n",
    "\n",
    "backbone = models.resnet18()"
   ]
  },
  {
   "cell_type": "markdown",
   "metadata": {},
   "source": [
    "Sync training"
   ]
  },
  {
   "cell_type": "code",
   "execution_count": null,
   "metadata": {},
   "outputs": [
    {
     "name": "stdout",
     "output_type": "stream",
     "text": [
      "torch.Size([5, 512])\n",
      "torch.Size([5, 512])\n"
     ]
    }
   ],
   "source": [
    "# Check output shape\n",
    "sync_out = SiameseNetSync(backbone)(torch.randn(5, 3, 32, 32), torch.randn(5, 3, 32, 32))\n",
    "print(sync_out[\"view1\"].shape)\n",
    "print(sync_out[\"view2\"].shape)"
   ]
  },
  {
   "cell_type": "markdown",
   "metadata": {},
   "source": [
    "Async training"
   ]
  },
  {
   "cell_type": "code",
   "execution_count": 6,
   "metadata": {},
   "outputs": [
    {
     "name": "stdout",
     "output_type": "stream",
     "text": [
      "torch.Size([5, 512])\n",
      "torch.Size([5, 512])\n"
     ]
    }
   ],
   "source": [
    "# Check output shape\n",
    "async_dict = SiameseNetAsync(backbone)(torch.randn(5, 3, 32, 32), torch.randn(5, 3, 32, 32))\n",
    "print(async_dict[\"view1\"].shape)\n",
    "print(async_dict[\"view2\"].shape)"
   ]
  },
  {
   "cell_type": "markdown",
   "metadata": {},
   "source": [
    "Training loop"
   ]
  },
  {
   "cell_type": "code",
   "execution_count": 8,
   "metadata": {},
   "outputs": [
    {
     "name": "stdout",
     "output_type": "stream",
     "text": [
      "First augmentation: torch.Size([64, 3, 32, 32])\n",
      "Second augmentation: torch.Size([64, 3, 32, 32])\n",
      "Targets: torch.Size([64])\n",
      "Forward on view1: torch.Size([64, 512])\n",
      "Forward on view2: torch.Size([64, 512])\n"
     ]
    }
   ],
   "source": [
    "backbone = models.resnet18()\n",
    "model = SiameseNetSync(backbone)\n",
    "\n",
    "for idx, data in enumerate(train_loader):\n",
    "    view1, view2, targets = data\n",
    "\n",
    "    print(f\"First augmentation: {view1.shape}\")\n",
    "    print(f\"Second augmentation: {view2.shape}\")\n",
    "    print(f\"Targets: {targets.shape}\")\n",
    "\n",
    "    ## Forward pass\n",
    "    output = model(view1, view2)\n",
    "    print(\"Forward on view1:\", output[\"view1\"].shape)\n",
    "    print(f\"Forward on view2:\", output[\"view2\"].shape)\n",
    "\n",
    "    if idx == 0:\n",
    "        break"
   ]
  },
  {
   "cell_type": "markdown",
   "metadata": {},
   "source": [
    "## Contrastive learning"
   ]
  },
  {
   "cell_type": "code",
   "execution_count": null,
   "metadata": {},
   "outputs": [
    {
     "name": "stdout",
     "output_type": "stream",
     "text": [
      "Device: cuda\n"
     ]
    }
   ],
   "source": [
    "import torch.optim as optim\n",
    "import torchvision.models as models\n",
    "\n",
    "from nets import SiameseNetSync as SiameseNet\n",
    "from infonce import ContrastiveLoss"
   ]
  },
  {
   "cell_type": "code",
   "execution_count": 4,
   "metadata": {},
   "outputs": [],
   "source": [
    "backbone = models.resnet18()\n",
    "model = SiameseNet(backbone)\n",
    "model = model.to(device)\n",
    "\n",
    "optimizer = optim.Adam(model.parameters())\n",
    "criterion = ContrastiveLoss()"
   ]
  },
  {
   "cell_type": "code",
   "execution_count": null,
   "metadata": {},
   "outputs": [
    {
     "ename": "IndexError",
     "evalue": "list index out of range",
     "output_type": "error",
     "traceback": [
      "\u001b[1;31m---------------------------------------------------------------------------\u001b[0m",
      "\u001b[1;31mIndexError\u001b[0m                                Traceback (most recent call last)",
      "Cell \u001b[1;32mIn[9], line 34\u001b[0m\n\u001b[0;32m     31\u001b[0m losses\u001b[38;5;241m.\u001b[39mappend(loss\u001b[38;5;241m.\u001b[39mdetach()\u001b[38;5;241m.\u001b[39mcpu()\u001b[38;5;241m.\u001b[39mnumpy())\n\u001b[0;32m     33\u001b[0m \u001b[38;5;28;01mif\u001b[39;00m idx \u001b[38;5;241m==\u001b[39m \u001b[38;5;241m20\u001b[39m:\n\u001b[1;32m---> 34\u001b[0m     loss_i \u001b[38;5;241m=\u001b[39m np\u001b[38;5;241m.\u001b[39mmean(\u001b[43mlosses\u001b[49m\u001b[43m[\u001b[49m\u001b[38;5;241;43m-\u001b[39;49m\u001b[38;5;241;43m200\u001b[39;49m\u001b[43m]\u001b[49m)\n\u001b[0;32m     35\u001b[0m     \u001b[38;5;28mprint\u001b[39m(\u001b[38;5;124m\"\u001b[39m\u001b[38;5;124mEpoch [\u001b[39m\u001b[38;5;132;01m%d\u001b[39;00m\u001b[38;5;124m/\u001b[39m\u001b[38;5;132;01m%d\u001b[39;00m\u001b[38;5;124m] - Loss: \u001b[39m\u001b[38;5;132;01m%.4f\u001b[39;00m\u001b[38;5;124m - \u001b[39m\u001b[38;5;132;01m%.2f\u001b[39;00m\u001b[38;5;124m seconds\u001b[39m\u001b[38;5;124m\"\u001b[39m \u001b[38;5;241m%\u001b[39m\n\u001b[0;32m     36\u001b[0m           (epoch, max_epochs, loss_i, time\u001b[38;5;241m.\u001b[39mtime()\u001b[38;5;241m-\u001b[39mstart))\n\u001b[0;32m     37\u001b[0m     start \u001b[38;5;241m=\u001b[39m time\u001b[38;5;241m.\u001b[39mtime()\n",
      "\u001b[1;31mIndexError\u001b[0m: list index out of range"
     ]
    }
   ],
   "source": [
    "import time\n",
    "import numpy as np\n",
    "\n",
    "# epoch_losses = []\n",
    "max_epochs = 1\n",
    "\n",
    "start = time.time()\n",
    "for epoch in range(max_epochs):\n",
    "    losses = []\n",
    "    for idx, data in enumerate(train_loader):\n",
    "        view1, view2, _ = data\n",
    "        view1, view2 = view1.to(device), view2.to(device)\n",
    "        # print(view1.shape)\n",
    "        # print(targets.shape)\n",
    "\n",
    "        optimizer.zero_grad()\n",
    "\n",
    "        output = model(view1, view2)\n",
    "        output1, output2 = output.values()\n",
    "        # print(\"Views size\", output1.shape, output2.shape)\n",
    "\n",
    "        # accoda gli embedding delle view1 e delle view2\n",
    "        features = torch.cat((output1, output2), dim=0)\n",
    "        # print(\"Features shape\", features.shape)\n",
    "\n",
    "        # update model\n",
    "        loss = criterion(features)\n",
    "        loss.backward()\n",
    "        optimizer.step()\n",
    "\n",
    "        losses.append(loss.detach().cpu().numpy())\n",
    "\n",
    "        if idx == 20:\n",
    "            iter_loss = np.mean(losses[-idx:])\n",
    "            print(\"[%d/%d] [%d/%d] | Loss: %.4f | %.2f seconds\"\n",
    "                  % (epoch+1, max_epochs, idx, len(train_loader),\n",
    "                     loss.item(), time.time()-start))\n",
    "            start = time.time()\n",
    "\n",
    "    # epoch_losses.append(np.mean(losses))"
   ]
  },
  {
   "cell_type": "markdown",
   "metadata": {},
   "source": [
    "## Self-distillation"
   ]
  },
  {
   "cell_type": "code",
   "execution_count": null,
   "metadata": {},
   "outputs": [],
   "source": [
    "import torch.optim as optim\n",
    "import torchvision.models as models\n",
    "\n",
    "# from nets import SiameseNetAsync as SiameseNet\n",
    "from byol import BYOL"
   ]
  },
  {
   "cell_type": "code",
   "execution_count": 4,
   "metadata": {},
   "outputs": [],
   "source": [
    "backbone = models.resnet18()\n",
    "model = BYOL(backbone)\n",
    "model = model.to(device)"
   ]
  },
  {
   "cell_type": "code",
   "execution_count": 5,
   "metadata": {},
   "outputs": [],
   "source": [
    "online_params = [{\n",
    "    \"params\": model.online_net.parameters(),  # parametri dell'encoder\n",
    "    \"params\": model.online_projector.parameters()  # parametri del projector aggiuntivo\n",
    "}]\n",
    "\n",
    "optim_online = optim.SGD(\n",
    "    online_params,  # online net: encoder + projector\n",
    "    lr=0.001\n",
    ")"
   ]
  },
  {
   "cell_type": "code",
   "execution_count": 6,
   "metadata": {},
   "outputs": [
    {
     "name": "stdout",
     "output_type": "stream",
     "text": [
      "[1/2] [0/782] | Loss: 3.9823 | 6.15 seconds\n",
      "[1/2] [100/782] | Loss: 1.9378 | 5.54 seconds\n",
      "[1/2] [200/782] | Loss: 1.7438 | 5.62 seconds\n",
      "[1/2] [300/782] | Loss: 1.6702 | 5.62 seconds\n",
      "[1/2] [400/782] | Loss: 1.6320 | 5.56 seconds\n",
      "[1/2] [500/782] | Loss: 1.5937 | 5.65 seconds\n",
      "[1/2] [600/782] | Loss: 1.5716 | 5.64 seconds\n",
      "[1/2] [700/782] | Loss: 1.5662 | 5.72 seconds\n",
      "[2/2] [0/782] | Loss: 1.5551 | 10.62 seconds\n",
      "[2/2] [100/782] | Loss: 1.5466 | 5.65 seconds\n",
      "[2/2] [200/782] | Loss: 1.5374 | 5.86 seconds\n",
      "[2/2] [300/782] | Loss: 1.5269 | 5.66 seconds\n",
      "[2/2] [400/782] | Loss: 1.5312 | 6.39 seconds\n",
      "[2/2] [500/782] | Loss: 1.5104 | 7.99 seconds\n",
      "[2/2] [600/782] | Loss: 1.5015 | 8.17 seconds\n",
      "[2/2] [700/782] | Loss: 1.4995 | 7.19 seconds\n"
     ]
    }
   ],
   "source": [
    "import time\n",
    "import numpy as np\n",
    "\n",
    "start = time.time()\n",
    "max_epochs = 2\n",
    "\n",
    "for epoch in range(max_epochs):\n",
    "    losses = []\n",
    "    for idx, data in enumerate(train_loader):\n",
    "        view1, view2, _ = data\n",
    "        view1, view2 = view1.to(device), view2.to(device)\n",
    "        # print(f\"First augmentation: {view1.shape}\")  # [64, 3, 32, 32]\n",
    "        # print(f\"Second augmentation: {view2.shape}\")  # [64, 3, 32, 32]\n",
    "        # print(f\"Targets: {targets.shape}\")  # [64]\n",
    "\n",
    "        ## Update Online network\n",
    "        optim_online.zero_grad()\n",
    "        loss = model(view1, view2)  # vengono feedate le view a coppie\n",
    "        loss.backward()  # solo sulla rete Online\n",
    "        optim_online.step()  # aggiorna i parametri di Online\n",
    "        losses.append(loss.detach().cpu().numpy())\n",
    "\n",
    "        ## Update Target network\n",
    "        model.update_moving_average()  # aggiornamento basato su EMA\n",
    "\n",
    "        ## Diagnostic\n",
    "        if idx % 100 == 0:\n",
    "            iter_loss = np.mean(losses[-idx:])\n",
    "            print(\"[%d/%d] [%d/%d] | Loss: %.4f | %.2f seconds\"\n",
    "                  % (epoch+1, max_epochs, idx, len(train_loader),\n",
    "                     loss.item(), time.time()-start))\n",
    "            start = time.time()"
   ]
  },
  {
   "cell_type": "markdown",
   "metadata": {},
   "source": [
    "## Canonical correlation analysis"
   ]
  },
  {
   "cell_type": "code",
   "execution_count": 3,
   "metadata": {},
   "outputs": [],
   "source": [
    "import torch.optim as optim\n",
    "import torchvision.models as models\n",
    "\n",
    "from nets import SiameseNetSync as SiameseNet\n",
    "from barlow import BarlowTwins"
   ]
  },
  {
   "cell_type": "code",
   "execution_count": 4,
   "metadata": {},
   "outputs": [],
   "source": [
    "backbone = models.resnet18()\n",
    "model = SiameseNet(backbone)\n",
    "criterion = BarlowTwins(0.005)\n",
    "\n",
    "model = model.to(device)\n",
    "criterion = criterion.to(device)"
   ]
  },
  {
   "cell_type": "code",
   "execution_count": 5,
   "metadata": {},
   "outputs": [],
   "source": [
    "params = [{\n",
    "    \"params\": model.parameters(),  # parametri dell'encoder\n",
    "    \"params\": criterion.projector.parameters(),  # parametri del projector aggiuntivo\n",
    "    \"params\": criterion.bn.parameters()\n",
    "}]\n",
    "\n",
    "optimizer = optim.Adam(params, lr=0.0001)  # params della Siamese + MLP"
   ]
  },
  {
   "cell_type": "code",
   "execution_count": 6,
   "metadata": {},
   "outputs": [
    {
     "name": "stdout",
     "output_type": "stream",
     "text": [
      "[1/5] [0/782] | Loss: 2048.4785 | 6.48 seconds\n",
      "[1/5] [100/782] | Loss: 2046.2377 | 5.68 seconds\n",
      "[1/5] [200/782] | Loss: 2047.4258 | 5.56 seconds\n",
      "[1/5] [300/782] | Loss: 2046.7380 | 5.50 seconds\n",
      "[1/5] [400/782] | Loss: 2046.1104 | 5.73 seconds\n",
      "[1/5] [500/782] | Loss: 2044.8304 | 5.80 seconds\n",
      "[1/5] [600/782] | Loss: 2046.0547 | 5.90 seconds\n",
      "[1/5] [700/782] | Loss: 2044.7344 | 5.68 seconds\n",
      "[2/5] [0/782] | Loss: 2045.1733 | 10.71 seconds\n",
      "[2/5] [100/782] | Loss: 2047.8765 | 5.61 seconds\n",
      "[2/5] [200/782] | Loss: 2047.2047 | 5.50 seconds\n",
      "[2/5] [300/782] | Loss: 2047.1049 | 5.54 seconds\n",
      "[2/5] [400/782] | Loss: 2044.8394 | 5.53 seconds\n",
      "[2/5] [500/782] | Loss: 2044.0481 | 5.49 seconds\n",
      "[2/5] [600/782] | Loss: 2044.8923 | 5.52 seconds\n",
      "[2/5] [700/782] | Loss: 2046.7181 | 5.50 seconds\n",
      "[3/5] [0/782] | Loss: 2046.0654 | 11.58 seconds\n",
      "[3/5] [100/782] | Loss: 2049.0728 | 6.52 seconds\n",
      "[3/5] [200/782] | Loss: 2044.3668 | 6.43 seconds\n",
      "[3/5] [300/782] | Loss: 2048.7395 | 6.02 seconds\n",
      "[3/5] [400/782] | Loss: 2046.8225 | 5.94 seconds\n",
      "[3/5] [500/782] | Loss: 2045.5872 | 5.97 seconds\n",
      "[3/5] [600/782] | Loss: 2046.2101 | 5.96 seconds\n",
      "[3/5] [700/782] | Loss: 2045.1021 | 5.74 seconds\n",
      "[4/5] [0/782] | Loss: 2043.3409 | 10.42 seconds\n",
      "[4/5] [100/782] | Loss: 2045.8042 | 5.25 seconds\n",
      "[4/5] [200/782] | Loss: 2047.8081 | 5.42 seconds\n",
      "[4/5] [300/782] | Loss: 2047.2517 | 5.60 seconds\n",
      "[4/5] [400/782] | Loss: 2047.7638 | 5.55 seconds\n",
      "[4/5] [500/782] | Loss: 2046.8434 | 5.57 seconds\n",
      "[4/5] [600/782] | Loss: 2043.0304 | 5.61 seconds\n",
      "[4/5] [700/782] | Loss: 2047.0706 | 5.65 seconds\n",
      "[5/5] [0/782] | Loss: 2044.0336 | 10.73 seconds\n",
      "[5/5] [100/782] | Loss: 2045.0479 | 5.50 seconds\n",
      "[5/5] [200/782] | Loss: 2044.1493 | 5.62 seconds\n",
      "[5/5] [300/782] | Loss: 2046.5413 | 5.58 seconds\n",
      "[5/5] [400/782] | Loss: 2044.6268 | 5.75 seconds\n",
      "[5/5] [500/782] | Loss: 2046.4904 | 5.72 seconds\n"
     ]
    },
    {
     "ename": "KeyboardInterrupt",
     "evalue": "",
     "output_type": "error",
     "traceback": [
      "\u001b[1;31m---------------------------------------------------------------------------\u001b[0m",
      "\u001b[1;31mKeyboardInterrupt\u001b[0m                         Traceback (most recent call last)",
      "Cell \u001b[1;32mIn[6], line 9\u001b[0m\n\u001b[0;32m      6\u001b[0m max_epochs \u001b[38;5;241m=\u001b[39m \u001b[38;5;241m5\u001b[39m\n\u001b[0;32m      8\u001b[0m \u001b[38;5;28;01mfor\u001b[39;00m epoch \u001b[38;5;129;01min\u001b[39;00m \u001b[38;5;28mrange\u001b[39m(max_epochs):\n\u001b[1;32m----> 9\u001b[0m   \u001b[38;5;28;01mfor\u001b[39;00m idx, data \u001b[38;5;129;01min\u001b[39;00m \u001b[38;5;28menumerate\u001b[39m(train_loader):\n\u001b[0;32m     10\u001b[0m       view1, view2, _ \u001b[38;5;241m=\u001b[39m data\n\u001b[0;32m     11\u001b[0m       view1, view2 \u001b[38;5;241m=\u001b[39m view1\u001b[38;5;241m.\u001b[39mto(device), view2\u001b[38;5;241m.\u001b[39mto(device)\n",
      "File \u001b[1;32mc:\\Users\\Utente\\anaconda3\\envs\\pytorch\\lib\\site-packages\\torch\\utils\\data\\dataloader.py:701\u001b[0m, in \u001b[0;36m_BaseDataLoaderIter.__next__\u001b[1;34m(self)\u001b[0m\n\u001b[0;32m    698\u001b[0m \u001b[38;5;28;01mif\u001b[39;00m \u001b[38;5;28mself\u001b[39m\u001b[38;5;241m.\u001b[39m_sampler_iter \u001b[38;5;129;01mis\u001b[39;00m \u001b[38;5;28;01mNone\u001b[39;00m:\n\u001b[0;32m    699\u001b[0m     \u001b[38;5;66;03m# TODO(https://github.com/pytorch/pytorch/issues/76750)\u001b[39;00m\n\u001b[0;32m    700\u001b[0m     \u001b[38;5;28mself\u001b[39m\u001b[38;5;241m.\u001b[39m_reset()  \u001b[38;5;66;03m# type: ignore[call-arg]\u001b[39;00m\n\u001b[1;32m--> 701\u001b[0m data \u001b[38;5;241m=\u001b[39m \u001b[38;5;28;43mself\u001b[39;49m\u001b[38;5;241;43m.\u001b[39;49m\u001b[43m_next_data\u001b[49m\u001b[43m(\u001b[49m\u001b[43m)\u001b[49m\n\u001b[0;32m    702\u001b[0m \u001b[38;5;28mself\u001b[39m\u001b[38;5;241m.\u001b[39m_num_yielded \u001b[38;5;241m+\u001b[39m\u001b[38;5;241m=\u001b[39m \u001b[38;5;241m1\u001b[39m\n\u001b[0;32m    703\u001b[0m \u001b[38;5;28;01mif\u001b[39;00m (\n\u001b[0;32m    704\u001b[0m     \u001b[38;5;28mself\u001b[39m\u001b[38;5;241m.\u001b[39m_dataset_kind \u001b[38;5;241m==\u001b[39m _DatasetKind\u001b[38;5;241m.\u001b[39mIterable\n\u001b[0;32m    705\u001b[0m     \u001b[38;5;129;01mand\u001b[39;00m \u001b[38;5;28mself\u001b[39m\u001b[38;5;241m.\u001b[39m_IterableDataset_len_called \u001b[38;5;129;01mis\u001b[39;00m \u001b[38;5;129;01mnot\u001b[39;00m \u001b[38;5;28;01mNone\u001b[39;00m\n\u001b[0;32m    706\u001b[0m     \u001b[38;5;129;01mand\u001b[39;00m \u001b[38;5;28mself\u001b[39m\u001b[38;5;241m.\u001b[39m_num_yielded \u001b[38;5;241m>\u001b[39m \u001b[38;5;28mself\u001b[39m\u001b[38;5;241m.\u001b[39m_IterableDataset_len_called\n\u001b[0;32m    707\u001b[0m ):\n",
      "File \u001b[1;32mc:\\Users\\Utente\\anaconda3\\envs\\pytorch\\lib\\site-packages\\torch\\utils\\data\\dataloader.py:1448\u001b[0m, in \u001b[0;36m_MultiProcessingDataLoaderIter._next_data\u001b[1;34m(self)\u001b[0m\n\u001b[0;32m   1445\u001b[0m     \u001b[38;5;28;01mreturn\u001b[39;00m \u001b[38;5;28mself\u001b[39m\u001b[38;5;241m.\u001b[39m_process_data(data)\n\u001b[0;32m   1447\u001b[0m \u001b[38;5;28;01massert\u001b[39;00m \u001b[38;5;129;01mnot\u001b[39;00m \u001b[38;5;28mself\u001b[39m\u001b[38;5;241m.\u001b[39m_shutdown \u001b[38;5;129;01mand\u001b[39;00m \u001b[38;5;28mself\u001b[39m\u001b[38;5;241m.\u001b[39m_tasks_outstanding \u001b[38;5;241m>\u001b[39m \u001b[38;5;241m0\u001b[39m\n\u001b[1;32m-> 1448\u001b[0m idx, data \u001b[38;5;241m=\u001b[39m \u001b[38;5;28;43mself\u001b[39;49m\u001b[38;5;241;43m.\u001b[39;49m\u001b[43m_get_data\u001b[49m\u001b[43m(\u001b[49m\u001b[43m)\u001b[49m\n\u001b[0;32m   1449\u001b[0m \u001b[38;5;28mself\u001b[39m\u001b[38;5;241m.\u001b[39m_tasks_outstanding \u001b[38;5;241m-\u001b[39m\u001b[38;5;241m=\u001b[39m \u001b[38;5;241m1\u001b[39m\n\u001b[0;32m   1450\u001b[0m \u001b[38;5;28;01mif\u001b[39;00m \u001b[38;5;28mself\u001b[39m\u001b[38;5;241m.\u001b[39m_dataset_kind \u001b[38;5;241m==\u001b[39m _DatasetKind\u001b[38;5;241m.\u001b[39mIterable:\n\u001b[0;32m   1451\u001b[0m     \u001b[38;5;66;03m# Check for _IterableDatasetStopIteration\u001b[39;00m\n",
      "File \u001b[1;32mc:\\Users\\Utente\\anaconda3\\envs\\pytorch\\lib\\site-packages\\torch\\utils\\data\\dataloader.py:1402\u001b[0m, in \u001b[0;36m_MultiProcessingDataLoaderIter._get_data\u001b[1;34m(self)\u001b[0m\n\u001b[0;32m   1400\u001b[0m \u001b[38;5;28;01melif\u001b[39;00m \u001b[38;5;28mself\u001b[39m\u001b[38;5;241m.\u001b[39m_pin_memory:\n\u001b[0;32m   1401\u001b[0m     \u001b[38;5;28;01mwhile\u001b[39;00m \u001b[38;5;28mself\u001b[39m\u001b[38;5;241m.\u001b[39m_pin_memory_thread\u001b[38;5;241m.\u001b[39mis_alive():\n\u001b[1;32m-> 1402\u001b[0m         success, data \u001b[38;5;241m=\u001b[39m \u001b[38;5;28;43mself\u001b[39;49m\u001b[38;5;241;43m.\u001b[39;49m\u001b[43m_try_get_data\u001b[49m\u001b[43m(\u001b[49m\u001b[43m)\u001b[49m\n\u001b[0;32m   1403\u001b[0m         \u001b[38;5;28;01mif\u001b[39;00m success:\n\u001b[0;32m   1404\u001b[0m             \u001b[38;5;28;01mreturn\u001b[39;00m data\n",
      "File \u001b[1;32mc:\\Users\\Utente\\anaconda3\\envs\\pytorch\\lib\\site-packages\\torch\\utils\\data\\dataloader.py:1243\u001b[0m, in \u001b[0;36m_MultiProcessingDataLoaderIter._try_get_data\u001b[1;34m(self, timeout)\u001b[0m\n\u001b[0;32m   1230\u001b[0m \u001b[38;5;28;01mdef\u001b[39;00m \u001b[38;5;21m_try_get_data\u001b[39m(\u001b[38;5;28mself\u001b[39m, timeout\u001b[38;5;241m=\u001b[39m_utils\u001b[38;5;241m.\u001b[39mMP_STATUS_CHECK_INTERVAL):\n\u001b[0;32m   1231\u001b[0m     \u001b[38;5;66;03m# Tries to fetch data from `self._data_queue` once for a given timeout.\u001b[39;00m\n\u001b[0;32m   1232\u001b[0m     \u001b[38;5;66;03m# This can also be used as inner loop of fetching without timeout, with\u001b[39;00m\n\u001b[1;32m   (...)\u001b[0m\n\u001b[0;32m   1240\u001b[0m     \u001b[38;5;66;03m# Returns a 2-tuple:\u001b[39;00m\n\u001b[0;32m   1241\u001b[0m     \u001b[38;5;66;03m#   (bool: whether successfully get data, any: data if successful else None)\u001b[39;00m\n\u001b[0;32m   1242\u001b[0m     \u001b[38;5;28;01mtry\u001b[39;00m:\n\u001b[1;32m-> 1243\u001b[0m         data \u001b[38;5;241m=\u001b[39m \u001b[38;5;28;43mself\u001b[39;49m\u001b[38;5;241;43m.\u001b[39;49m\u001b[43m_data_queue\u001b[49m\u001b[38;5;241;43m.\u001b[39;49m\u001b[43mget\u001b[49m\u001b[43m(\u001b[49m\u001b[43mtimeout\u001b[49m\u001b[38;5;241;43m=\u001b[39;49m\u001b[43mtimeout\u001b[49m\u001b[43m)\u001b[49m\n\u001b[0;32m   1244\u001b[0m         \u001b[38;5;28;01mreturn\u001b[39;00m (\u001b[38;5;28;01mTrue\u001b[39;00m, data)\n\u001b[0;32m   1245\u001b[0m     \u001b[38;5;28;01mexcept\u001b[39;00m \u001b[38;5;167;01mException\u001b[39;00m \u001b[38;5;28;01mas\u001b[39;00m e:\n\u001b[0;32m   1246\u001b[0m         \u001b[38;5;66;03m# At timeout and error, we manually check whether any worker has\u001b[39;00m\n\u001b[0;32m   1247\u001b[0m         \u001b[38;5;66;03m# failed. Note that this is the only mechanism for Windows to detect\u001b[39;00m\n\u001b[0;32m   1248\u001b[0m         \u001b[38;5;66;03m# worker failures.\u001b[39;00m\n",
      "File \u001b[1;32mc:\\Users\\Utente\\anaconda3\\envs\\pytorch\\lib\\queue.py:180\u001b[0m, in \u001b[0;36mQueue.get\u001b[1;34m(self, block, timeout)\u001b[0m\n\u001b[0;32m    178\u001b[0m         \u001b[38;5;28;01mif\u001b[39;00m remaining \u001b[38;5;241m<\u001b[39m\u001b[38;5;241m=\u001b[39m \u001b[38;5;241m0.0\u001b[39m:\n\u001b[0;32m    179\u001b[0m             \u001b[38;5;28;01mraise\u001b[39;00m Empty\n\u001b[1;32m--> 180\u001b[0m         \u001b[38;5;28;43mself\u001b[39;49m\u001b[38;5;241;43m.\u001b[39;49m\u001b[43mnot_empty\u001b[49m\u001b[38;5;241;43m.\u001b[39;49m\u001b[43mwait\u001b[49m\u001b[43m(\u001b[49m\u001b[43mremaining\u001b[49m\u001b[43m)\u001b[49m\n\u001b[0;32m    181\u001b[0m item \u001b[38;5;241m=\u001b[39m \u001b[38;5;28mself\u001b[39m\u001b[38;5;241m.\u001b[39m_get()\n\u001b[0;32m    182\u001b[0m \u001b[38;5;28mself\u001b[39m\u001b[38;5;241m.\u001b[39mnot_full\u001b[38;5;241m.\u001b[39mnotify()\n",
      "File \u001b[1;32mc:\\Users\\Utente\\anaconda3\\envs\\pytorch\\lib\\threading.py:316\u001b[0m, in \u001b[0;36mCondition.wait\u001b[1;34m(self, timeout)\u001b[0m\n\u001b[0;32m    314\u001b[0m \u001b[38;5;28;01melse\u001b[39;00m:\n\u001b[0;32m    315\u001b[0m     \u001b[38;5;28;01mif\u001b[39;00m timeout \u001b[38;5;241m>\u001b[39m \u001b[38;5;241m0\u001b[39m:\n\u001b[1;32m--> 316\u001b[0m         gotit \u001b[38;5;241m=\u001b[39m \u001b[43mwaiter\u001b[49m\u001b[38;5;241;43m.\u001b[39;49m\u001b[43macquire\u001b[49m\u001b[43m(\u001b[49m\u001b[38;5;28;43;01mTrue\u001b[39;49;00m\u001b[43m,\u001b[49m\u001b[43m \u001b[49m\u001b[43mtimeout\u001b[49m\u001b[43m)\u001b[49m\n\u001b[0;32m    317\u001b[0m     \u001b[38;5;28;01melse\u001b[39;00m:\n\u001b[0;32m    318\u001b[0m         gotit \u001b[38;5;241m=\u001b[39m waiter\u001b[38;5;241m.\u001b[39macquire(\u001b[38;5;28;01mFalse\u001b[39;00m)\n",
      "\u001b[1;31mKeyboardInterrupt\u001b[0m: "
     ]
    }
   ],
   "source": [
    "import time\n",
    "import numpy as np\n",
    "\n",
    "start = time.time()\n",
    "losses = []\n",
    "max_epochs = 5\n",
    "\n",
    "for epoch in range(max_epochs):\n",
    "  for idx, data in enumerate(train_loader):\n",
    "      view1, view2, _ = data\n",
    "      view1, view2 = view1.to(device), view2.to(device)\n",
    "      # print(view1.shape, view2.shape)\n",
    "\n",
    "      optimizer.zero_grad()\n",
    "      output = model(view1, view2)\n",
    "      features1, features2 = output['view1'], output['view2']\n",
    "      # print(features1.shape, features2.shape)\n",
    "      loss = criterion(features1, features2)\n",
    "      loss.backward()\n",
    "      optimizer.step()\n",
    "\n",
    "      losses.append(loss.detach().cpu().item())\n",
    "\n",
    "      if idx % 100 == 0:\n",
    "          iter_loss = np.mean(losses[-idx:])\n",
    "          print(\"[%d/%d] [%d/%d] | Loss: %.4f | %.2f seconds\"\n",
    "                % (epoch+1, max_epochs, idx, len(train_loader),\n",
    "                    loss.item(), time.time()-start))\n",
    "          start = time.time()"
   ]
  }
 ],
 "metadata": {
  "kernelspec": {
   "display_name": "pytorch",
   "language": "python",
   "name": "python3"
  },
  "language_info": {
   "codemirror_mode": {
    "name": "ipython",
    "version": 3
   },
   "file_extension": ".py",
   "mimetype": "text/x-python",
   "name": "python",
   "nbconvert_exporter": "python",
   "pygments_lexer": "ipython3",
   "version": "3.9.20"
  }
 },
 "nbformat": 4,
 "nbformat_minor": 4
}
